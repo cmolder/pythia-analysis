{
 "cells": [
  {
   "attachments": {},
   "cell_type": "markdown",
   "metadata": {},
   "source": [
    "# load-trace-deltas\n",
    "Analyze the delta patterns present in a load trace, containing both VA and PAs."
   ]
  },
  {
   "cell_type": "code",
   "execution_count": 1,
   "metadata": {},
   "outputs": [],
   "source": [
    "import pandas as pd\n",
    "from functools import partial\n",
    "\n",
    "load_trace_path = '/scratch/cluster/cmolder/pythia/degree1_baseline/load_traces/libquantum_1210B_l2c.csv'"
   ]
  },
  {
   "cell_type": "code",
   "execution_count": 2,
   "metadata": {},
   "outputs": [
    {
     "data": {
      "text/html": [
       "<div>\n",
       "<style scoped>\n",
       "    .dataframe tbody tr th:only-of-type {\n",
       "        vertical-align: middle;\n",
       "    }\n",
       "\n",
       "    .dataframe tbody tr th {\n",
       "        vertical-align: top;\n",
       "    }\n",
       "\n",
       "    .dataframe thead th {\n",
       "        text-align: right;\n",
       "    }\n",
       "</style>\n",
       "<table border=\"1\" class=\"dataframe\">\n",
       "  <thead>\n",
       "    <tr style=\"text-align: right;\">\n",
       "      <th></th>\n",
       "      <th>curr_cycle</th>\n",
       "      <th>address</th>\n",
       "      <th>phy_address</th>\n",
       "      <th>pc</th>\n",
       "      <th>cache_hit</th>\n",
       "      <th>address_line</th>\n",
       "      <th>phy_address_line</th>\n",
       "    </tr>\n",
       "    <tr>\n",
       "      <th>instr_id</th>\n",
       "      <th></th>\n",
       "      <th></th>\n",
       "      <th></th>\n",
       "      <th></th>\n",
       "      <th></th>\n",
       "      <th></th>\n",
       "      <th></th>\n",
       "    </tr>\n",
       "  </thead>\n",
       "  <tbody>\n",
       "    <tr>\n",
       "      <th>200000005</th>\n",
       "      <td>85279257</td>\n",
       "      <td>1039045056</td>\n",
       "      <td>3705831872</td>\n",
       "      <td>4202244</td>\n",
       "      <td>0</td>\n",
       "      <td>16235079</td>\n",
       "      <td>57903623</td>\n",
       "    </tr>\n",
       "    <tr>\n",
       "      <th>200000041</th>\n",
       "      <td>85279285</td>\n",
       "      <td>1039045120</td>\n",
       "      <td>3705831936</td>\n",
       "      <td>4202244</td>\n",
       "      <td>0</td>\n",
       "      <td>16235080</td>\n",
       "      <td>57903624</td>\n",
       "    </tr>\n",
       "    <tr>\n",
       "      <th>200000077</th>\n",
       "      <td>85279301</td>\n",
       "      <td>1039045184</td>\n",
       "      <td>3705832000</td>\n",
       "      <td>4202244</td>\n",
       "      <td>0</td>\n",
       "      <td>16235081</td>\n",
       "      <td>57903625</td>\n",
       "    </tr>\n",
       "    <tr>\n",
       "      <th>200000113</th>\n",
       "      <td>85279317</td>\n",
       "      <td>1039045248</td>\n",
       "      <td>3705832064</td>\n",
       "      <td>4202244</td>\n",
       "      <td>0</td>\n",
       "      <td>16235082</td>\n",
       "      <td>57903626</td>\n",
       "    </tr>\n",
       "    <tr>\n",
       "      <th>200000149</th>\n",
       "      <td>85279448</td>\n",
       "      <td>1039045312</td>\n",
       "      <td>3705832128</td>\n",
       "      <td>4202244</td>\n",
       "      <td>0</td>\n",
       "      <td>16235083</td>\n",
       "      <td>57903627</td>\n",
       "    </tr>\n",
       "    <tr>\n",
       "      <th>...</th>\n",
       "      <td>...</td>\n",
       "      <td>...</td>\n",
       "      <td>...</td>\n",
       "      <td>...</td>\n",
       "      <td>...</td>\n",
       "      <td>...</td>\n",
       "      <td>...</td>\n",
       "    </tr>\n",
       "    <tr>\n",
       "      <th>249999993</th>\n",
       "      <td>170191091</td>\n",
       "      <td>400370688</td>\n",
       "      <td>307522560</td>\n",
       "      <td>4202036</td>\n",
       "      <td>0</td>\n",
       "      <td>6255792</td>\n",
       "      <td>4805040</td>\n",
       "    </tr>\n",
       "    <tr>\n",
       "      <th>250000021</th>\n",
       "      <td>170191103</td>\n",
       "      <td>400370752</td>\n",
       "      <td>307522624</td>\n",
       "      <td>4202036</td>\n",
       "      <td>0</td>\n",
       "      <td>6255793</td>\n",
       "      <td>4805041</td>\n",
       "    </tr>\n",
       "    <tr>\n",
       "      <th>250000049</th>\n",
       "      <td>170191122</td>\n",
       "      <td>400370816</td>\n",
       "      <td>307522688</td>\n",
       "      <td>4202036</td>\n",
       "      <td>0</td>\n",
       "      <td>6255794</td>\n",
       "      <td>4805042</td>\n",
       "    </tr>\n",
       "    <tr>\n",
       "      <th>250000077</th>\n",
       "      <td>170191130</td>\n",
       "      <td>400370880</td>\n",
       "      <td>307522752</td>\n",
       "      <td>4202036</td>\n",
       "      <td>0</td>\n",
       "      <td>6255795</td>\n",
       "      <td>4805043</td>\n",
       "    </tr>\n",
       "    <tr>\n",
       "      <th>250000105</th>\n",
       "      <td>170191136</td>\n",
       "      <td>400370944</td>\n",
       "      <td>307522816</td>\n",
       "      <td>4202036</td>\n",
       "      <td>0</td>\n",
       "      <td>6255796</td>\n",
       "      <td>4805044</td>\n",
       "    </tr>\n",
       "  </tbody>\n",
       "</table>\n",
       "<p>1380932 rows × 7 columns</p>\n",
       "</div>"
      ],
      "text/plain": [
       "           curr_cycle     address  phy_address       pc  cache_hit  \\\n",
       "instr_id                                                             \n",
       "200000005    85279257  1039045056   3705831872  4202244          0   \n",
       "200000041    85279285  1039045120   3705831936  4202244          0   \n",
       "200000077    85279301  1039045184   3705832000  4202244          0   \n",
       "200000113    85279317  1039045248   3705832064  4202244          0   \n",
       "200000149    85279448  1039045312   3705832128  4202244          0   \n",
       "...               ...         ...          ...      ...        ...   \n",
       "249999993   170191091   400370688    307522560  4202036          0   \n",
       "250000021   170191103   400370752    307522624  4202036          0   \n",
       "250000049   170191122   400370816    307522688  4202036          0   \n",
       "250000077   170191130   400370880    307522752  4202036          0   \n",
       "250000105   170191136   400370944    307522816  4202036          0   \n",
       "\n",
       "           address_line  phy_address_line  \n",
       "instr_id                                   \n",
       "200000005      16235079          57903623  \n",
       "200000041      16235080          57903624  \n",
       "200000077      16235081          57903625  \n",
       "200000113      16235082          57903626  \n",
       "200000149      16235083          57903627  \n",
       "...                 ...               ...  \n",
       "249999993       6255792           4805040  \n",
       "250000021       6255793           4805041  \n",
       "250000049       6255794           4805042  \n",
       "250000077       6255795           4805043  \n",
       "250000105       6255796           4805044  \n",
       "\n",
       "[1380932 rows x 7 columns]"
      ]
     },
     "execution_count": 2,
     "metadata": {},
     "output_type": "execute_result"
    }
   ],
   "source": [
    "converters = {\n",
    "    'address': partial(int, base=16),\n",
    "    'phy_address': partial(int, base=16),\n",
    "    'pc': partial(int, base=16),\n",
    "}\n",
    "\n",
    "load_trace = pd.read_csv(load_trace_path, converters=converters, index_col='instr_id')\n",
    "load_trace.sort_index(inplace=True)\n",
    "load_trace['address_line'] = (load_trace['address'].apply(lambda x: x >> 6))\n",
    "load_trace['phy_address_line'] = (load_trace['phy_address'].apply(lambda x: x >> 6))\n",
    "load_trace"
   ]
  },
  {
   "cell_type": "code",
   "execution_count": 58,
   "metadata": {},
   "outputs": [
    {
     "data": {
      "text/plain": [
       " 1.0     1359334\n",
       " 64.0      10879\n",
       "-64.0      10718\n",
       "Name: address_line, dtype: int64"
      ]
     },
     "execution_count": 58,
     "metadata": {},
     "output_type": "execute_result"
    }
   ],
   "source": [
    "val_deltas = load_trace['address_line'].diff().dropna()\n",
    "val_deltas = val_deltas.clip(-64, 64) # Clip large deltas\n",
    "val_deltas.value_counts()"
   ]
  },
  {
   "cell_type": "code",
   "execution_count": 59,
   "metadata": {},
   "outputs": [
    {
     "data": {
      "text/plain": [
       " 1.0     1359334\n",
       "-64.0      10868\n",
       " 64.0      10729\n",
       "Name: phy_address_line, dtype: int64"
      ]
     },
     "execution_count": 59,
     "metadata": {},
     "output_type": "execute_result"
    }
   ],
   "source": [
    "pal_deltas = load_trace['phy_address_line'].diff().dropna()\n",
    "pal_deltas = pal_deltas.clip(-64, 64) # Clip large deltas\n",
    "pal_deltas.value_counts()"
   ]
  }
 ],
 "metadata": {
  "kernelspec": {
   "display_name": "jupyter",
   "language": "python",
   "name": "python3"
  },
  "language_info": {
   "codemirror_mode": {
    "name": "ipython",
    "version": 3
   },
   "file_extension": ".py",
   "mimetype": "text/x-python",
   "name": "python",
   "nbconvert_exporter": "python",
   "pygments_lexer": "ipython3",
   "version": "3.10.6"
  },
  "orig_nbformat": 4,
  "vscode": {
   "interpreter": {
    "hash": "3d4e80534d3e4c2bdec15a022c2d21fc5379936002f3b814073bde806635ec43"
   }
  }
 },
 "nbformat": 4,
 "nbformat_minor": 2
}
