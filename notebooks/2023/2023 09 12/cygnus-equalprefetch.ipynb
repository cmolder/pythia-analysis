{
 "cells": [
  {
   "attachments": {},
   "cell_type": "markdown",
   "id": "1f32d007-7217-4c39-857d-c3aa404bbb49",
   "metadata": {},
   "source": [
    "# cygnus-equalprefetch\n",
    "9/12/2023\n",
    "\n",
    "Compare Cygnus and Pythia at fixed degrees, with few/no optimizations enabled.\n",
    "- Pythia\n",
    "- Cygnus-Depth\n",
    "- Cygnus-Width\n",
    "- *Degrees*: 1, 2, 4\n",
    "- *Binary*: `cygnus` (Arm core with fast DRAM) to avoid having memory be a bottleneck"
   ]
  },
  {
   "cell_type": "code",
   "execution_count": 1,
   "id": "cbe3c31c-50fb-4536-a0f8-ed9e058e2a95",
   "metadata": {},
   "outputs": [],
   "source": [
    "import os\n",
    "import sys\n",
    "sys.path.append(os.path.abspath(\"../../\"))\n",
    "\n",
    "from collections import defaultdict\n",
    "from importlib import reload\n",
    "from matplotlib import colormaps\n",
    "import pandas as pd\n",
    "# from utils import plots, stats, tables, utils\n",
    "\n",
    "from plot_utils import collate, plot"
   ]
  },
  {
   "attachments": {},
   "cell_type": "markdown",
   "id": "8cc3d1bb",
   "metadata": {},
   "source": [
    "# Configuration"
   ]
  },
  {
   "cell_type": "code",
   "execution_count": 2,
   "id": "60bd6d6b-7187-4150-96c2-3f6767b0889d",
   "metadata": {},
   "outputs": [],
   "source": [
    "sim_dir = \"/u/cmolder/GitHub/ChampSim/sim/cygnus\" # cygnus binary\n",
    "baseline_study = \"stu_prefetchers\"\n",
    "baseline_experiment = \"_baseline\"\n",
    "weights_path = \"/u/cmolder/GitHub/ChampSim/naboo/conf/weights.toml\"\n",
    "\n",
    "suites = [\n",
    "    \"spec06\",\n",
    "    \"spec17\",\n",
    "    \"cloudsuite\",\n",
    "    \"gap\",\n",
    "    \"gap_real\"\n",
    "]\n",
    "stats  = [\n",
    "    \"cpu.gmean.ipc_improvement\",\n",
    "]\n",
    "dpi = 150"
   ]
  },
  {
   "cell_type": "code",
   "execution_count": 3,
   "id": "3cf53f05",
   "metadata": {},
   "outputs": [
    {
     "name": "stderr",
     "output_type": "stream",
     "text": [
      "\u001b[34;49m[ipykernel_launcher][angrist-3]\u001b[0m Reading study files: 100%|██████████| 2952/2952 [00:37<00:00, 79.38file/s] \n"
     ]
    },
    {
     "name": "stdout",
     "output_type": "stream",
     "text": [
      "\u001b[34;49m[ipykernel_launcher][angrist-3]\u001b[0m Generating benchmark stats for 121 benchmarks over 9 experiments:\n",
      "    Benchmarks : bfs__amazon-2008.mtx 605.mcf pr__wikipedia-20051105.mtx bc__sx-stackoverflow_C2Q.mtx sphinx3 bfs__netherlands_osm.mtx pr__com-Youtube.mtx pr__coAuthorsDBLP.mtx bc__coAuthorsDBLP.mtx bc__coPapersDBLP.mtx 623.xalancbmk cc delta bfs__dblp-2010.mtx pr__wikipedia-20060925.mtx bc__amazon0601.mtx merced bfs__amazon0601.mtx bfs__coAuthorsCiteseer.mtx omnetpp 649.fotonik3d sssp bc__sx-stackoverflow_A2Q.mtx charlie bc__com-Youtube.mtx pr__dblp-2010.mtx lbm cc__citationCiteseer.mtx bc__wikipedia-20051105.mtx cc__netherlands_osm.mtx bc__netherlands_osm.mtx libquantum cc__coPapersDBLP.mtx bfs__in-2004.mtx pr__web-Google.mtx classifcation bc__wiki-topcats.mtx cc__sx-stackoverflow.mtx cc__soc-LiveJournal1.mtx bfs__belgium_osm.mtx leslie3d pr__cnr-2000.mtx GemsFDTD cassandra pr__soc-LiveJournal1.mtx 619.lbm pr__coPapersCiteseer.mtx pr__sx-stackoverflow.mtx mcf bc__sx-stackoverflow.mtx cc__amazon0601.mtx 627.cam4 pr gcc cc__sx-stackoverflow_C2Q.mtx cc__wiki-topcats.mtx astar bwaves pr__flickr.mtx bc__belgium_osm.mtx 620.omnetpp bc__web-Google.mtx whiskey cloud9 pr__amazon0601.mtx cc__sx-stackoverflow_C2A.mtx pr__coAuthorsCiteseer.mtx pr__amazon-2008.mtx bc__luxembourg_osm.mtx bfs__sx-stackoverflow_C2A.mtx pr__sx-stackoverflow_C2A.mtx bc__dblp-2010.mtx cc__cnr-2000.mtx cactusADM pr__luxembourg_osm.mtx bfs tc pr__netherlands_osm.mtx bc__wikipedia-20060925.mtx cc__belgium_osm.mtx pr__in-2004.mtx cc__sx-stackoverflow_A2Q.mtx cc__wikipedia-20060925.mtx nutch cc__web-Google.mtx bc__sx-stackoverflow_C2A.mtx bc__citationCiteseer.mtx bfs__citationCiteseer.mtx bc__flickr.mtx bc__soc-LiveJournal1.mtx pr__belgium_osm.mtx 628.pop2 bfs__coAuthorsDBLP.mtx cc__com-Youtube.mtx milc cc__in-2004.mtx pr__sx-stackoverflow_C2Q.mtx cc__coPapersCiteseer.mtx zeusmp bfs__sx-stackoverflow_A2Q.mtx pr__citationCiteseer.mtx pr__wiki-topcats.mtx bfs__sx-stackoverflow_C2Q.mtx cc__amazon-2008.mtx bc pr__eu-2005.mtx bc__amazon-2008.mtx bfs__com-Youtube.mtx bc__in-2004.mtx cc__dblp-2010.mtx pr__sx-stackoverflow_A2Q.mtx xalancbmk cc__flickr.mtx cc__wikipedia-20051105.mtx bc__coAuthorsCiteseer.mtx soplex 607.cactuBSSN bc__coPapersCiteseer.mtx pr__coPapersDBLP.mtx 602.gcc bfs__web-Google.mtx\n",
      "    Experiments: pf_pythia__deg2 pf_pythia__deg4 pf_cygnus__deg1 pf_cygnus_depth__deg1 pf_pythia__deg1 pf_cygnus__deg4 pf_cygnus_depth__deg2 pf_cygnus__deg2 pf_cygnus_depth__deg4\n",
      "        \n"
     ]
    },
    {
     "name": "stderr",
     "output_type": "stream",
     "text": [
      "\u001b[34;49m[ipykernel_launcher][angrist-3]\u001b[0m Generating benchmark stats: 100%|██████████| 1089/1089 [00:06<00:00, 175.11it/s]\n"
     ]
    },
    {
     "name": "stdout",
     "output_type": "stream",
     "text": [
      "\u001b[34;49m[ipykernel_launcher][angrist-3]\u001b[0m Generating suite stats for 7 suites over 9 experiments:\n",
      "    Suites     : spec06 spec17 google cloudsuite gap all gap_real\n",
      "    Experiments: pf_pythia__deg2 pf_pythia__deg4 pf_cygnus__deg1 pf_cygnus_depth__deg1 pf_pythia__deg1 pf_cygnus__deg4 pf_cygnus_depth__deg2 pf_cygnus__deg2 pf_cygnus_depth__deg4\n",
      "        \n"
     ]
    },
    {
     "name": "stderr",
     "output_type": "stream",
     "text": [
      "\u001b[34;49m[ipykernel_launcher][angrist-3]\u001b[0m Generating suite stats: 100%|██████████| 63/63 [00:05<00:00, 10.77it/s]\n",
      "\u001b[34;49m[ipykernel_launcher][angrist-3]\u001b[0m Reading study files:  71%|███████   | 925/1312 [00:09<00:03, 113.93file/s]"
     ]
    },
    {
     "name": "stdout",
     "output_type": "stream",
     "text": [
      "\u001b[34;49m[ipykernel_launcher][angrist-3]\u001b[0m /u/cmolder/GitHub/ChampSim/sim/cygnus/stu_prefetchers/pf_cygnus_depth/pr__citationCiteseer.mtx/pr__citationCiteseer.mtx__5200000000.OUT missing key: cpu.cpu0.total_stall_instructions\n",
      "\u001b[34;49m[ipykernel_launcher][angrist-3]\u001b[0m /u/cmolder/GitHub/ChampSim/sim/cygnus/stu_prefetchers/pf_cygnus_depth/pr__citationCiteseer.mtx/pr__citationCiteseer.mtx__5200000000.OUT missing key: cpu.cpu0.total_stall_cycles\n",
      "\u001b[34;49m[ipykernel_launcher][angrist-3]\u001b[0m /u/cmolder/GitHub/ChampSim/sim/cygnus/stu_prefetchers/pf_cygnus_depth/pr__citationCiteseer.mtx/pr__citationCiteseer.mtx__5200000000.OUT missing key: cpu.cpu0.memory_stall_instructions\n",
      "\u001b[34;49m[ipykernel_launcher][angrist-3]\u001b[0m /u/cmolder/GitHub/ChampSim/sim/cygnus/stu_prefetchers/pf_cygnus_depth/pr__citationCiteseer.mtx/pr__citationCiteseer.mtx__5200000000.OUT missing key: cpu.cpu0.memory_stall_cycles\n"
     ]
    },
    {
     "name": "stderr",
     "output_type": "stream",
     "text": [
      "\u001b[34;49m[ipykernel_launcher][angrist-3]\u001b[0m Reading study files: 100%|██████████| 1312/1312 [00:15<00:00, 86.19file/s] \n"
     ]
    },
    {
     "name": "stdout",
     "output_type": "stream",
     "text": [
      "\u001b[34;49m[ipykernel_launcher][angrist-3]\u001b[0m Generating benchmark stats for 121 benchmarks over 4 experiments:\n",
      "    Benchmarks : bfs__amazon-2008.mtx 605.mcf pr__wikipedia-20051105.mtx bc__sx-stackoverflow_C2Q.mtx sphinx3 bfs__netherlands_osm.mtx pr__com-Youtube.mtx pr__coAuthorsDBLP.mtx bc__coAuthorsDBLP.mtx bc__coPapersDBLP.mtx 623.xalancbmk cc delta bfs__dblp-2010.mtx pr__wikipedia-20060925.mtx bc__amazon0601.mtx merced bfs__amazon0601.mtx bfs__coAuthorsCiteseer.mtx omnetpp 649.fotonik3d sssp bc__sx-stackoverflow_A2Q.mtx charlie bc__com-Youtube.mtx pr__dblp-2010.mtx lbm cc__citationCiteseer.mtx bc__wikipedia-20051105.mtx cc__netherlands_osm.mtx bc__netherlands_osm.mtx libquantum cc__coPapersDBLP.mtx bfs__in-2004.mtx pr__web-Google.mtx classifcation bc__wiki-topcats.mtx cc__sx-stackoverflow.mtx cc__soc-LiveJournal1.mtx bfs__belgium_osm.mtx leslie3d pr__cnr-2000.mtx GemsFDTD cassandra pr__soc-LiveJournal1.mtx 619.lbm pr__coPapersCiteseer.mtx pr__sx-stackoverflow.mtx mcf bc__sx-stackoverflow.mtx cc__amazon0601.mtx 627.cam4 pr gcc cc__sx-stackoverflow_C2Q.mtx cc__wiki-topcats.mtx astar bwaves pr__flickr.mtx bc__belgium_osm.mtx 620.omnetpp bc__web-Google.mtx whiskey cloud9 pr__amazon0601.mtx cc__sx-stackoverflow_C2A.mtx pr__coAuthorsCiteseer.mtx pr__amazon-2008.mtx bc__luxembourg_osm.mtx bfs__sx-stackoverflow_C2A.mtx pr__sx-stackoverflow_C2A.mtx bc__dblp-2010.mtx cc__cnr-2000.mtx cactusADM pr__luxembourg_osm.mtx bfs tc pr__netherlands_osm.mtx bc__wikipedia-20060925.mtx cc__belgium_osm.mtx pr__in-2004.mtx cc__sx-stackoverflow_A2Q.mtx cc__wikipedia-20060925.mtx nutch cc__web-Google.mtx bc__sx-stackoverflow_C2A.mtx bc__citationCiteseer.mtx bfs__citationCiteseer.mtx bc__flickr.mtx bc__soc-LiveJournal1.mtx pr__belgium_osm.mtx 628.pop2 bfs__coAuthorsDBLP.mtx cc__com-Youtube.mtx milc cc__in-2004.mtx pr__sx-stackoverflow_C2Q.mtx cc__coPapersCiteseer.mtx zeusmp bfs__sx-stackoverflow_A2Q.mtx pr__citationCiteseer.mtx pr__wiki-topcats.mtx bfs__sx-stackoverflow_C2Q.mtx cc__amazon-2008.mtx bc pr__eu-2005.mtx bc__amazon-2008.mtx bfs__com-Youtube.mtx bc__in-2004.mtx cc__dblp-2010.mtx pr__sx-stackoverflow_A2Q.mtx xalancbmk cc__flickr.mtx cc__wikipedia-20051105.mtx bc__coAuthorsCiteseer.mtx soplex 607.cactuBSSN bc__coPapersCiteseer.mtx pr__coPapersDBLP.mtx 602.gcc bfs__web-Google.mtx\n",
      "    Experiments: pf_cygnus_depth pf_pythia pf_cygnus _baseline\n",
      "        \n"
     ]
    },
    {
     "name": "stderr",
     "output_type": "stream",
     "text": [
      "\u001b[34;49m[ipykernel_launcher][angrist-3]\u001b[0m Generating benchmark stats: 100%|██████████| 484/484 [00:02<00:00, 174.55it/s]\n"
     ]
    },
    {
     "name": "stdout",
     "output_type": "stream",
     "text": [
      "\u001b[34;49m[ipykernel_launcher][angrist-3]\u001b[0m Generating suite stats for 7 suites over 4 experiments:\n",
      "    Suites     : spec06 spec17 google cloudsuite gap all gap_real\n",
      "    Experiments: pf_cygnus_depth pf_pythia pf_cygnus _baseline\n",
      "        \n"
     ]
    },
    {
     "name": "stderr",
     "output_type": "stream",
     "text": [
      "\u001b[34;49m[ipykernel_launcher][angrist-3]\u001b[0m Generating suite stats: 100%|██████████| 28/28 [00:02<00:00,  9.78it/s]\n"
     ]
    }
   ],
   "source": [
    "reload(collate)\n",
    "studies = {\n",
    "    # Baseline\n",
    "    \"stu_equalprefetch\": collate.StudyCollator(sim_dir, \"stu_equalprefetch\", \n",
    "                                               baseline_study=baseline_study, \n",
    "                                               baseline_experiment=baseline_experiment,\n",
    "                                               weights_path=weights_path,\n",
    "                                               experiments = [\"pf_pythia__deg1\", \"pf_pythia__deg2\", \"pf_pythia__deg4\",\n",
    "                                                              \"pf_cygnus__deg1\", \"pf_cygnus__deg2\", \"pf_cygnus__deg4\",\n",
    "                                                              \"pf_cygnus_depth__deg1\", \"pf_cygnus_depth__deg2\", \"pf_cygnus_depth__deg4\"]),\n",
    "    \"stu_prefetchers\": collate.StudyCollator(sim_dir, \"stu_prefetchers\",\n",
    "                                             baseline_study=baseline_study,\n",
    "                                             baseline_experiment=baseline_experiment,\n",
    "                                             weights_path=weights_path,\n",
    "                                             experiments = [\"pf_pythia\", \"pf_cygnus\", \"pf_cygnus_depth\"]),\n",
    "}"
   ]
  },
  {
   "attachments": {},
   "cell_type": "markdown",
   "id": "66bcc90b",
   "metadata": {},
   "source": [
    "# Degree sweep"
   ]
  },
  {
   "cell_type": "code",
   "execution_count": 14,
   "id": "686fd334",
   "metadata": {},
   "outputs": [],
   "source": [
    "degreedyn_1core_df = {\n",
    "    'Cygnus Width-1': studies['stu_equalprefetch']['pf_cygnus__deg1'],\n",
    "    'Cygnus Width-2': studies['stu_equalprefetch']['pf_cygnus__deg2'],\n",
    "    'Cygnus Width-4': studies['stu_equalprefetch']['pf_cygnus__deg4'],\n",
    "    'Cygnus Width-dyn+opt': studies['stu_prefetchers']['pf_cygnus'],\n",
    "    \n",
    "    'Cygnus Depth-1': studies['stu_equalprefetch']['pf_cygnus_depth__deg1'],\n",
    "    'Cygnus Depth-2': studies['stu_equalprefetch']['pf_cygnus_depth__deg2'],\n",
    "    'Cygnus Depth-4': studies['stu_equalprefetch']['pf_cygnus_depth__deg4'],\n",
    "    'Cygnus Depth-dyn+opt': studies['stu_prefetchers']['pf_cygnus_depth'],\n",
    "\n",
    "    'Pythia Depth-1': studies['stu_equalprefetch']['pf_pythia__deg1'],\n",
    "    'Pythia Depth-2': studies['stu_equalprefetch']['pf_pythia__deg2'],\n",
    "    'Pythia Depth-4': studies['stu_equalprefetch']['pf_pythia__deg4'],\n",
    "    'Pythia Depth-dyn+opt': studies['stu_prefetchers']['pf_pythia'],\n",
    "}\n",
    "degreedyn_1core_colors = defaultdict(lambda: None, {\n",
    "    'Cygnus Width-1': colormaps['Set3'](0),\n",
    "    'Cygnus Width-2': colormaps['Set3'](0),\n",
    "    'Cygnus Width-4': colormaps['Set3'](0),\n",
    "    'Cygnus Width-dyn+opt': colormaps['Set3'](0),\n",
    "\n",
    "    'Cygnus Depth-1': colormaps['Set3'](1),\n",
    "    'Cygnus Depth-2': colormaps['Set3'](1),\n",
    "    'Cygnus Depth-4': colormaps['Set3'](1),\n",
    "    'Cygnus Depth-dyn+opt': colormaps['Set3'](1),\n",
    "\n",
    "    'Pythia Depth-1': colormaps['Set3'](2),\n",
    "    'Pythia Depth-2': colormaps['Set3'](2),\n",
    "    'Pythia Depth-4': colormaps['Set3'](2),\n",
    "    'Pythia Depth-dyn+opt': colormaps['Set3'](2),\n",
    "})\n",
    "degreedyn_1core_hatches = defaultdict(lambda: None, {\n",
    "    'Cygnus Width-1': None,\n",
    "    # 'Cygnus Width-2': '/',\n",
    "    # 'Cygnus Width-4': '-',\n",
    "    'Cygnus Width-dyn+opt': 'x',\n",
    "\n",
    "    'Cygnus Depth-1': None,\n",
    "    # 'Cygnus Depth-2': '/',\n",
    "    # 'Cygnus Depth-4': '-',\n",
    "    'Cygnus Depth-dyn+opt': 'x',\n",
    "\n",
    "    'Pythia Depth-1': None,\n",
    "    # 'Pythia Depth-2': '/',\n",
    "    # 'Pythia Depth-4': '-',\n",
    "    'Pythia Depth-dyn+opt': 'x',\n",
    "})\n",
    "\n",
    "degreedyn_1core_legend_kwargs = {\n",
    "    'ncol': 3,\n",
    "    'fontsize': 6.75,\n",
    "    'loc': 'lower center',\n",
    "    'bbox_to_anchor': (0.5, 1.0),\n",
    "    'framealpha': 0,\n",
    "}\n",
    "\n",
    "degreedyn_1core_legend_kwargs_wide = {\n",
    "    'ncol': 6,\n",
    "    'fontsize': 6.75,\n",
    "    'loc': 'lower center',\n",
    "    'bbox_to_anchor': (0.5, 1.0),\n",
    "    'framealpha': 0,\n",
    "}\n",
    "\n",
    "degreedyn_1core_label_kwargs = {\n",
    "    'rotation': 0,\n",
    "    'ha': 'center',\n",
    "    'fontsize': 7,\n",
    "}"
   ]
  },
  {
   "attachments": {},
   "cell_type": "markdown",
   "id": "cf74cd76",
   "metadata": {},
   "source": [
    "## IPC improvement"
   ]
  },
  {
   "cell_type": "code",
   "execution_count": 12,
   "id": "ab48e4fe",
   "metadata": {},
   "outputs": [
    {
     "data": {
      "text/html": [
       "<div>\n",
       "<style scoped>\n",
       "    .dataframe tbody tr th:only-of-type {\n",
       "        vertical-align: middle;\n",
       "    }\n",
       "\n",
       "    .dataframe tbody tr th {\n",
       "        vertical-align: top;\n",
       "    }\n",
       "\n",
       "    .dataframe thead th {\n",
       "        text-align: right;\n",
       "    }\n",
       "</style>\n",
       "<table border=\"1\" class=\"dataframe\">\n",
       "  <thead>\n",
       "    <tr style=\"text-align: right;\">\n",
       "      <th></th>\n",
       "      <th>spec06</th>\n",
       "      <th>spec17</th>\n",
       "      <th>cloudsuite</th>\n",
       "      <th>gap</th>\n",
       "      <th>gap_real</th>\n",
       "      <th>gmean</th>\n",
       "    </tr>\n",
       "  </thead>\n",
       "  <tbody>\n",
       "    <tr>\n",
       "      <th>Cygnus Width-1</th>\n",
       "      <td>31.08</td>\n",
       "      <td>19.76</td>\n",
       "      <td>6.15</td>\n",
       "      <td>22.83</td>\n",
       "      <td>10.99</td>\n",
       "      <td>17.834186</td>\n",
       "    </tr>\n",
       "    <tr>\n",
       "      <th>Cygnus Width-2</th>\n",
       "      <td>37.26</td>\n",
       "      <td>21.26</td>\n",
       "      <td>7.85</td>\n",
       "      <td>26.07</td>\n",
       "      <td>12.66</td>\n",
       "      <td>20.584821</td>\n",
       "    </tr>\n",
       "    <tr>\n",
       "      <th>Cygnus Width-4</th>\n",
       "      <td>36.08</td>\n",
       "      <td>20.38</td>\n",
       "      <td>7.77</td>\n",
       "      <td>27.38</td>\n",
       "      <td>12.37</td>\n",
       "      <td>20.370379</td>\n",
       "    </tr>\n",
       "    <tr>\n",
       "      <th>Cygnus Width-dyn+opt</th>\n",
       "      <td>44.15</td>\n",
       "      <td>23.72</td>\n",
       "      <td>8.17</td>\n",
       "      <td>28.26</td>\n",
       "      <td>13.95</td>\n",
       "      <td>23.036336</td>\n",
       "    </tr>\n",
       "    <tr>\n",
       "      <th>Cygnus Depth-1</th>\n",
       "      <td>31.08</td>\n",
       "      <td>19.76</td>\n",
       "      <td>6.15</td>\n",
       "      <td>22.83</td>\n",
       "      <td>10.99</td>\n",
       "      <td>17.834186</td>\n",
       "    </tr>\n",
       "    <tr>\n",
       "      <th>Cygnus Depth-2</th>\n",
       "      <td>34.14</td>\n",
       "      <td>20.02</td>\n",
       "      <td>6.97</td>\n",
       "      <td>25.34</td>\n",
       "      <td>11.84</td>\n",
       "      <td>19.275749</td>\n",
       "    </tr>\n",
       "    <tr>\n",
       "      <th>Cygnus Depth-4</th>\n",
       "      <td>34.37</td>\n",
       "      <td>19.67</td>\n",
       "      <td>7.20</td>\n",
       "      <td>27.02</td>\n",
       "      <td>11.93</td>\n",
       "      <td>19.635536</td>\n",
       "    </tr>\n",
       "    <tr>\n",
       "      <th>Cygnus Depth-dyn+opt</th>\n",
       "      <td>34.16</td>\n",
       "      <td>20.02</td>\n",
       "      <td>7.03</td>\n",
       "      <td>24.85</td>\n",
       "      <td>12.06</td>\n",
       "      <td>19.246124</td>\n",
       "    </tr>\n",
       "    <tr>\n",
       "      <th>Pythia Depth-1</th>\n",
       "      <td>24.18</td>\n",
       "      <td>14.94</td>\n",
       "      <td>5.63</td>\n",
       "      <td>22.39</td>\n",
       "      <td>10.39</td>\n",
       "      <td>15.291465</td>\n",
       "    </tr>\n",
       "    <tr>\n",
       "      <th>Pythia Depth-2</th>\n",
       "      <td>30.90</td>\n",
       "      <td>18.72</td>\n",
       "      <td>6.53</td>\n",
       "      <td>23.94</td>\n",
       "      <td>11.87</td>\n",
       "      <td>18.078851</td>\n",
       "    </tr>\n",
       "    <tr>\n",
       "      <th>Pythia Depth-4</th>\n",
       "      <td>35.40</td>\n",
       "      <td>20.39</td>\n",
       "      <td>6.94</td>\n",
       "      <td>26.12</td>\n",
       "      <td>12.00</td>\n",
       "      <td>19.748546</td>\n",
       "    </tr>\n",
       "    <tr>\n",
       "      <th>Pythia Depth-dyn+opt</th>\n",
       "      <td>33.41</td>\n",
       "      <td>20.95</td>\n",
       "      <td>6.27</td>\n",
       "      <td>24.58</td>\n",
       "      <td>12.04</td>\n",
       "      <td>19.070800</td>\n",
       "    </tr>\n",
       "  </tbody>\n",
       "</table>\n",
       "</div>"
      ],
      "text/plain": [
       "                      spec06  spec17  cloudsuite    gap  gap_real      gmean\n",
       "Cygnus Width-1         31.08   19.76        6.15  22.83     10.99  17.834186\n",
       "Cygnus Width-2         37.26   21.26        7.85  26.07     12.66  20.584821\n",
       "Cygnus Width-4         36.08   20.38        7.77  27.38     12.37  20.370379\n",
       "Cygnus Width-dyn+opt   44.15   23.72        8.17  28.26     13.95  23.036336\n",
       "Cygnus Depth-1         31.08   19.76        6.15  22.83     10.99  17.834186\n",
       "Cygnus Depth-2         34.14   20.02        6.97  25.34     11.84  19.275749\n",
       "Cygnus Depth-4         34.37   19.67        7.20  27.02     11.93  19.635536\n",
       "Cygnus Depth-dyn+opt   34.16   20.02        7.03  24.85     12.06  19.246124\n",
       "Pythia Depth-1         24.18   14.94        5.63  22.39     10.39  15.291465\n",
       "Pythia Depth-2         30.90   18.72        6.53  23.94     11.87  18.078851\n",
       "Pythia Depth-4         35.40   20.39        6.94  26.12     12.00  19.748546\n",
       "Pythia Depth-dyn+opt   33.41   20.95        6.27  24.58     12.04  19.070800"
      ]
     },
     "execution_count": 12,
     "metadata": {},
     "output_type": "execute_result"
    }
   ],
   "source": [
    "reload(plot)\n",
    "plot.get_suite_table(\n",
    "    degreedyn_1core_df, \"cpu.gmean.ipc_improvement\",\n",
    "    suites=suites, add_mean=True)"
   ]
  },
  {
   "cell_type": "code",
   "execution_count": 15,
   "id": "c0e082ee",
   "metadata": {},
   "outputs": [
    {
     "data": {
      "image/png": "[encoded data removed]",
      "text/plain": [
       "<Figure size 960x518.4 with 1 Axes>"
      ]
     },
     "metadata": {},
     "output_type": "display_data"
    }
   ],
   "source": [
    "reload(plot)\n",
    "plot.plot_suite_statistic(\n",
    "    degreedyn_1core_df, \"cpu.gmean.ipc_improvement\",\n",
    "    suites=suites,\n",
    "    add_mean=True,\n",
    "    colors=degreedyn_1core_colors,\n",
    "    hatches=degreedyn_1core_hatches,\n",
    "    legend_kwargs=degreedyn_1core_legend_kwargs,\n",
    "    label_kwargs=degreedyn_1core_label_kwargs,\n",
    "    add_suptitle=False,\n",
    "    add_xlabel=False,\n",
    "    ylabel='gmean IPC improvement (%)',\n",
    "    ylim=(0, 50),\n",
    "    ytick_distance=5,\n",
    "    dpi=192, figsize=(5, 2.7))"
   ]
  },
  {
   "cell_type": "markdown",
   "id": "ce413bd8",
   "metadata": {},
   "source": [
    "### spec06"
   ]
  },
  {
   "cell_type": "code",
   "execution_count": null,
   "id": "afbb583b",
   "metadata": {},
   "outputs": [],
   "source": [
    "reload(plot)\n",
    "plot.get_benchmark_table(\n",
    "    degreedyn_1core_df, \"spec06\", \"cpu.gmean.ipc_improvement\",\n",
    "    add_mean=True).T"
   ]
  },
  {
   "cell_type": "code",
   "execution_count": null,
   "id": "f333f15b",
   "metadata": {},
   "outputs": [],
   "source": [
    "reload(plot)\n",
    "plot.plot_benchmark_statistic(\n",
    "    degreedyn_1core_df, \"spec06\", \"cpu.gmean.ipc_improvement\",\n",
    "    add_mean=True,\n",
    "    colors=degreedyn_1core_colors,\n",
    "    legend_kwargs=degreedyn_1core_legend_kwargs,\n",
    "    label_kwargs=degreedyn_1core_label_kwargs,\n",
    "    add_suptitle=False,\n",
    "    add_xlabel=False,\n",
    "    ylabel='IPC improvement (%)',\n",
    "    ylim=(0, 120),\n",
    "    ytick_distance=10,\n",
    "    dpi=192, figsize=(10, 3))\n",
    "# import matplotlib.pyplot as plt\n",
    "# plt.savefig('../../cvs/papers/micro-23r/figures/results_summary.pdf')"
   ]
  },
  {
   "cell_type": "markdown",
   "id": "426c96f0",
   "metadata": {},
   "source": [
    "### gap"
   ]
  },
  {
   "cell_type": "code",
   "execution_count": null,
   "id": "fad6a009",
   "metadata": {},
   "outputs": [],
   "source": [
    "reload(plot)\n",
    "plot.get_benchmark_table(\n",
    "    degreedyn_1core_df, \"gap\", \"cpu.gmean.ipc_improvement\",\n",
    "    add_mean=True).T"
   ]
  },
  {
   "cell_type": "code",
   "execution_count": null,
   "id": "5ff97be5",
   "metadata": {},
   "outputs": [],
   "source": [
    "reload(plot)\n",
    "plot.plot_benchmark_statistic(\n",
    "    degreedyn_1core_df, \"gap\", \"cpu.gmean.ipc_improvement\",\n",
    "    add_mean=True,\n",
    "    colors=degreedyn_1core_colors,\n",
    "    legend_kwargs=degreedyn_1core_legend_kwargs,\n",
    "    label_kwargs=degreedyn_1core_label_kwargs,\n",
    "    add_suptitle=False,\n",
    "    add_xlabel=False,\n",
    "    ylabel='IPC improvement (%)',\n",
    "    ylim=(0, 120),\n",
    "    ytick_distance=10,\n",
    "    dpi=192, figsize=(5, 3))\n",
    "# import matplotlib.pyplot as plt\n",
    "# plt.savefig('../../cvs/papers/micro-23r/figures/results_summary.pdf')"
   ]
  },
  {
   "cell_type": "markdown",
   "id": "fedb8e43",
   "metadata": {},
   "source": [
    "### gap_real"
   ]
  },
  {
   "cell_type": "code",
   "execution_count": null,
   "id": "767b1322",
   "metadata": {},
   "outputs": [],
   "source": [
    "reload(plot)\n",
    "pd.set_option('display.max_rows', 500)\n",
    "plot.get_benchmark_table(\n",
    "    degreedyn_1core_df, \"gap_real\", \"cpu.gmean.ipc_improvement\",\n",
    "    add_mean=True).T"
   ]
  },
  {
   "cell_type": "markdown",
   "id": "3cc78cb2",
   "metadata": {},
   "source": [
    "## IPC"
   ]
  },
  {
   "cell_type": "code",
   "execution_count": null,
   "id": "ee2a8c21",
   "metadata": {},
   "outputs": [],
   "source": [
    "degreedyn_1core_df_plus_baseline = {\n",
    "    'Baseline':     studies['stu_prefetchers']['_baseline'],\n",
    "    'Cygnus':       studies['stu_prefetchers']['pf_cygnus'],\n",
    "    'Cygnus Depth': studies['stu_prefetchers']['pf_cygnus_depth'],\n",
    "    'Pythia':       studies['stu_prefetchers']['pf_pythia'],\n",
    "    #'Bingo':   studies['stu_prefetchers']['pf_bingo'],\n",
    "    #'SMS':     studies['stu_prefetchers']['pf_sms'],\n",
    "    #'SPP':     studies['stu_prefetchers']['pf_spp'],\n",
    "    'SPP+PPF': studies['stu_prefetchers']['pf_spp_ppf'],\n",
    "    #'MLOP':    studies['stu_prefetchers']['pf_mlop'],\n",
    "    #'DSPatch': studies['stu_prefetchers']['pf_dspatch'],\n",
    "    'my5':     studies['stu_prefetchers']['pf_my5'],\n",
    "}\n",
    "\n",
    "reload(plot)\n",
    "plot.get_suite_table(\n",
    "    degreedyn_1core_df_plus_baseline, \"cpu.gmean.ipc\",\n",
    "    suites=suites, add_mean=True)"
   ]
  },
  {
   "cell_type": "code",
   "execution_count": null,
   "id": "40b7357a",
   "metadata": {},
   "outputs": [],
   "source": [
    "reload(plot)\n",
    "plot.plot_suite_statistic(\n",
    "    degreedyn_1core_df_plus_baseline, \"cpu.gmean.ipc\",\n",
    "    suites=suites,\n",
    "    add_mean=True,\n",
    "    colors=degreedyn_1core_colors,\n",
    "    legend_kwargs=degreedyn_1core_legend_kwargs,\n",
    "    label_kwargs=degreedyn_1core_label_kwargs,\n",
    "    add_suptitle=False,\n",
    "    add_xlabel=False,\n",
    "    ylabel='gmean IPC',\n",
    "    ylim=(0, 2.0),\n",
    "    ytick_distance=0.2,\n",
    "    dpi=192, figsize=(5, 2.7))"
   ]
  },
  {
   "cell_type": "markdown",
   "id": "7a67507d",
   "metadata": {},
   "source": [
    "### spec06"
   ]
  },
  {
   "cell_type": "code",
   "execution_count": null,
   "id": "1692ad5f",
   "metadata": {},
   "outputs": [],
   "source": [
    "reload(plot)\n",
    "plot.get_benchmark_table(\n",
    "    degreedyn_1core_df_plus_baseline, \"spec06\", \"cpu.gmean.ipc\",\n",
    "    add_mean=True).T"
   ]
  },
  {
   "cell_type": "code",
   "execution_count": null,
   "id": "2926e2a3",
   "metadata": {},
   "outputs": [],
   "source": [
    "reload(plot)\n",
    "plot.plot_benchmark_statistic(\n",
    "    degreedyn_1core_df_plus_baseline, \"spec06\", \"cpu.gmean.ipc\",\n",
    "    add_mean=True,\n",
    "    colors=degreedyn_1core_colors,\n",
    "    legend_kwargs=degreedyn_1core_legend_kwargs,\n",
    "    label_kwargs=degreedyn_1core_label_kwargs,\n",
    "    add_suptitle=False,\n",
    "    add_xlabel=False,\n",
    "    ylabel='IPC',\n",
    "    ylim=(0, 2.5),\n",
    "    ytick_distance=0.2,\n",
    "    dpi=192, figsize=(10, 3))"
   ]
  },
  {
   "cell_type": "markdown",
   "id": "b590435f",
   "metadata": {},
   "source": [
    "## L2C accuracy"
   ]
  },
  {
   "cell_type": "code",
   "execution_count": null,
   "id": "9de93f9b",
   "metadata": {},
   "outputs": [],
   "source": [
    "reload(plot)\n",
    "plot.plot_suite_statistic(\n",
    "    degreedyn_1core_df, \"cache.L2C.amean.pf_timely_accuracy\",\n",
    "    secondary_statistic_name=\"cache.L2C.amean.pf_accuracy\",\n",
    "    colors=degreedyn_1core_colors,\n",
    "    legend_kwargs=degreedyn_1core_legend_kwargs,\n",
    "    label_kwargs=degreedyn_1core_label_kwargs,\n",
    "    add_suptitle=False,\n",
    "    add_xlabel=False,\n",
    "    ylabel='amean L2C prefetch accuracy (%)',\n",
    "    ylim=(0, 100),\n",
    "    ytick_distance=10,\n",
    "    dpi=192, figsize=(5, 2.7))"
   ]
  },
  {
   "cell_type": "markdown",
   "id": "7373f472",
   "metadata": {},
   "source": [
    "### spec06"
   ]
  },
  {
   "cell_type": "code",
   "execution_count": null,
   "id": "f19c751c",
   "metadata": {},
   "outputs": [],
   "source": [
    "reload(plot)\n",
    "plot.get_benchmark_table(\n",
    "    degreedyn_1core_df, \"spec06\", \"cache.L2C.amean.pf_accuracy\",\n",
    "    add_mean=True).T"
   ]
  },
  {
   "cell_type": "code",
   "execution_count": null,
   "id": "0be68d4f",
   "metadata": {},
   "outputs": [],
   "source": [
    "reload(plot)\n",
    "plot.plot_benchmark_statistic(\n",
    "    degreedyn_1core_df, \"spec06\", \"cache.L2C.amean.pf_timely_accuracy\",\n",
    "    secondary_statistic_name=\"cache.L2C.amean.pf_accuracy\",\n",
    "    add_mean=True,\n",
    "    colors=degreedyn_1core_colors,\n",
    "    legend_kwargs=degreedyn_1core_legend_kwargs,\n",
    "    label_kwargs=degreedyn_1core_label_kwargs,\n",
    "    add_suptitle=False,\n",
    "    add_xlabel=False,\n",
    "    ylabel='L2C prefetch accuracy (%)',\n",
    "    ylim=(0, 100),\n",
    "    ytick_distance=10,\n",
    "    dpi=192, figsize=(10, 3))\n"
   ]
  },
  {
   "cell_type": "markdown",
   "id": "9acf478b",
   "metadata": {},
   "source": [
    "## L2C coverage"
   ]
  },
  {
   "cell_type": "code",
   "execution_count": null,
   "id": "f5cb2761",
   "metadata": {},
   "outputs": [],
   "source": [
    "reload(plot)\n",
    "plot.plot_suite_statistic(\n",
    "    degreedyn_1core_df, \"cache.L2C.amean.pf_coverage\",\n",
    "    secondary_statistic_name=\"cache.L2C.amean.pf_untimely_coverage\",\n",
    "    colors=degreedyn_1core_colors,\n",
    "    legend_kwargs=degreedyn_1core_legend_kwargs,\n",
    "    label_kwargs=degreedyn_1core_label_kwargs,\n",
    "    add_suptitle=False,\n",
    "    add_xlabel=False,\n",
    "    ylabel='amean L2C prefetch coverage (%)',\n",
    "    ylim=(0, 100),\n",
    "    ytick_distance=10,\n",
    "    dpi=192, figsize=(5, 2.7))"
   ]
  },
  {
   "cell_type": "markdown",
   "id": "6fd37a0b",
   "metadata": {},
   "source": [
    "### spec06"
   ]
  },
  {
   "cell_type": "code",
   "execution_count": null,
   "id": "b37c945c",
   "metadata": {},
   "outputs": [],
   "source": [
    "reload(plot)\n",
    "plot.get_benchmark_table(\n",
    "    degreedyn_1core_df, \"spec06\", \"cache.L2C.amean.pf_coverage\",\n",
    "    add_mean=True).T"
   ]
  },
  {
   "cell_type": "code",
   "execution_count": null,
   "id": "41bd6c60",
   "metadata": {},
   "outputs": [],
   "source": [
    "reload(plot)\n",
    "plot.plot_benchmark_statistic(\n",
    "    degreedyn_1core_df, \"spec06\", \"cache.L2C.amean.pf_coverage\",\n",
    "    secondary_statistic_name=\"cache.L2C.amean.pf_untimely_coverage\",\n",
    "    add_mean=True,\n",
    "    colors=degreedyn_1core_colors,\n",
    "    legend_kwargs=degreedyn_1core_legend_kwargs,\n",
    "    label_kwargs=degreedyn_1core_label_kwargs,\n",
    "    add_suptitle=False,\n",
    "    add_xlabel=False,\n",
    "    ylabel='L2C prefetch coverage (%)',\n",
    "    ylim=(0, 100),\n",
    "    ytick_distance=10,\n",
    "    dpi=192, figsize=(10, 3))"
   ]
  }
 ],
 "metadata": {
  "kernelspec": {
   "display_name": "Python 3 (ipykernel)",
   "language": "python",
   "name": "python3"
  },
  "language_info": {
   "codemirror_mode": {
    "name": "ipython",
    "version": 3
   },
   "file_extension": ".py",
   "mimetype": "text/x-python",
   "name": "python",
   "nbconvert_exporter": "python",
   "pygments_lexer": "ipython3",
   "version": "3.11.3"
  },
  "vscode": {
   "interpreter": {
    "hash": "3d4e80534d3e4c2bdec15a022c2d21fc5379936002f3b814073bde806635ec43"
   }
  }
 },
 "nbformat": 4,
 "nbformat_minor": 5
}
