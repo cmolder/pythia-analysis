{
 "cells": [
  {
   "attachments": {},
   "cell_type": "markdown",
   "id": "1f32d007-7217-4c39-857d-c3aa404bbb49",
   "metadata": {},
   "source": [
    "# champsim-builds\n",
    "10/17/2023\n",
    "\n",
    "Evaluate prefechers on different ChampSim versions:\n",
    "- 2022 w/ DRAMsim3 DRAM\n",
    "- 2022 w/ ChampSim DRAM\n",
    "- 2023 DRAMsim3\n",
    "- 2023 ChampSim\n",
    "\n",
    "Remove *any* benchmark which causes a deadlock on *any* experiment."
   ]
  },
  {
   "cell_type": "code",
   "execution_count": 1,
   "id": "cbe3c31c-50fb-4536-a0f8-ed9e058e2a95",
   "metadata": {},
   "outputs": [],
   "source": [
    "import os\n",
    "import sys\n",
    "sys.path.append(os.path.abspath(\"../../\"))\n",
    "\n",
    "from collections import defaultdict\n",
    "import copy\n",
    "from importlib import reload\n",
    "import os\n",
    "\n",
    "from matplotlib import colormaps\n",
    "import matplotlib.pyplot as plt\n",
    "import pandas as pd\n",
    "# from utils import plots, stats, tables, utils\n",
    "\n",
    "from plot_utils import collate, plot"
   ]
  },
  {
   "attachments": {},
   "cell_type": "markdown",
   "id": "8cc3d1bb",
   "metadata": {},
   "source": [
    "# Configuration"
   ]
  },
  {
   "cell_type": "code",
   "execution_count": 2,
   "id": "60bd6d6b-7187-4150-96c2-3f6767b0889d",
   "metadata": {},
   "outputs": [],
   "source": [
    "sim_dir = \"/u/cmolder/GitHub/ChampSim/sim/\"\n",
    "baseline_study = \"baseline\"\n",
    "baseline_experiment = \"_baseline\"\n",
    "weights_path = \"/u/cmolder/GitHub/ChampSim/external/naboo/conf/weights_nodeadlock.toml\"\n",
    "\n",
    "suites = [\n",
    "    \"spec06\",\n",
    "    \"spec17\",\n",
    "    \"cloudsuite\",\n",
    "    \"gap\",\n",
    "    \"gap_real\"\n",
    "]\n",
    "stats  = [\n",
    "    \"cpu.gmean.ipc_improvement\",\n",
    "]\n",
    "dpi = 150"
   ]
  },
  {
   "cell_type": "code",
   "execution_count": 3,
   "id": "3cf53f05",
   "metadata": {},
   "outputs": [
    {
     "name": "stderr",
     "output_type": "stream",
     "text": [
      "\u001b[34;49m[ipykernel_launcher][angrist-3]\u001b[0m Reading study files: 100%|██████████| 1498/1498 [00:11<00:00, 129.73file/s]\n"
     ]
    },
    {
     "name": "stdout",
     "output_type": "stream",
     "text": [
      "\u001b[34;49m[ipykernel_launcher][angrist-3]\u001b[0m Generating benchmark stats for 79 benchmarks over 7 experiments:\n",
      "    Benchmarks : omnetpp cc__sx-stackoverflow.mtx pr__netherlands_osm.mtx cc__coPapersCiteseer.mtx gcc sphinx3 cc__netherlands_osm.mtx astar 620.omnetpp cc__amazon0601.mtx libquantum lbm merced soplex bfs__belgium_osm.mtx bfs__netherlands_osm.mtx bwaves bc__sx-stackoverflow.mtx bc__coAuthorsCiteseer.mtx pr__coPapersCiteseer.mtx bc__amazon0601.mtx 605.mcf bc__wikipedia-20060925.mtx bfs__in-2004.mtx 627.cam4 xalancbmk pr__soc-LiveJournal1.mtx bc bc__luxembourg_osm.mtx leslie3d pr__com-Youtube.mtx cc__amazon-2008.mtx pr charlie cassandra cc__belgium_osm.mtx cactusADM bc__com-Youtube.mtx pr__luxembourg_osm.mtx 619.lbm bfs__coAuthorsCiteseer.mtx bc__belgium_osm.mtx cc__com-Youtube.mtx tc zeusmp 649.fotonik3d classifcation pr__belgium_osm.mtx whiskey pr__coAuthorsCiteseer.mtx sssp delta bc__amazon-2008.mtx bfs cc bfs__amazon0601.mtx 623.xalancbmk 607.cactuBSSN bfs__com-Youtube.mtx bc__coPapersCiteseer.mtx cloud9 pr__dblp-2010.mtx cc__wikipedia-20060925.mtx GemsFDTD bfs__dblp-2010.mtx 602.gcc cc__soc-LiveJournal1.mtx mcf bfs__amazon-2008.mtx bc__dblp-2010.mtx cc__cnr-2000.mtx 628.pop2 bc__soc-LiveJournal1.mtx nutch bc__netherlands_osm.mtx cc__dblp-2010.mtx pr__cnr-2000.mtx pr__web-Google.mtx milc\n",
      "    Experiments: spp cygnus_depth cygnus my5 bingo pythia spp_ppf\n",
      "        \n"
     ]
    },
    {
     "name": "stderr",
     "output_type": "stream",
     "text": [
      "\u001b[34;49m[ipykernel_launcher][angrist-3]\u001b[0m Generating benchmark stats: 100%|██████████| 553/553 [00:03<00:00, 151.55it/s]\n"
     ]
    },
    {
     "name": "stdout",
     "output_type": "stream",
     "text": [
      "\u001b[34;49m[ipykernel_launcher][angrist-3]\u001b[0m Generating suite stats for 7 suites over 7 experiments:\n",
      "    Suites     : all cloudsuite gap_real spec17 gap google spec06\n",
      "    Experiments: spp cygnus_depth cygnus my5 bingo pythia spp_ppf\n",
      "        \n"
     ]
    },
    {
     "name": "stderr",
     "output_type": "stream",
     "text": [
      "\u001b[34;49m[ipykernel_launcher][angrist-3]\u001b[0m Generating suite stats: 100%|██████████| 49/49 [00:03<00:00, 15.46it/s]\n",
      "\u001b[34;49m[ipykernel_launcher][angrist-3]\u001b[0m Reading study files: 100%|██████████| 1554/1554 [00:12<00:00, 120.60file/s]\n"
     ]
    },
    {
     "name": "stdout",
     "output_type": "stream",
     "text": [
      "\u001b[34;49m[ipykernel_launcher][angrist-3]\u001b[0m Generating benchmark stats for 82 benchmarks over 7 experiments:\n",
      "    Benchmarks : omnetpp cc__sx-stackoverflow.mtx pr__netherlands_osm.mtx cc__coPapersCiteseer.mtx gcc sphinx3 cc__netherlands_osm.mtx astar 620.omnetpp cc__amazon0601.mtx libquantum pr__sx-stackoverflow.mtx lbm merced soplex bfs__belgium_osm.mtx bfs__netherlands_osm.mtx bwaves bc__sx-stackoverflow.mtx bc__coAuthorsCiteseer.mtx pr__wikipedia-20060925.mtx pr__coPapersCiteseer.mtx 605.mcf bc__wikipedia-20060925.mtx bfs__in-2004.mtx 627.cam4 xalancbmk pr__soc-LiveJournal1.mtx bc__luxembourg_osm.mtx bc leslie3d pr__com-Youtube.mtx cc__amazon-2008.mtx pr charlie cassandra cc__belgium_osm.mtx cactusADM bc__com-Youtube.mtx pr__luxembourg_osm.mtx 619.lbm bfs__coAuthorsCiteseer.mtx bc__belgium_osm.mtx cc__com-Youtube.mtx bfs__web-Google.mtx tc zeusmp 649.fotonik3d classifcation pr__belgium_osm.mtx whiskey pr__coAuthorsCiteseer.mtx sssp bc__web-Google.mtx delta bfs cc bfs__amazon0601.mtx 623.xalancbmk 607.cactuBSSN bfs__com-Youtube.mtx bc__coPapersCiteseer.mtx cloud9 pr__dblp-2010.mtx cc__wikipedia-20060925.mtx GemsFDTD bfs__dblp-2010.mtx 602.gcc cc__soc-LiveJournal1.mtx mcf bfs__amazon-2008.mtx bc__dblp-2010.mtx cc__cnr-2000.mtx 628.pop2 cc__web-Google.mtx bc__soc-LiveJournal1.mtx nutch bc__netherlands_osm.mtx cc__dblp-2010.mtx pr__cnr-2000.mtx pr__web-Google.mtx milc\n",
      "    Experiments: spp cygnus_depth cygnus my5 bingo pythia spp_ppf\n",
      "        \n"
     ]
    },
    {
     "name": "stderr",
     "output_type": "stream",
     "text": [
      "\u001b[34;49m[ipykernel_launcher][angrist-3]\u001b[0m Generating benchmark stats: 100%|██████████| 574/574 [00:03<00:00, 150.92it/s]\n"
     ]
    },
    {
     "name": "stdout",
     "output_type": "stream",
     "text": [
      "\u001b[34;49m[ipykernel_launcher][angrist-3]\u001b[0m Generating suite stats for 7 suites over 7 experiments:\n",
      "    Suites     : all cloudsuite gap_real spec17 gap google spec06\n",
      "    Experiments: spp cygnus_depth cygnus my5 bingo pythia spp_ppf\n",
      "        \n"
     ]
    },
    {
     "name": "stderr",
     "output_type": "stream",
     "text": [
      "\u001b[34;49m[ipykernel_launcher][angrist-3]\u001b[0m Generating suite stats: 100%|██████████| 49/49 [00:03<00:00, 15.50it/s]\n",
      "\u001b[34;49m[ipykernel_launcher][angrist-3]\u001b[0m Reading study files:   5%|▌         | 114/2200 [00:01<00:18, 110.38file/s]"
     ]
    },
    {
     "name": "stdout",
     "output_type": "stream",
     "text": [
      "\u001b[34;49m[ipykernel_launcher][angrist-3]\u001b[0m Skipping /u/cmolder/GitHub/ChampSim/sim/dram_champsim/default_3200/prefetchers/cygnus/bc__sx-stackoverflow.mtx/bc__sx-stackoverflow.mtx__263200000000 because it failed\n"
     ]
    },
    {
     "name": "stderr",
     "output_type": "stream",
     "text": [
      "\u001b[34;49m[ipykernel_launcher][angrist-3]\u001b[0m Reading study files:   9%|▊         | 189/2200 [00:02<00:16, 119.76file/s]"
     ]
    },
    {
     "name": "stdout",
     "output_type": "stream",
     "text": [
      "\u001b[34;49m[ipykernel_launcher][angrist-3]\u001b[0m Skipping /u/cmolder/GitHub/ChampSim/sim/dram_champsim/default_3200/prefetchers/dspatch/pr__soc-LiveJournal1.mtx/pr__soc-LiveJournal1.mtx__687600000000 because it failed\n"
     ]
    },
    {
     "name": "stderr",
     "output_type": "stream",
     "text": [
      "\u001b[34;49m[ipykernel_launcher][angrist-3]\u001b[0m Reading study files:  11%|█         | 241/2200 [00:02<00:17, 114.00file/s]"
     ]
    },
    {
     "name": "stdout",
     "output_type": "stream",
     "text": [
      "\u001b[34;49m[ipykernel_launcher][angrist-3]\u001b[0m Skipping /u/cmolder/GitHub/ChampSim/sim/dram_champsim/default_3200/prefetchers/bingo/bc__soc-LiveJournal1.mtx/bc__soc-LiveJournal1.mtx__478400000000 because it failed\n"
     ]
    },
    {
     "name": "stderr",
     "output_type": "stream",
     "text": [
      "\u001b[34;49m[ipykernel_launcher][angrist-3]\u001b[0m Reading study files:  15%|█▍        | 322/2200 [00:03<00:16, 111.19file/s]"
     ]
    },
    {
     "name": "stdout",
     "output_type": "stream",
     "text": [
      "\u001b[34;49m[ipykernel_launcher][angrist-3]\u001b[0m Skipping /u/cmolder/GitHub/ChampSim/sim/dram_champsim/default_3200/prefetchers/sms/bc__soc-LiveJournal1.mtx/bc__soc-LiveJournal1.mtx__478400000000 because its baseline failed (/u/cmolder/GitHub/ChampSim/sim/dram_champsim/default_3200/baseline/_baseline/bc__soc-LiveJournal1.mtx/bc__soc-LiveJournal1.mtx__478400000000)\n",
      "\u001b[34;49m[ipykernel_launcher][angrist-3]\u001b[0m Skipping /u/cmolder/GitHub/ChampSim/sim/dram_champsim/default_3200/prefetchers/spp/bc/bc because it failed\n"
     ]
    },
    {
     "name": "stderr",
     "output_type": "stream",
     "text": [
      "\u001b[34;49m[ipykernel_launcher][angrist-3]\u001b[0m Reading study files:  18%|█▊        | 395/2200 [00:04<00:14, 122.36file/s]"
     ]
    },
    {
     "name": "stdout",
     "output_type": "stream",
     "text": [
      "\u001b[34;49m[ipykernel_launcher][angrist-3]\u001b[0m Skipping /u/cmolder/GitHub/ChampSim/sim/dram_champsim/default_3200/prefetchers/spp_ppf/bc__soc-LiveJournal1.mtx/bc__soc-LiveJournal1.mtx__478400000000 because its baseline failed (/u/cmolder/GitHub/ChampSim/sim/dram_champsim/default_3200/baseline/_baseline/bc__soc-LiveJournal1.mtx/bc__soc-LiveJournal1.mtx__478400000000)\n",
      "\u001b[34;49m[ipykernel_launcher][angrist-3]\u001b[0m Skipping /u/cmolder/GitHub/ChampSim/sim/dram_champsim/default_3200/prefetchers/sms/bc__sx-stackoverflow.mtx/bc__sx-stackoverflow.mtx__263200000000 because it failed\n"
     ]
    },
    {
     "name": "stderr",
     "output_type": "stream",
     "text": [
      "\u001b[34;49m[ipykernel_launcher][angrist-3]\u001b[0m Reading study files:  21%|██        | 453/2200 [00:04<00:14, 121.61file/s]"
     ]
    },
    {
     "name": "stdout",
     "output_type": "stream",
     "text": [
      "\u001b[34;49m[ipykernel_launcher][angrist-3]\u001b[0m Skipping /u/cmolder/GitHub/ChampSim/sim/dram_champsim/default_3200/prefetchers/spp_ppf/bc__sx-stackoverflow.mtx/bc__sx-stackoverflow.mtx__263200000000 because it failed\n"
     ]
    },
    {
     "name": "stderr",
     "output_type": "stream",
     "text": [
      "\u001b[34;49m[ipykernel_launcher][angrist-3]\u001b[0m Reading study files:  27%|██▋       | 585/2200 [00:05<00:12, 125.03file/s]"
     ]
    },
    {
     "name": "stdout",
     "output_type": "stream",
     "text": [
      "\u001b[34;49m[ipykernel_launcher][angrist-3]\u001b[0m Skipping /u/cmolder/GitHub/ChampSim/sim/dram_champsim/default_3200/prefetchers/mlop/bc__wikipedia-20060925.mtx/bc__wikipedia-20060925.mtx__173600000000 because it failed\n"
     ]
    },
    {
     "name": "stderr",
     "output_type": "stream",
     "text": [
      "\u001b[34;49m[ipykernel_launcher][angrist-3]\u001b[0m Reading study files:  30%|██▉       | 653/2200 [00:06<00:13, 114.08file/s]"
     ]
    },
    {
     "name": "stdout",
     "output_type": "stream",
     "text": [
      "\u001b[34;49m[ipykernel_launcher][angrist-3]\u001b[0m Skipping /u/cmolder/GitHub/ChampSim/sim/dram_champsim/default_3200/prefetchers/my5/bc__sx-stackoverflow.mtx/bc__sx-stackoverflow.mtx__263200000000 because it failed\n"
     ]
    },
    {
     "name": "stderr",
     "output_type": "stream",
     "text": [
      "\u001b[34;49m[ipykernel_launcher][angrist-3]\u001b[0m Reading study files:  32%|███▏      | 694/2200 [00:06<00:11, 129.03file/s]"
     ]
    },
    {
     "name": "stdout",
     "output_type": "stream",
     "text": [
      "\u001b[34;49m[ipykernel_launcher][angrist-3]\u001b[0m Skipping /u/cmolder/GitHub/ChampSim/sim/dram_champsim/default_3200/prefetchers/bingo/bc__sx-stackoverflow.mtx/bc__sx-stackoverflow.mtx__263200000000 because it failed\n",
      "\u001b[34;49m[ipykernel_launcher][angrist-3]\u001b[0m Skipping /u/cmolder/GitHub/ChampSim/sim/dram_champsim/default_3200/prefetchers/my5/bc__sx-stackoverflow.mtx/bc__sx-stackoverflow.mtx__248800000000 because it failed\n"
     ]
    },
    {
     "name": "stderr",
     "output_type": "stream",
     "text": [
      "\u001b[34;49m[ipykernel_launcher][angrist-3]\u001b[0m Reading study files:  41%|████      | 900/2200 [00:08<00:10, 120.43file/s]"
     ]
    },
    {
     "name": "stdout",
     "output_type": "stream",
     "text": [
      "\u001b[34;49m[ipykernel_launcher][angrist-3]\u001b[0m Skipping /u/cmolder/GitHub/ChampSim/sim/dram_champsim/default_3200/prefetchers/cygnus/bc__sx-stackoverflow.mtx/bc__sx-stackoverflow.mtx__248800000000 because it failed\n"
     ]
    },
    {
     "name": "stderr",
     "output_type": "stream",
     "text": [
      "\u001b[34;49m[ipykernel_launcher][angrist-3]\u001b[0m Reading study files:  43%|████▎     | 943/2200 [00:08<00:10, 123.48file/s]"
     ]
    },
    {
     "name": "stdout",
     "output_type": "stream",
     "text": [
      "\u001b[34;49m[ipykernel_launcher][angrist-3]\u001b[0m Skipping /u/cmolder/GitHub/ChampSim/sim/dram_champsim/default_3200/prefetchers/dspatch/soplex/soplex_66B because it failed\n"
     ]
    },
    {
     "name": "stderr",
     "output_type": "stream",
     "text": [
      "\u001b[34;49m[ipykernel_launcher][angrist-3]\u001b[0m Reading study files:  47%|████▋     | 1028/2200 [00:09<00:09, 128.71file/s]"
     ]
    },
    {
     "name": "stdout",
     "output_type": "stream",
     "text": [
      "\u001b[34;49m[ipykernel_launcher][angrist-3]\u001b[0m Skipping /u/cmolder/GitHub/ChampSim/sim/dram_champsim/default_3200/prefetchers/spp/bc__soc-LiveJournal1.mtx/bc__soc-LiveJournal1.mtx__290000000000 because it failed\n"
     ]
    },
    {
     "name": "stderr",
     "output_type": "stream",
     "text": [
      "\u001b[34;49m[ipykernel_launcher][angrist-3]\u001b[0m Reading study files:  48%|████▊     | 1057/2200 [00:09<00:09, 125.30file/s]"
     ]
    },
    {
     "name": "stdout",
     "output_type": "stream",
     "text": [
      "\u001b[34;49m[ipykernel_launcher][angrist-3]\u001b[0m Skipping /u/cmolder/GitHub/ChampSim/sim/dram_champsim/default_3200/prefetchers/pythia/bc__soc-LiveJournal1.mtx/bc__soc-LiveJournal1.mtx__478400000000 because its baseline failed (/u/cmolder/GitHub/ChampSim/sim/dram_champsim/default_3200/baseline/_baseline/bc__soc-LiveJournal1.mtx/bc__soc-LiveJournal1.mtx__478400000000)\n"
     ]
    },
    {
     "name": "stderr",
     "output_type": "stream",
     "text": [
      "\u001b[34;49m[ipykernel_launcher][angrist-3]\u001b[0m Reading study files:  49%|████▉     | 1082/2200 [00:10<00:09, 112.23file/s]"
     ]
    },
    {
     "name": "stdout",
     "output_type": "stream",
     "text": [
      "\u001b[34;49m[ipykernel_launcher][angrist-3]\u001b[0m Skipping /u/cmolder/GitHub/ChampSim/sim/dram_champsim/default_3200/prefetchers/dspatch/cc__com-Youtube.mtx/cc__com-Youtube.mtx__11200000000 because it failed\n"
     ]
    },
    {
     "name": "stderr",
     "output_type": "stream",
     "text": [
      "\u001b[34;49m[ipykernel_launcher][angrist-3]\u001b[0m Reading study files:  51%|█████     | 1125/2200 [00:10<00:08, 122.98file/s]"
     ]
    },
    {
     "name": "stdout",
     "output_type": "stream",
     "text": [
      "\u001b[34;49m[ipykernel_launcher][angrist-3]\u001b[0m Skipping /u/cmolder/GitHub/ChampSim/sim/dram_champsim/default_3200/prefetchers/dspatch/bc__soc-LiveJournal1.mtx/bc__soc-LiveJournal1.mtx__478400000000 because its baseline failed (/u/cmolder/GitHub/ChampSim/sim/dram_champsim/default_3200/baseline/_baseline/bc__soc-LiveJournal1.mtx/bc__soc-LiveJournal1.mtx__478400000000)\n"
     ]
    },
    {
     "name": "stderr",
     "output_type": "stream",
     "text": [
      "\u001b[34;49m[ipykernel_launcher][angrist-3]\u001b[0m Reading study files:  57%|█████▋    | 1255/2200 [00:11<00:09, 104.60file/s]"
     ]
    },
    {
     "name": "stdout",
     "output_type": "stream",
     "text": [
      "\u001b[34;49m[ipykernel_launcher][angrist-3]\u001b[0m Skipping /u/cmolder/GitHub/ChampSim/sim/dram_champsim/default_3200/prefetchers/spp/bc__sx-stackoverflow.mtx/bc__sx-stackoverflow.mtx__263200000000 because it failed\n",
      "\u001b[34;49m[ipykernel_launcher][angrist-3]\u001b[0m Skipping /u/cmolder/GitHub/ChampSim/sim/dram_champsim/default_3200/prefetchers/dspatch/bc__sx-stackoverflow.mtx/bc__sx-stackoverflow.mtx__248800000000 because it failed\n",
      "\u001b[34;49m[ipykernel_launcher][angrist-3]\u001b[0m Skipping /u/cmolder/GitHub/ChampSim/sim/dram_champsim/default_3200/prefetchers/mlop/pr__soc-LiveJournal1.mtx/pr__soc-LiveJournal1.mtx__687600000000 because it failed\n"
     ]
    },
    {
     "name": "stderr",
     "output_type": "stream",
     "text": [
      "\u001b[34;49m[ipykernel_launcher][angrist-3]\u001b[0m Reading study files:  62%|██████▏   | 1365/2200 [00:12<00:06, 120.63file/s]"
     ]
    },
    {
     "name": "stdout",
     "output_type": "stream",
     "text": [
      "\u001b[34;49m[ipykernel_launcher][angrist-3]\u001b[0m Skipping /u/cmolder/GitHub/ChampSim/sim/dram_champsim/default_3200/prefetchers/dspatch/bc__sx-stackoverflow.mtx/bc__sx-stackoverflow.mtx__263200000000 because its baseline failed (/u/cmolder/GitHub/ChampSim/sim/dram_champsim/default_3200/baseline/_baseline/bc__sx-stackoverflow.mtx/bc__sx-stackoverflow.mtx__263200000000)\n",
      "\u001b[34;49m[ipykernel_launcher][angrist-3]\u001b[0m Skipping /u/cmolder/GitHub/ChampSim/sim/dram_champsim/default_3200/prefetchers/mlop/bc__sx-stackoverflow.mtx/bc__sx-stackoverflow.mtx__263200000000 because its baseline failed (/u/cmolder/GitHub/ChampSim/sim/dram_champsim/default_3200/baseline/_baseline/bc__sx-stackoverflow.mtx/bc__sx-stackoverflow.mtx__263200000000)\n"
     ]
    },
    {
     "name": "stderr",
     "output_type": "stream",
     "text": [
      "\u001b[34;49m[ipykernel_launcher][angrist-3]\u001b[0m Reading study files:  64%|██████▎   | 1398/2200 [00:12<00:05, 137.51file/s]"
     ]
    },
    {
     "name": "stdout",
     "output_type": "stream",
     "text": [
      "\u001b[34;49m[ipykernel_launcher][angrist-3]\u001b[0m Skipping /u/cmolder/GitHub/ChampSim/sim/dram_champsim/default_3200/prefetchers/cygnus_depth/bc__soc-LiveJournal1.mtx/bc__soc-LiveJournal1.mtx__478400000000 because its baseline failed (/u/cmolder/GitHub/ChampSim/sim/dram_champsim/default_3200/baseline/_baseline/bc__soc-LiveJournal1.mtx/bc__soc-LiveJournal1.mtx__478400000000)\n",
      "\u001b[34;49m[ipykernel_launcher][angrist-3]\u001b[0m Skipping /u/cmolder/GitHub/ChampSim/sim/dram_champsim/default_3200/prefetchers/my5/bc__wikipedia-20060925.mtx/bc__wikipedia-20060925.mtx__173600000000 because it failed\n"
     ]
    },
    {
     "name": "stderr",
     "output_type": "stream",
     "text": [
      "\u001b[34;49m[ipykernel_launcher][angrist-3]\u001b[0m Reading study files:  73%|███████▎  | 1612/2200 [00:14<00:04, 128.94file/s]"
     ]
    },
    {
     "name": "stdout",
     "output_type": "stream",
     "text": [
      "\u001b[34;49m[ipykernel_launcher][angrist-3]\u001b[0m Skipping /u/cmolder/GitHub/ChampSim/sim/dram_champsim/default_3200/prefetchers/sms/pr__soc-LiveJournal1.mtx/pr__soc-LiveJournal1.mtx__687600000000 because it failed\n"
     ]
    },
    {
     "name": "stderr",
     "output_type": "stream",
     "text": [
      "\u001b[34;49m[ipykernel_launcher][angrist-3]\u001b[0m Reading study files:  78%|███████▊  | 1718/2200 [00:15<00:04, 118.89file/s]"
     ]
    },
    {
     "name": "stdout",
     "output_type": "stream",
     "text": [
      "\u001b[34;49m[ipykernel_launcher][angrist-3]\u001b[0m Skipping /u/cmolder/GitHub/ChampSim/sim/dram_champsim/default_3200/prefetchers/mlop/bc__soc-LiveJournal1.mtx/bc__soc-LiveJournal1.mtx__478400000000 because its baseline failed (/u/cmolder/GitHub/ChampSim/sim/dram_champsim/default_3200/baseline/_baseline/bc__soc-LiveJournal1.mtx/bc__soc-LiveJournal1.mtx__478400000000)\n",
      "\u001b[34;49m[ipykernel_launcher][angrist-3]\u001b[0m Skipping /u/cmolder/GitHub/ChampSim/sim/dram_champsim/default_3200/prefetchers/my5/bc__soc-LiveJournal1.mtx/bc__soc-LiveJournal1.mtx__478400000000 because its baseline failed (/u/cmolder/GitHub/ChampSim/sim/dram_champsim/default_3200/baseline/_baseline/bc__soc-LiveJournal1.mtx/bc__soc-LiveJournal1.mtx__478400000000)\n"
     ]
    },
    {
     "name": "stderr",
     "output_type": "stream",
     "text": [
      "\u001b[34;49m[ipykernel_launcher][angrist-3]\u001b[0m Reading study files:  80%|███████▉  | 1750/2200 [00:15<00:03, 120.93file/s]"
     ]
    },
    {
     "name": "stdout",
     "output_type": "stream",
     "text": [
      "\u001b[34;49m[ipykernel_launcher][angrist-3]\u001b[0m Skipping /u/cmolder/GitHub/ChampSim/sim/dram_champsim/default_3200/prefetchers/spp/bc__soc-LiveJournal1.mtx/bc__soc-LiveJournal1.mtx__478400000000 because its baseline failed (/u/cmolder/GitHub/ChampSim/sim/dram_champsim/default_3200/baseline/_baseline/bc__soc-LiveJournal1.mtx/bc__soc-LiveJournal1.mtx__478400000000)\n"
     ]
    },
    {
     "name": "stderr",
     "output_type": "stream",
     "text": [
      "\u001b[34;49m[ipykernel_launcher][angrist-3]\u001b[0m Reading study files:  81%|████████  | 1778/2200 [00:15<00:03, 124.18file/s]"
     ]
    },
    {
     "name": "stdout",
     "output_type": "stream",
     "text": [
      "\u001b[34;49m[ipykernel_launcher][angrist-3]\u001b[0m Skipping /u/cmolder/GitHub/ChampSim/sim/dram_champsim/default_3200/prefetchers/spp/bc__wikipedia-20060925.mtx/bc__wikipedia-20060925.mtx__173600000000 because it failed\n"
     ]
    },
    {
     "name": "stderr",
     "output_type": "stream",
     "text": [
      "\u001b[34;49m[ipykernel_launcher][angrist-3]\u001b[0m Reading study files:  87%|████████▋ | 1910/2200 [00:16<00:02, 119.52file/s]"
     ]
    },
    {
     "name": "stdout",
     "output_type": "stream",
     "text": [
      "\u001b[34;49m[ipykernel_launcher][angrist-3]\u001b[0m Skipping /u/cmolder/GitHub/ChampSim/sim/dram_champsim/default_3200/prefetchers/cygnus_depth/bc__sx-stackoverflow.mtx/bc__sx-stackoverflow.mtx__263200000000 because it failed\n"
     ]
    },
    {
     "name": "stderr",
     "output_type": "stream",
     "text": [
      "\u001b[34;49m[ipykernel_launcher][angrist-3]\u001b[0m Reading study files:  96%|█████████▌| 2117/2200 [00:18<00:00, 131.42file/s]"
     ]
    },
    {
     "name": "stdout",
     "output_type": "stream",
     "text": [
      "\u001b[34;49m[ipykernel_launcher][angrist-3]\u001b[0m Skipping /u/cmolder/GitHub/ChampSim/sim/dram_champsim/default_3200/prefetchers/cygnus/bc__soc-LiveJournal1.mtx/bc__soc-LiveJournal1.mtx__478400000000 because its baseline failed (/u/cmolder/GitHub/ChampSim/sim/dram_champsim/default_3200/baseline/_baseline/bc__soc-LiveJournal1.mtx/bc__soc-LiveJournal1.mtx__478400000000)\n",
      "\u001b[34;49m[ipykernel_launcher][angrist-3]\u001b[0m Skipping /u/cmolder/GitHub/ChampSim/sim/dram_champsim/default_3200/prefetchers/pythia/bc__sx-stackoverflow.mtx/bc__sx-stackoverflow.mtx__263200000000 because it failed\n",
      "\u001b[34;49m[ipykernel_launcher][angrist-3]\u001b[0m Skipping /u/cmolder/GitHub/ChampSim/sim/dram_champsim/default_3200/prefetchers/cygnus_depth/bc__sx-stackoverflow.mtx/bc__sx-stackoverflow.mtx__248800000000 because it failed\n"
     ]
    },
    {
     "name": "stderr",
     "output_type": "stream",
     "text": [
      "\u001b[34;49m[ipykernel_launcher][angrist-3]\u001b[0m Reading study files:  98%|█████████▊| 2149/2200 [00:18<00:00, 137.00file/s]"
     ]
    },
    {
     "name": "stdout",
     "output_type": "stream",
     "text": [
      "\u001b[34;49m[ipykernel_launcher][angrist-3]\u001b[0m Skipping /u/cmolder/GitHub/ChampSim/sim/dram_champsim/default_3200/prefetchers/spp/bc__sx-stackoverflow.mtx/bc__sx-stackoverflow.mtx__248800000000 because it failed\n"
     ]
    },
    {
     "name": "stderr",
     "output_type": "stream",
     "text": [
      "\u001b[34;49m[ipykernel_launcher][angrist-3]\u001b[0m Reading study files: 100%|██████████| 2200/2200 [00:19<00:00, 113.55file/s]\n"
     ]
    },
    {
     "name": "stdout",
     "output_type": "stream",
     "text": [
      "\u001b[34;49m[ipykernel_launcher][angrist-3]\u001b[0m Generating benchmark stats for 80 benchmarks over 10 experiments:\n",
      "    Benchmarks : omnetpp cc__sx-stackoverflow.mtx pr__netherlands_osm.mtx cc__coPapersCiteseer.mtx gcc sphinx3 cc__netherlands_osm.mtx astar 620.omnetpp cc__amazon0601.mtx libquantum merced lbm soplex bfs__belgium_osm.mtx bfs__netherlands_osm.mtx bwaves bc__sx-stackoverflow.mtx bc__coAuthorsCiteseer.mtx pr__coPapersCiteseer.mtx bc__amazon0601.mtx 605.mcf bc__wikipedia-20060925.mtx bfs__in-2004.mtx 627.cam4 xalancbmk pr__soc-LiveJournal1.mtx bc__luxembourg_osm.mtx bc leslie3d pr__com-Youtube.mtx cc__amazon-2008.mtx pr charlie cassandra cc__belgium_osm.mtx cactusADM bc__com-Youtube.mtx pr__luxembourg_osm.mtx 619.lbm bfs__coAuthorsCiteseer.mtx bc__belgium_osm.mtx cc__com-Youtube.mtx tc zeusmp 649.fotonik3d classifcation pr__belgium_osm.mtx whiskey pr__coAuthorsCiteseer.mtx sssp delta bc__amazon-2008.mtx bfs cc bfs__amazon0601.mtx 623.xalancbmk 607.cactuBSSN bfs__com-Youtube.mtx bc__coPapersCiteseer.mtx cloud9 pr__dblp-2010.mtx cc__wikipedia-20060925.mtx GemsFDTD bfs__dblp-2010.mtx streaming 602.gcc cc__soc-LiveJournal1.mtx mcf bfs__amazon-2008.mtx bc__dblp-2010.mtx cc__cnr-2000.mtx 628.pop2 bc__soc-LiveJournal1.mtx nutch bc__netherlands_osm.mtx cc__dblp-2010.mtx pr__web-Google.mtx pr__cnr-2000.mtx milc\n",
      "    Experiments: spp cygnus_depth dspatch cygnus my5 bingo pythia sms mlop spp_ppf\n",
      "        \n"
     ]
    },
    {
     "name": "stderr",
     "output_type": "stream",
     "text": [
      "\u001b[34;49m[ipykernel_launcher][angrist-3]\u001b[0m Generating benchmark stats: 100%|██████████| 800/800 [00:04<00:00, 185.36it/s]\n"
     ]
    },
    {
     "name": "stdout",
     "output_type": "stream",
     "text": [
      "\u001b[34;49m[ipykernel_launcher][angrist-3]\u001b[0m Generating suite stats for 7 suites over 10 experiments:\n",
      "    Suites     : all cloudsuite gap_real spec17 gap google spec06\n",
      "    Experiments: spp cygnus_depth dspatch cygnus my5 bingo pythia sms mlop spp_ppf\n",
      "        \n"
     ]
    },
    {
     "name": "stderr",
     "output_type": "stream",
     "text": [
      "\u001b[34;49m[ipykernel_launcher][angrist-3]\u001b[0m Generating suite stats:   3%|▎         | 2/70 [00:01<00:41,  1.65it/s]"
     ]
    },
    {
     "name": "stdout",
     "output_type": "stream",
     "text": [
      "\u001b[34;49m[ipykernel_launcher][angrist-3]\u001b[0m Skipping benchmark ('spp', 'bc') in suite \"all\" because it is missing results\n",
      "\u001b[34;49m[ipykernel_launcher][angrist-3]\u001b[0m Skipping benchmark ('spp', 'bc') in suite \"gap\" because it is missing results\n"
     ]
    },
    {
     "name": "stderr",
     "output_type": "stream",
     "text": [
      "\u001b[34;49m[ipykernel_launcher][angrist-3]\u001b[0m Generating suite stats: 100%|██████████| 70/70 [00:03<00:00, 17.66it/s]\n",
      "\u001b[34;49m[ipykernel_launcher][angrist-3]\u001b[0m Reading study files:   2%|▏         | 40/2340 [00:01<00:40, 56.74file/s]"
     ]
    },
    {
     "name": "stdout",
     "output_type": "stream",
     "text": [
      "\u001b[34;49m[ipykernel_launcher][angrist-3]\u001b[0m Skipping /u/cmolder/GitHub/ChampSim/sim/dram_dramsim3/default_3200/prefetchers/cygnus/pr__wikipedia-20060925.mtx/pr__wikipedia-20060925.mtx__602800000000 because it failed\n",
      "\u001b[34;49m[ipykernel_launcher][angrist-3]\u001b[0m Skipping /u/cmolder/GitHub/ChampSim/sim/dram_dramsim3/default_3200/prefetchers/cygnus_depth/pr__wikipedia-20060925.mtx/pr__wikipedia-20060925.mtx__226800000000 because it failed\n"
     ]
    },
    {
     "name": "stderr",
     "output_type": "stream",
     "text": [
      "\u001b[34;49m[ipykernel_launcher][angrist-3]\u001b[0m Reading study files:   4%|▍         | 91/2340 [00:01<00:19, 115.76file/s]"
     ]
    },
    {
     "name": "stdout",
     "output_type": "stream",
     "text": [
      "\u001b[34;49m[ipykernel_launcher][angrist-3]\u001b[0m Skipping /u/cmolder/GitHub/ChampSim/sim/dram_dramsim3/default_3200/prefetchers/cygnus/cc__web-Google.mtx/cc__web-Google.mtx__19200000000 because it failed\n",
      "\u001b[34;49m[ipykernel_launcher][angrist-3]\u001b[0m Skipping /u/cmolder/GitHub/ChampSim/sim/dram_dramsim3/default_3200/prefetchers/cygnus/bc__sx-stackoverflow.mtx/bc__sx-stackoverflow.mtx__263200000000 because it failed\n"
     ]
    },
    {
     "name": "stderr",
     "output_type": "stream",
     "text": [
      "\u001b[34;49m[ipykernel_launcher][angrist-3]\u001b[0m Reading study files:   7%|▋         | 172/2340 [00:01<00:13, 162.37file/s]"
     ]
    },
    {
     "name": "stdout",
     "output_type": "stream",
     "text": [
      "\u001b[34;49m[ipykernel_launcher][angrist-3]\u001b[0m Skipping /u/cmolder/GitHub/ChampSim/sim/dram_dramsim3/default_3200/prefetchers/pythia/cc__web-Google.mtx/cc__web-Google.mtx__19200000000 because it failed\n",
      "\u001b[34;49m[ipykernel_launcher][angrist-3]\u001b[0m Skipping /u/cmolder/GitHub/ChampSim/sim/dram_dramsim3/default_3200/prefetchers/spp_ppf/pr__wikipedia-20060925.mtx/pr__wikipedia-20060925.mtx__602800000000 because it failed\n"
     ]
    },
    {
     "name": "stderr",
     "output_type": "stream",
     "text": [
      "\u001b[34;49m[ipykernel_launcher][angrist-3]\u001b[0m Reading study files:   8%|▊         | 190/2340 [00:01<00:13, 162.78file/s]"
     ]
    },
    {
     "name": "stdout",
     "output_type": "stream",
     "text": [
      "\u001b[34;49m[ipykernel_launcher][angrist-3]\u001b[0m Skipping /u/cmolder/GitHub/ChampSim/sim/dram_dramsim3/default_3200/prefetchers/cygnus/bfs__web-Google.mtx/bfs__web-Google.mtx__19200000000 because its baseline failed (/u/cmolder/GitHub/ChampSim/sim/dram_dramsim3/default_3200/baseline/_baseline/bfs__web-Google.mtx/bfs__web-Google.mtx__19200000000)\n"
     ]
    },
    {
     "name": "stderr",
     "output_type": "stream",
     "text": [
      "\u001b[34;49m[ipykernel_launcher][angrist-3]\u001b[0m Reading study files:  11%|█         | 249/2340 [00:02<00:11, 184.88file/s]"
     ]
    },
    {
     "name": "stdout",
     "output_type": "stream",
     "text": [
      "\u001b[34;49m[ipykernel_launcher][angrist-3]\u001b[0m Skipping /u/cmolder/GitHub/ChampSim/sim/dram_dramsim3/default_3200/prefetchers/dspatch/pr__sx-stackoverflow.mtx/pr__sx-stackoverflow.mtx__506400000000 because it failed\n",
      "\u001b[34;49m[ipykernel_launcher][angrist-3]\u001b[0m Skipping /u/cmolder/GitHub/ChampSim/sim/dram_dramsim3/default_3200/prefetchers/dspatch/pr__wikipedia-20060925.mtx/pr__wikipedia-20060925.mtx__226800000000 because it failed\n",
      "\u001b[34;49m[ipykernel_launcher][angrist-3]\u001b[0m Skipping /u/cmolder/GitHub/ChampSim/sim/dram_dramsim3/default_3200/prefetchers/cygnus/pr__wikipedia-20060925.mtx/pr__wikipedia-20060925.mtx__226800000000 because it failed\n"
     ]
    },
    {
     "name": "stderr",
     "output_type": "stream",
     "text": [
      "\u001b[34;49m[ipykernel_launcher][angrist-3]\u001b[0m Reading study files:  14%|█▍        | 328/2340 [00:02<00:11, 178.40file/s]"
     ]
    },
    {
     "name": "stdout",
     "output_type": "stream",
     "text": [
      "\u001b[34;49m[ipykernel_launcher][angrist-3]\u001b[0m Skipping /u/cmolder/GitHub/ChampSim/sim/dram_dramsim3/default_3200/prefetchers/bingo/cc__web-Google.mtx/cc__web-Google.mtx__19200000000 because it failed\n",
      "\u001b[34;49m[ipykernel_launcher][angrist-3]\u001b[0m Skipping /u/cmolder/GitHub/ChampSim/sim/dram_dramsim3/default_3200/prefetchers/dspatch/cc__web-Google.mtx/cc__web-Google.mtx__19200000000 because its baseline failed (/u/cmolder/GitHub/ChampSim/sim/dram_dramsim3/default_3200/baseline/_baseline/cc__web-Google.mtx/cc__web-Google.mtx__19200000000)\n",
      "\u001b[34;49m[ipykernel_launcher][angrist-3]\u001b[0m Skipping /u/cmolder/GitHub/ChampSim/sim/dram_dramsim3/default_3200/prefetchers/cygnus/bc__dblp-2010.mtx/bc__dblp-2010.mtx__3200000000 because it failed\n"
     ]
    },
    {
     "name": "stderr",
     "output_type": "stream",
     "text": [
      "\u001b[34;49m[ipykernel_launcher][angrist-3]\u001b[0m Reading study files:  19%|█▉        | 446/2340 [00:03<00:10, 188.47file/s]"
     ]
    },
    {
     "name": "stdout",
     "output_type": "stream",
     "text": [
      "\u001b[34;49m[ipykernel_launcher][angrist-3]\u001b[0m Skipping /u/cmolder/GitHub/ChampSim/sim/dram_dramsim3/default_3200/prefetchers/mlop/pr__wikipedia-20060925.mtx/pr__wikipedia-20060925.mtx__602800000000 because it failed\n",
      "\u001b[34;49m[ipykernel_launcher][angrist-3]\u001b[0m Skipping /u/cmolder/GitHub/ChampSim/sim/dram_dramsim3/default_3200/prefetchers/sms/bc__sx-stackoverflow.mtx/bc__sx-stackoverflow.mtx__263200000000 because it failed\n",
      "\u001b[34;49m[ipykernel_launcher][angrist-3]\u001b[0m Skipping /u/cmolder/GitHub/ChampSim/sim/dram_dramsim3/default_3200/prefetchers/sms/pr__sx-stackoverflow.mtx/pr__sx-stackoverflow.mtx__506400000000 because it failed\n",
      "\u001b[34;49m[ipykernel_launcher][angrist-3]\u001b[0m Skipping /u/cmolder/GitHub/ChampSim/sim/dram_dramsim3/default_3200/prefetchers/bingo/pr__wikipedia-20060925.mtx/pr__wikipedia-20060925.mtx__602800000000 because it failed\n",
      "\u001b[34;49m[ipykernel_launcher][angrist-3]\u001b[0m Skipping /u/cmolder/GitHub/ChampSim/sim/dram_dramsim3/default_3200/prefetchers/spp_ppf/pr__sx-stackoverflow.mtx/pr__sx-stackoverflow.mtx__506400000000 because it failed\n"
     ]
    },
    {
     "name": "stderr",
     "output_type": "stream",
     "text": [
      "\u001b[34;49m[ipykernel_launcher][angrist-3]\u001b[0m Reading study files:  22%|██▏       | 505/2340 [00:03<00:10, 183.28file/s]"
     ]
    },
    {
     "name": "stdout",
     "output_type": "stream",
     "text": [
      "\u001b[34;49m[ipykernel_launcher][angrist-3]\u001b[0m Skipping /u/cmolder/GitHub/ChampSim/sim/dram_dramsim3/default_3200/prefetchers/spp_ppf/bc__sx-stackoverflow.mtx/bc__sx-stackoverflow.mtx__263200000000 because it failed\n"
     ]
    },
    {
     "name": "stderr",
     "output_type": "stream",
     "text": [
      "\u001b[34;49m[ipykernel_launcher][angrist-3]\u001b[0m Reading study files:  23%|██▎       | 542/2340 [00:03<00:10, 168.77file/s]"
     ]
    },
    {
     "name": "stdout",
     "output_type": "stream",
     "text": [
      "\u001b[34;49m[ipykernel_launcher][angrist-3]\u001b[0m Skipping /u/cmolder/GitHub/ChampSim/sim/dram_dramsim3/default_3200/prefetchers/cygnus_depth/pr__sx-stackoverflow.mtx/pr__sx-stackoverflow.mtx__506400000000 because it failed\n"
     ]
    },
    {
     "name": "stderr",
     "output_type": "stream",
     "text": [
      "\u001b[34;49m[ipykernel_launcher][angrist-3]\u001b[0m Reading study files:  26%|██▌       | 608/2340 [00:04<00:11, 145.66file/s]"
     ]
    },
    {
     "name": "stdout",
     "output_type": "stream",
     "text": [
      "\u001b[34;49m[ipykernel_launcher][angrist-3]\u001b[0m Skipping /u/cmolder/GitHub/ChampSim/sim/dram_dramsim3/default_3200/prefetchers/my5/pr__sx-stackoverflow.mtx/pr__sx-stackoverflow.mtx__506400000000 because it failed\n"
     ]
    },
    {
     "name": "stderr",
     "output_type": "stream",
     "text": [
      "\u001b[34;49m[ipykernel_launcher][angrist-3]\u001b[0m Reading study files:  28%|██▊       | 663/2340 [00:04<00:10, 165.30file/s]"
     ]
    },
    {
     "name": "stdout",
     "output_type": "stream",
     "text": [
      "\u001b[34;49m[ipykernel_launcher][angrist-3]\u001b[0m Skipping /u/cmolder/GitHub/ChampSim/sim/dram_dramsim3/default_3200/prefetchers/my5/pr__wikipedia-20060925.mtx/pr__wikipedia-20060925.mtx__602800000000 because it failed\n",
      "\u001b[34;49m[ipykernel_launcher][angrist-3]\u001b[0m Skipping /u/cmolder/GitHub/ChampSim/sim/dram_dramsim3/default_3200/prefetchers/my5/bc__sx-stackoverflow.mtx/bc__sx-stackoverflow.mtx__263200000000 because it failed\n"
     ]
    },
    {
     "name": "stderr",
     "output_type": "stream",
     "text": [
      "\u001b[34;49m[ipykernel_launcher][angrist-3]\u001b[0m Reading study files:  32%|███▏      | 742/2340 [00:05<00:08, 178.39file/s]"
     ]
    },
    {
     "name": "stdout",
     "output_type": "stream",
     "text": [
      "\u001b[34;49m[ipykernel_launcher][angrist-3]\u001b[0m Skipping /u/cmolder/GitHub/ChampSim/sim/dram_dramsim3/default_3200/prefetchers/bingo/bc__sx-stackoverflow.mtx/bc__sx-stackoverflow.mtx__263200000000 because it failed\n",
      "\u001b[34;49m[ipykernel_launcher][angrist-3]\u001b[0m Skipping /u/cmolder/GitHub/ChampSim/sim/dram_dramsim3/default_3200/prefetchers/mlop/pr__sx-stackoverflow.mtx/pr__sx-stackoverflow.mtx__506400000000 because it failed\n",
      "\u001b[34;49m[ipykernel_launcher][angrist-3]\u001b[0m Skipping /u/cmolder/GitHub/ChampSim/sim/dram_dramsim3/default_3200/prefetchers/pythia/pr__wikipedia-20060925.mtx/pr__wikipedia-20060925.mtx__226800000000 because it failed\n",
      "\u001b[34;49m[ipykernel_launcher][angrist-3]\u001b[0m Skipping /u/cmolder/GitHub/ChampSim/sim/dram_dramsim3/default_3200/prefetchers/cygnus_depth/bfs__web-Google.mtx/bfs__web-Google.mtx__19200000000 because it failed\n"
     ]
    },
    {
     "name": "stderr",
     "output_type": "stream",
     "text": [
      "\u001b[34;49m[ipykernel_launcher][angrist-3]\u001b[0m Reading study files:  35%|███▌      | 822/2340 [00:05<00:08, 175.44file/s]"
     ]
    },
    {
     "name": "stdout",
     "output_type": "stream",
     "text": [
      "\u001b[34;49m[ipykernel_launcher][angrist-3]\u001b[0m Skipping /u/cmolder/GitHub/ChampSim/sim/dram_dramsim3/default_3200/prefetchers/dspatch/pr__wikipedia-20060925.mtx/pr__wikipedia-20060925.mtx__602800000000 because it failed\n"
     ]
    },
    {
     "name": "stderr",
     "output_type": "stream",
     "text": [
      "\u001b[34;49m[ipykernel_launcher][angrist-3]\u001b[0m Reading study files:  40%|███▉      | 933/2340 [00:06<00:08, 173.88file/s]"
     ]
    },
    {
     "name": "stdout",
     "output_type": "stream",
     "text": [
      "\u001b[34;49m[ipykernel_launcher][angrist-3]\u001b[0m Skipping /u/cmolder/GitHub/ChampSim/sim/dram_dramsim3/default_3200/prefetchers/spp_ppf/pr__wikipedia-20060925.mtx/pr__wikipedia-20060925.mtx__226800000000 because it failed\n",
      "\u001b[34;49m[ipykernel_launcher][angrist-3]\u001b[0m Skipping /u/cmolder/GitHub/ChampSim/sim/dram_dramsim3/default_3200/prefetchers/mlop/bc__dblp-2010.mtx/bc__dblp-2010.mtx__3200000000 because it failed\n"
     ]
    },
    {
     "name": "stderr",
     "output_type": "stream",
     "text": [
      "\u001b[34;49m[ipykernel_launcher][angrist-3]\u001b[0m Reading study files:  44%|████▍     | 1031/2340 [00:06<00:07, 178.80file/s]"
     ]
    },
    {
     "name": "stdout",
     "output_type": "stream",
     "text": [
      "\u001b[34;49m[ipykernel_launcher][angrist-3]\u001b[0m Skipping /u/cmolder/GitHub/ChampSim/sim/dram_dramsim3/default_3200/prefetchers/spp/pr__wikipedia-20060925.mtx/pr__wikipedia-20060925.mtx__226800000000 because it failed\n",
      "\u001b[34;49m[ipykernel_launcher][angrist-3]\u001b[0m Skipping /u/cmolder/GitHub/ChampSim/sim/dram_dramsim3/default_3200/prefetchers/mlop/pr__wikipedia-20060925.mtx/pr__wikipedia-20060925.mtx__226800000000 because it failed\n"
     ]
    },
    {
     "name": "stderr",
     "output_type": "stream",
     "text": [
      "\u001b[34;49m[ipykernel_launcher][angrist-3]\u001b[0m Reading study files:  47%|████▋     | 1096/2340 [00:07<00:06, 189.86file/s]"
     ]
    },
    {
     "name": "stdout",
     "output_type": "stream",
     "text": [
      "\u001b[34;49m[ipykernel_launcher][angrist-3]\u001b[0m Skipping /u/cmolder/GitHub/ChampSim/sim/dram_dramsim3/default_3200/prefetchers/mlop/cc__soc-LiveJournal1.mtx/cc__soc-LiveJournal1.mtx__295200000000 because it failed\n",
      "\u001b[34;49m[ipykernel_launcher][angrist-3]\u001b[0m Skipping /u/cmolder/GitHub/ChampSim/sim/dram_dramsim3/default_3200/prefetchers/cygnus_depth/pr__wikipedia-20060925.mtx/pr__wikipedia-20060925.mtx__602800000000 because it failed\n"
     ]
    },
    {
     "name": "stderr",
     "output_type": "stream",
     "text": [
      "\u001b[34;49m[ipykernel_launcher][angrist-3]\u001b[0m Reading study files:  50%|█████     | 1176/2340 [00:07<00:06, 185.61file/s]"
     ]
    },
    {
     "name": "stdout",
     "output_type": "stream",
     "text": [
      "\u001b[34;49m[ipykernel_launcher][angrist-3]\u001b[0m Skipping /u/cmolder/GitHub/ChampSim/sim/dram_dramsim3/default_3200/prefetchers/dspatch/cc__com-Youtube.mtx/cc__com-Youtube.mtx__11200000000 because it failed\n",
      "\u001b[34;49m[ipykernel_launcher][angrist-3]\u001b[0m Skipping /u/cmolder/GitHub/ChampSim/sim/dram_dramsim3/default_3200/prefetchers/bingo/pr__wikipedia-20060925.mtx/pr__wikipedia-20060925.mtx__226800000000 because it failed\n"
     ]
    },
    {
     "name": "stderr",
     "output_type": "stream",
     "text": [
      "\u001b[34;49m[ipykernel_launcher][angrist-3]\u001b[0m Reading study files:  52%|█████▏    | 1214/2340 [00:07<00:06, 180.08file/s]"
     ]
    },
    {
     "name": "stdout",
     "output_type": "stream",
     "text": [
      "\u001b[34;49m[ipykernel_launcher][angrist-3]\u001b[0m Skipping /u/cmolder/GitHub/ChampSim/sim/dram_dramsim3/default_3200/prefetchers/spp/pr__sx-stackoverflow.mtx/pr__sx-stackoverflow.mtx__506400000000 because it failed\n"
     ]
    },
    {
     "name": "stderr",
     "output_type": "stream",
     "text": [
      "\u001b[34;49m[ipykernel_launcher][angrist-3]\u001b[0m Reading study files:  56%|█████▌    | 1309/2340 [00:08<00:05, 177.20file/s]"
     ]
    },
    {
     "name": "stdout",
     "output_type": "stream",
     "text": [
      "\u001b[34;49m[ipykernel_launcher][angrist-3]\u001b[0m Skipping /u/cmolder/GitHub/ChampSim/sim/dram_dramsim3/default_3200/prefetchers/dspatch/bfs__web-Google.mtx/bfs__web-Google.mtx__19200000000 because it failed\n",
      "\u001b[34;49m[ipykernel_launcher][angrist-3]\u001b[0m Skipping /u/cmolder/GitHub/ChampSim/sim/dram_dramsim3/default_3200/prefetchers/spp_ppf/pr__soc-LiveJournal1.mtx/pr__soc-LiveJournal1.mtx__687600000000 because it failed\n",
      "\u001b[34;49m[ipykernel_launcher][angrist-3]\u001b[0m Skipping /u/cmolder/GitHub/ChampSim/sim/dram_dramsim3/default_3200/prefetchers/spp/pr__wikipedia-20060925.mtx/pr__wikipedia-20060925.mtx__602800000000 because it failed\n"
     ]
    },
    {
     "name": "stderr",
     "output_type": "stream",
     "text": [
      "\u001b[34;49m[ipykernel_launcher][angrist-3]\u001b[0m Reading study files:  57%|█████▋    | 1345/2340 [00:08<00:05, 169.08file/s]"
     ]
    },
    {
     "name": "stdout",
     "output_type": "stream",
     "text": [
      "\u001b[34;49m[ipykernel_launcher][angrist-3]\u001b[0m Skipping /u/cmolder/GitHub/ChampSim/sim/dram_dramsim3/default_3200/prefetchers/spp/bc__sx-stackoverflow.mtx/bc__sx-stackoverflow.mtx__263200000000 because it failed\n",
      "\u001b[34;49m[ipykernel_launcher][angrist-3]\u001b[0m Skipping /u/cmolder/GitHub/ChampSim/sim/dram_dramsim3/default_3200/prefetchers/bingo/bfs__web-Google.mtx/bfs__web-Google.mtx__19200000000 because it failed\n"
     ]
    },
    {
     "name": "stderr",
     "output_type": "stream",
     "text": [
      "\u001b[34;49m[ipykernel_launcher][angrist-3]\u001b[0m Reading study files:  62%|██████▏   | 1455/2340 [00:09<00:05, 175.19file/s]"
     ]
    },
    {
     "name": "stdout",
     "output_type": "stream",
     "text": [
      "\u001b[34;49m[ipykernel_launcher][angrist-3]\u001b[0m Skipping /u/cmolder/GitHub/ChampSim/sim/dram_dramsim3/default_3200/prefetchers/dspatch/cc__dblp-2010.mtx/cc__dblp-2010.mtx__5200000000 because it failed\n",
      "\u001b[34;49m[ipykernel_launcher][angrist-3]\u001b[0m Skipping /u/cmolder/GitHub/ChampSim/sim/dram_dramsim3/default_3200/prefetchers/dspatch/bc__sx-stackoverflow.mtx/bc__sx-stackoverflow.mtx__263200000000 because it failed\n",
      "\u001b[34;49m[ipykernel_launcher][angrist-3]\u001b[0m Skipping /u/cmolder/GitHub/ChampSim/sim/dram_dramsim3/default_3200/prefetchers/mlop/bc__sx-stackoverflow.mtx/bc__sx-stackoverflow.mtx__263200000000 because it failed\n",
      "\u001b[34;49m[ipykernel_launcher][angrist-3]\u001b[0m Skipping /u/cmolder/GitHub/ChampSim/sim/dram_dramsim3/default_3200/prefetchers/sms/cc__web-Google.mtx/cc__web-Google.mtx__19200000000 because it failed\n"
     ]
    },
    {
     "name": "stderr",
     "output_type": "stream",
     "text": [
      "\u001b[34;49m[ipykernel_launcher][angrist-3]\u001b[0m Reading study files:  64%|██████▍   | 1495/2340 [00:09<00:04, 184.93file/s]"
     ]
    },
    {
     "name": "stdout",
     "output_type": "stream",
     "text": [
      "\u001b[34;49m[ipykernel_launcher][angrist-3]\u001b[0m Skipping /u/cmolder/GitHub/ChampSim/sim/dram_dramsim3/default_3200/prefetchers/cygnus_depth/bc__soc-LiveJournal1.mtx/bc__soc-LiveJournal1.mtx__478400000000 because it failed\n"
     ]
    },
    {
     "name": "stderr",
     "output_type": "stream",
     "text": [
      "\u001b[34;49m[ipykernel_launcher][angrist-3]\u001b[0m Reading study files:  67%|██████▋   | 1577/2340 [00:09<00:04, 185.79file/s]"
     ]
    },
    {
     "name": "stdout",
     "output_type": "stream",
     "text": [
      "\u001b[34;49m[ipykernel_launcher][angrist-3]\u001b[0m Skipping /u/cmolder/GitHub/ChampSim/sim/dram_dramsim3/default_3200/prefetchers/spp/bfs__web-Google.mtx/bfs__web-Google.mtx__19200000000 because it failed\n",
      "\u001b[34;49m[ipykernel_launcher][angrist-3]\u001b[0m Skipping /u/cmolder/GitHub/ChampSim/sim/dram_dramsim3/default_3200/prefetchers/spp_ppf/bfs__web-Google.mtx/bfs__web-Google.mtx__19200000000 because it failed\n"
     ]
    },
    {
     "name": "stderr",
     "output_type": "stream",
     "text": [
      "\u001b[34;49m[ipykernel_launcher][angrist-3]\u001b[0m Reading study files:  70%|██████▉   | 1633/2340 [00:10<00:04, 175.95file/s]"
     ]
    },
    {
     "name": "stdout",
     "output_type": "stream",
     "text": [
      "\u001b[34;49m[ipykernel_launcher][angrist-3]\u001b[0m Skipping /u/cmolder/GitHub/ChampSim/sim/dram_dramsim3/default_3200/prefetchers/spp/cc__web-Google.mtx/cc__web-Google.mtx__19200000000 because its baseline failed (/u/cmolder/GitHub/ChampSim/sim/dram_dramsim3/default_3200/baseline/_baseline/cc__web-Google.mtx/cc__web-Google.mtx__19200000000)\n"
     ]
    },
    {
     "name": "stderr",
     "output_type": "stream",
     "text": [
      "\u001b[34;49m[ipykernel_launcher][angrist-3]\u001b[0m Reading study files:  71%|███████▏  | 1671/2340 [00:10<00:03, 182.16file/s]"
     ]
    },
    {
     "name": "stdout",
     "output_type": "stream",
     "text": [
      "\u001b[34;49m[ipykernel_launcher][angrist-3]\u001b[0m Skipping /u/cmolder/GitHub/ChampSim/sim/dram_dramsim3/default_3200/prefetchers/cygnus_depth/cc__web-Google.mtx/cc__web-Google.mtx__19200000000 because it failed\n",
      "\u001b[34;49m[ipykernel_launcher][angrist-3]\u001b[0m Skipping /u/cmolder/GitHub/ChampSim/sim/dram_dramsim3/default_3200/prefetchers/my5/pr__wikipedia-20060925.mtx/pr__wikipedia-20060925.mtx__226800000000 because it failed\n"
     ]
    },
    {
     "name": "stderr",
     "output_type": "stream",
     "text": [
      "\u001b[34;49m[ipykernel_launcher][angrist-3]\u001b[0m Reading study files:  76%|███████▌  | 1784/2340 [00:11<00:03, 177.27file/s]"
     ]
    },
    {
     "name": "stdout",
     "output_type": "stream",
     "text": [
      "\u001b[34;49m[ipykernel_launcher][angrist-3]\u001b[0m Skipping /u/cmolder/GitHub/ChampSim/sim/dram_dramsim3/default_3200/prefetchers/mlop/cc__web-Google.mtx/cc__web-Google.mtx__19200000000 because it failed\n",
      "\u001b[34;49m[ipykernel_launcher][angrist-3]\u001b[0m Skipping /u/cmolder/GitHub/ChampSim/sim/dram_dramsim3/default_3200/prefetchers/my5/soplex/soplex_66B because it failed\n",
      "\u001b[34;49m[ipykernel_launcher][angrist-3]\u001b[0m Skipping /u/cmolder/GitHub/ChampSim/sim/dram_dramsim3/default_3200/prefetchers/my5/cc__web-Google.mtx/cc__web-Google.mtx__19200000000 because it failed\n"
     ]
    },
    {
     "name": "stderr",
     "output_type": "stream",
     "text": [
      "\u001b[34;49m[ipykernel_launcher][angrist-3]\u001b[0m Reading study files:  80%|████████  | 1877/2340 [00:11<00:02, 172.31file/s]"
     ]
    },
    {
     "name": "stdout",
     "output_type": "stream",
     "text": [
      "\u001b[34;49m[ipykernel_launcher][angrist-3]\u001b[0m Skipping /u/cmolder/GitHub/ChampSim/sim/dram_dramsim3/default_3200/prefetchers/bingo/pr__sx-stackoverflow.mtx/pr__sx-stackoverflow.mtx__506400000000 because it failed\n"
     ]
    },
    {
     "name": "stderr",
     "output_type": "stream",
     "text": [
      "\u001b[34;49m[ipykernel_launcher][angrist-3]\u001b[0m Reading study files:  83%|████████▎ | 1941/2340 [00:11<00:02, 195.18file/s]"
     ]
    },
    {
     "name": "stdout",
     "output_type": "stream",
     "text": [
      "\u001b[34;49m[ipykernel_launcher][angrist-3]\u001b[0m Skipping /u/cmolder/GitHub/ChampSim/sim/dram_dramsim3/default_3200/prefetchers/sms/bfs__web-Google.mtx/bfs__web-Google.mtx__19200000000 because it failed\n",
      "\u001b[34;49m[ipykernel_launcher][angrist-3]\u001b[0m Skipping /u/cmolder/GitHub/ChampSim/sim/dram_dramsim3/default_3200/prefetchers/cygnus/pr__sx-stackoverflow.mtx/pr__sx-stackoverflow.mtx__506400000000 because it failed\n",
      "\u001b[34;49m[ipykernel_launcher][angrist-3]\u001b[0m Skipping /u/cmolder/GitHub/ChampSim/sim/dram_dramsim3/default_3200/prefetchers/mlop/bfs__web-Google.mtx/bfs__web-Google.mtx__19200000000 because it failed\n"
     ]
    },
    {
     "name": "stderr",
     "output_type": "stream",
     "text": [
      "\u001b[34;49m[ipykernel_launcher][angrist-3]\u001b[0m Reading study files:  86%|████████▌ | 2005/2340 [00:12<00:01, 178.76file/s]"
     ]
    },
    {
     "name": "stdout",
     "output_type": "stream",
     "text": [
      "\u001b[34;49m[ipykernel_launcher][angrist-3]\u001b[0m Skipping /u/cmolder/GitHub/ChampSim/sim/dram_dramsim3/default_3200/prefetchers/pythia/pr__sx-stackoverflow.mtx/pr__sx-stackoverflow.mtx__506400000000 because it failed\n",
      "\u001b[34;49m[ipykernel_launcher][angrist-3]\u001b[0m Skipping /u/cmolder/GitHub/ChampSim/sim/dram_dramsim3/default_3200/prefetchers/sms/bc__web-Google.mtx/bc__web-Google.mtx__19200000000 because it failed\n",
      "\u001b[34;49m[ipykernel_launcher][angrist-3]\u001b[0m Skipping /u/cmolder/GitHub/ChampSim/sim/dram_dramsim3/default_3200/prefetchers/my5/bfs__web-Google.mtx/bfs__web-Google.mtx__19200000000 because it failed\n"
     ]
    },
    {
     "name": "stderr",
     "output_type": "stream",
     "text": [
      "\u001b[34;49m[ipykernel_launcher][angrist-3]\u001b[0m Reading study files:  87%|████████▋ | 2044/2340 [00:12<00:01, 175.84file/s]"
     ]
    },
    {
     "name": "stdout",
     "output_type": "stream",
     "text": [
      "\u001b[34;49m[ipykernel_launcher][angrist-3]\u001b[0m Skipping /u/cmolder/GitHub/ChampSim/sim/dram_dramsim3/default_3200/prefetchers/cygnus_depth/bc__sx-stackoverflow.mtx/bc__sx-stackoverflow.mtx__263200000000 because it failed\n"
     ]
    },
    {
     "name": "stderr",
     "output_type": "stream",
     "text": [
      "\u001b[34;49m[ipykernel_launcher][angrist-3]\u001b[0m Reading study files:  91%|█████████ | 2126/2340 [00:13<00:01, 170.17file/s]"
     ]
    },
    {
     "name": "stdout",
     "output_type": "stream",
     "text": [
      "\u001b[34;49m[ipykernel_launcher][angrist-3]\u001b[0m Skipping /u/cmolder/GitHub/ChampSim/sim/dram_dramsim3/default_3200/prefetchers/spp_ppf/cc__web-Google.mtx/cc__web-Google.mtx__19200000000 because it failed\n"
     ]
    },
    {
     "name": "stderr",
     "output_type": "stream",
     "text": [
      "\u001b[34;49m[ipykernel_launcher][angrist-3]\u001b[0m Reading study files:  95%|█████████▌| 2223/2340 [00:13<00:00, 182.66file/s]"
     ]
    },
    {
     "name": "stdout",
     "output_type": "stream",
     "text": [
      "\u001b[34;49m[ipykernel_launcher][angrist-3]\u001b[0m Skipping /u/cmolder/GitHub/ChampSim/sim/dram_dramsim3/default_3200/prefetchers/sms/pr__wikipedia-20060925.mtx/pr__wikipedia-20060925.mtx__226800000000 because it failed\n",
      "\u001b[34;49m[ipykernel_launcher][angrist-3]\u001b[0m Skipping /u/cmolder/GitHub/ChampSim/sim/dram_dramsim3/default_3200/prefetchers/pythia/bfs__web-Google.mtx/bfs__web-Google.mtx__19200000000 because it failed\n"
     ]
    },
    {
     "name": "stderr",
     "output_type": "stream",
     "text": [
      "\u001b[34;49m[ipykernel_launcher][angrist-3]\u001b[0m Reading study files:  97%|█████████▋| 2278/2340 [00:13<00:00, 170.79file/s]"
     ]
    },
    {
     "name": "stdout",
     "output_type": "stream",
     "text": [
      "\u001b[34;49m[ipykernel_launcher][angrist-3]\u001b[0m Skipping /u/cmolder/GitHub/ChampSim/sim/dram_dramsim3/default_3200/prefetchers/pythia/bc__sx-stackoverflow.mtx/bc__sx-stackoverflow.mtx__263200000000 because it failed\n",
      "\u001b[34;49m[ipykernel_launcher][angrist-3]\u001b[0m Skipping /u/cmolder/GitHub/ChampSim/sim/dram_dramsim3/default_3200/prefetchers/sms/pr__wikipedia-20060925.mtx/pr__wikipedia-20060925.mtx__602800000000 because it failed\n"
     ]
    },
    {
     "name": "stderr",
     "output_type": "stream",
     "text": [
      "\u001b[34;49m[ipykernel_launcher][angrist-3]\u001b[0m Reading study files: 100%|██████████| 2340/2340 [00:14<00:00, 164.02file/s]\n"
     ]
    },
    {
     "name": "stdout",
     "output_type": "stream",
     "text": [
      "\u001b[34;49m[ipykernel_launcher][angrist-3]\u001b[0m Skipping /u/cmolder/GitHub/ChampSim/sim/dram_dramsim3/default_3200/prefetchers/pythia/pr__wikipedia-20060925.mtx/pr__wikipedia-20060925.mtx__602800000000 because it failed\n",
      "\u001b[34;49m[ipykernel_launcher][angrist-3]\u001b[0m Generating benchmark stats for 85 benchmarks over 10 experiments:\n",
      "    Benchmarks : omnetpp cc__sx-stackoverflow.mtx pr__netherlands_osm.mtx cc__coPapersCiteseer.mtx gcc sphinx3 cc__netherlands_osm.mtx astar 620.omnetpp cc__amazon0601.mtx libquantum pr__sx-stackoverflow.mtx lbm merced soplex bfs__belgium_osm.mtx bfs__netherlands_osm.mtx bwaves bc__sx-stackoverflow.mtx bc__coAuthorsCiteseer.mtx pr__wikipedia-20060925.mtx pr__coPapersCiteseer.mtx bc__amazon0601.mtx 605.mcf bc__wikipedia-20060925.mtx bfs__in-2004.mtx 627.cam4 xalancbmk pr__soc-LiveJournal1.mtx bc__luxembourg_osm.mtx bc leslie3d pr__com-Youtube.mtx cc__amazon-2008.mtx pr charlie cassandra cc__belgium_osm.mtx cactusADM bc__com-Youtube.mtx pr__luxembourg_osm.mtx 619.lbm bfs__coAuthorsCiteseer.mtx bc__belgium_osm.mtx cc__com-Youtube.mtx bfs__web-Google.mtx tc zeusmp 649.fotonik3d classifcation pr__belgium_osm.mtx whiskey bc__web-Google.mtx sssp pr__coAuthorsCiteseer.mtx delta bc__amazon-2008.mtx bfs cc bfs__amazon0601.mtx 623.xalancbmk 607.cactuBSSN bfs__com-Youtube.mtx bc__coPapersCiteseer.mtx cloud9 pr__dblp-2010.mtx cc__wikipedia-20060925.mtx GemsFDTD bfs__dblp-2010.mtx streaming 602.gcc cc__soc-LiveJournal1.mtx mcf bfs__amazon-2008.mtx bc__dblp-2010.mtx cc__cnr-2000.mtx 628.pop2 cc__web-Google.mtx bc__soc-LiveJournal1.mtx nutch bc__netherlands_osm.mtx cc__dblp-2010.mtx pr__web-Google.mtx pr__cnr-2000.mtx milc\n",
      "    Experiments: spp cygnus_depth dspatch cygnus my5 bingo pythia sms mlop spp_ppf\n",
      "        \n"
     ]
    },
    {
     "name": "stderr",
     "output_type": "stream",
     "text": [
      "\u001b[34;49m[ipykernel_launcher][angrist-3]\u001b[0m Generating benchmark stats: 100%|██████████| 850/850 [00:04<00:00, 185.19it/s]\n"
     ]
    },
    {
     "name": "stdout",
     "output_type": "stream",
     "text": [
      "\u001b[34;49m[ipykernel_launcher][angrist-3]\u001b[0m Generating suite stats for 7 suites over 10 experiments:\n",
      "    Suites     : all cloudsuite gap_real spec17 gap google spec06\n",
      "    Experiments: spp cygnus_depth dspatch cygnus my5 bingo pythia sms mlop spp_ppf\n",
      "        \n"
     ]
    },
    {
     "name": "stderr",
     "output_type": "stream",
     "text": [
      "\u001b[34;49m[ipykernel_launcher][angrist-3]\u001b[0m Generating suite stats: 100%|██████████| 70/70 [00:04<00:00, 15.01it/s]\n"
     ]
    }
   ],
   "source": [
    "reload(collate)\n",
    "studies = {\n",
    "    \"champsim_2022\": collate.StudyCollator(\n",
    "        os.path.join(sim_dir, \"dram_champsim_2022\", \"default_3200\"), \"prefetchers\", \n",
    "        baseline_study=baseline_study, \n",
    "        baseline_experiment=baseline_experiment,\n",
    "        weights_path=weights_path,\n",
    "    ),\n",
    "    \"dramsim3_2022\": collate.StudyCollator(\n",
    "        os.path.join(sim_dir, \"dram_dramsim3_2022\", \"default_3200\"), \"prefetchers\", \n",
    "        baseline_study=baseline_study, \n",
    "        baseline_experiment=baseline_experiment,\n",
    "        weights_path=weights_path,\n",
    "    ),\n",
    "    \"champsim_2023\": collate.StudyCollator(\n",
    "        os.path.join(sim_dir, \"dram_champsim\", \"default_3200\"), \"prefetchers\", \n",
    "        baseline_study=baseline_study, \n",
    "        baseline_experiment=baseline_experiment,\n",
    "        weights_path=weights_path,\n",
    "    ),\n",
    "    \"dramsim3_2023\": collate.StudyCollator(\n",
    "        os.path.join(sim_dir, \"dram_dramsim3\", \"default_3200\"), \"prefetchers\", \n",
    "        baseline_study=baseline_study, \n",
    "        baseline_experiment=baseline_experiment,\n",
    "        weights_path=weights_path,\n",
    "    )\n",
    "}"
   ]
  },
  {
   "attachments": {},
   "cell_type": "markdown",
   "id": "66bcc90b",
   "metadata": {},
   "source": [
    "# Build configurations\n",
    "Dynamic degree"
   ]
  },
  {
   "cell_type": "code",
   "execution_count": 5,
   "id": "686fd334",
   "metadata": {},
   "outputs": [],
   "source": [
    "degreedyn_1core_df = {\n",
    "    \"Cygnus (2022 csim)\": studies[\"champsim_2022\"][\"cygnus\"],\n",
    "    \"Cygnus (2022 ds3)\" : studies[\"dramsim3_2022\"][\"cygnus\"],\n",
    "    \"Cygnus (2023 csim)\": studies[\"champsim_2023\"][\"cygnus\"],\n",
    "    \"Cygnus (2023 ds3)\" : studies[\"dramsim3_2023\"][\"cygnus\"],\n",
    "    \"my5 (2022 csim)\"   : studies[\"champsim_2022\"][\"my5\"],\n",
    "    \"my5 (2022 ds3)\"    : studies[\"dramsim3_2022\"][\"my5\"],\n",
    "    \"my5 (2023 csim)\"   : studies[\"champsim_2023\"][\"my5\"],\n",
    "    \"my5 (2023 ds3)\"    : studies[\"dramsim3_2023\"][\"my5\"],\n",
    "}\n",
    "degreedyn_1core_colors = defaultdict(lambda: None, {\n",
    "    \"Cygnus (2022 csim)\": colormaps[\"Set3\"](0),\n",
    "    \"Cygnus (2022 ds3)\" : colormaps[\"Set3\"](0),\n",
    "    \"Cygnus (2023 csim)\": colormaps[\"Set3\"](0),\n",
    "    \"Cygnus (2023 ds3)\" : colormaps[\"Set3\"](0),\n",
    "    \"my5 (2022 csim)\"   : colormaps[\"Set3\"](9),\n",
    "    \"my5 (2022 ds3)\"    : colormaps[\"Set3\"](9),\n",
    "    \"my5 (2023 csim)\"   : colormaps[\"Set3\"](9),\n",
    "    \"my5 (2023 ds3)\"    : colormaps[\"Set3\"](9),\n",
    "})\n",
    "degreedyn_1core_hatches = defaultdict(lambda: None, {\n",
    "    \"Cygnus (2022 csim)\": None,\n",
    "    \"Cygnus (2022 ds3)\" : \"/\",\n",
    "    \"Cygnus (2023 csim)\": \".\",\n",
    "    \"Cygnus (2023 ds3)\" : \"-\",\n",
    "    \"my5 (2022 csim)\"   : None,\n",
    "    \"my5 (2022 ds3)\"    : \"/\",\n",
    "    \"my5 (2023 csim)\"   : \".\",\n",
    "    \"my5 (2023 ds3)\"    : \"-\",\n",
    "})\n",
    "degreedyn_1core_legend_kwargs = {\n",
    "    \"ncol\": 2,\n",
    "    \"fontsize\": 6.75,\n",
    "    \"loc\": \"lower center\",\n",
    "    \"bbox_to_anchor\": (0.5, 1.0),\n",
    "    \"framealpha\": 0,\n",
    "}\n",
    "degreedyn_1core_legend_kwargs_wide = {\n",
    "    \"ncol\": 2,\n",
    "    \"fontsize\": 6.75,\n",
    "    \"loc\": \"lower center\",\n",
    "    \"bbox_to_anchor\": (0.5, 1.0),\n",
    "    \"framealpha\": 0,\n",
    "}\n",
    "degreedyn_1core_label_kwargs = {\n",
    "    \"rotation\": 0,\n",
    "    \"ha\": \"center\",\n",
    "    \"fontsize\": 7,\n",
    "}"
   ]
  },
  {
   "attachments": {},
   "cell_type": "markdown",
   "id": "cf74cd76",
   "metadata": {},
   "source": [
    "## IPC improvement"
   ]
  },
  {
   "cell_type": "code",
   "execution_count": 6,
   "id": "ab48e4fe",
   "metadata": {},
   "outputs": [
    {
     "data": {
      "text/html": [
       "<div>\n",
       "<style scoped>\n",
       "    .dataframe tbody tr th:only-of-type {\n",
       "        vertical-align: middle;\n",
       "    }\n",
       "\n",
       "    .dataframe tbody tr th {\n",
       "        vertical-align: top;\n",
       "    }\n",
       "\n",
       "    .dataframe thead th {\n",
       "        text-align: right;\n",
       "    }\n",
       "</style>\n",
       "<table border=\"1\" class=\"dataframe\">\n",
       "  <thead>\n",
       "    <tr style=\"text-align: right;\">\n",
       "      <th></th>\n",
       "      <th>spec06</th>\n",
       "      <th>spec17</th>\n",
       "      <th>cloudsuite</th>\n",
       "      <th>gap</th>\n",
       "      <th>gap_real</th>\n",
       "      <th>gmean</th>\n",
       "    </tr>\n",
       "  </thead>\n",
       "  <tbody>\n",
       "    <tr>\n",
       "      <th>Cygnus (2022 csim)</th>\n",
       "      <td>30.53</td>\n",
       "      <td>16.52</td>\n",
       "      <td>3.50</td>\n",
       "      <td>28.95</td>\n",
       "      <td>20.74</td>\n",
       "      <td>19.636786</td>\n",
       "    </tr>\n",
       "    <tr>\n",
       "      <th>Cygnus (2022 ds3)</th>\n",
       "      <td>33.67</td>\n",
       "      <td>25.50</td>\n",
       "      <td>10.80</td>\n",
       "      <td>22.13</td>\n",
       "      <td>20.33</td>\n",
       "      <td>22.259536</td>\n",
       "    </tr>\n",
       "    <tr>\n",
       "      <th>Cygnus (2023 csim)</th>\n",
       "      <td>16.56</td>\n",
       "      <td>12.72</td>\n",
       "      <td>3.14</td>\n",
       "      <td>35.43</td>\n",
       "      <td>23.56</td>\n",
       "      <td>17.791536</td>\n",
       "    </tr>\n",
       "    <tr>\n",
       "      <th>Cygnus (2023 ds3)</th>\n",
       "      <td>20.41</td>\n",
       "      <td>16.40</td>\n",
       "      <td>5.96</td>\n",
       "      <td>27.12</td>\n",
       "      <td>23.50</td>\n",
       "      <td>18.447982</td>\n",
       "    </tr>\n",
       "    <tr>\n",
       "      <th>my5 (2022 csim)</th>\n",
       "      <td>31.56</td>\n",
       "      <td>17.86</td>\n",
       "      <td>6.42</td>\n",
       "      <td>24.57</td>\n",
       "      <td>17.58</td>\n",
       "      <td>19.303201</td>\n",
       "    </tr>\n",
       "    <tr>\n",
       "      <th>my5 (2022 ds3)</th>\n",
       "      <td>30.19</td>\n",
       "      <td>21.92</td>\n",
       "      <td>8.43</td>\n",
       "      <td>18.33</td>\n",
       "      <td>15.87</td>\n",
       "      <td>18.733585</td>\n",
       "    </tr>\n",
       "    <tr>\n",
       "      <th>my5 (2023 csim)</th>\n",
       "      <td>26.38</td>\n",
       "      <td>15.13</td>\n",
       "      <td>3.76</td>\n",
       "      <td>35.13</td>\n",
       "      <td>22.61</td>\n",
       "      <td>20.125414</td>\n",
       "    </tr>\n",
       "    <tr>\n",
       "      <th>my5 (2023 ds3)</th>\n",
       "      <td>22.70</td>\n",
       "      <td>17.93</td>\n",
       "      <td>4.65</td>\n",
       "      <td>24.85</td>\n",
       "      <td>20.68</td>\n",
       "      <td>17.935999</td>\n",
       "    </tr>\n",
       "  </tbody>\n",
       "</table>\n",
       "</div>"
      ],
      "text/plain": [
       "                    spec06  spec17  cloudsuite    gap  gap_real      gmean\n",
       "Cygnus (2022 csim)   30.53   16.52        3.50  28.95     20.74  19.636786\n",
       "Cygnus (2022 ds3)    33.67   25.50       10.80  22.13     20.33  22.259536\n",
       "Cygnus (2023 csim)   16.56   12.72        3.14  35.43     23.56  17.791536\n",
       "Cygnus (2023 ds3)    20.41   16.40        5.96  27.12     23.50  18.447982\n",
       "my5 (2022 csim)      31.56   17.86        6.42  24.57     17.58  19.303201\n",
       "my5 (2022 ds3)       30.19   21.92        8.43  18.33     15.87  18.733585\n",
       "my5 (2023 csim)      26.38   15.13        3.76  35.13     22.61  20.125414\n",
       "my5 (2023 ds3)       22.70   17.93        4.65  24.85     20.68  17.935999"
      ]
     },
     "execution_count": 6,
     "metadata": {},
     "output_type": "execute_result"
    }
   ],
   "source": [
    "reload(plot)\n",
    "plot.get_suite_table(\n",
    "    degreedyn_1core_df, \"cpu.gmean.ipc_improvement\",\n",
    "    suites=suites, add_mean=True)"
   ]
  },
  {
   "cell_type": "code",
   "execution_count": 8,
   "id": "c0e082ee",
   "metadata": {},
   "outputs": [
    {
     "data": {
      "image/png": "[encoded data removed]",
      "text/plain": [
       "<Figure size 960x518.4 with 1 Axes>"
      ]
     },
     "metadata": {},
     "output_type": "display_data"
    }
   ],
   "source": [
    "reload(plot)\n",
    "plot.plot_suite_statistic(\n",
    "    degreedyn_1core_df, \"cpu.gmean.ipc_improvement\",\n",
    "    suites=suites,\n",
    "    add_mean=True,\n",
    "    colors=degreedyn_1core_colors,\n",
    "    hatches=degreedyn_1core_hatches,\n",
    "    legend_kwargs=degreedyn_1core_legend_kwargs,\n",
    "    label_kwargs=degreedyn_1core_label_kwargs,\n",
    "    add_suptitle=False,\n",
    "    add_xlabel=False,\n",
    "    ylabel=\"gmean IPC improvement (%)\",\n",
    "    ylim=(0, 40),\n",
    "    ytick_distance=5,\n",
    "    dpi=192, figsize=(5, 2.7)\n",
    ")\n",
    "plt.savefig(\"champsim_builds.png\")"
   ]
  },
  {
   "cell_type": "markdown",
   "id": "ce413bd8",
   "metadata": {},
   "source": [
    "### spec06"
   ]
  },
  {
   "cell_type": "code",
   "execution_count": 22,
   "id": "afbb583b",
   "metadata": {},
   "outputs": [
    {
     "data": {
      "text/html": [
       "<div>\n",
       "<style scoped>\n",
       "    .dataframe tbody tr th:only-of-type {\n",
       "        vertical-align: middle;\n",
       "    }\n",
       "\n",
       "    .dataframe tbody tr th {\n",
       "        vertical-align: top;\n",
       "    }\n",
       "\n",
       "    .dataframe thead th {\n",
       "        text-align: right;\n",
       "    }\n",
       "</style>\n",
       "<table border=\"1\" class=\"dataframe\">\n",
       "  <thead>\n",
       "    <tr style=\"text-align: right;\">\n",
       "      <th></th>\n",
       "      <th>Cygnus (2022 csim)</th>\n",
       "      <th>Cygnus (2022 ds3)</th>\n",
       "      <th>Cygnus (2023 csim)</th>\n",
       "      <th>Cygnus (2023 ds3)</th>\n",
       "      <th>my5 (2022 csim)</th>\n",
       "      <th>my5 (2022 ds3)</th>\n",
       "      <th>my5 (2023 csim)</th>\n",
       "      <th>my5 (2023 ds3)</th>\n",
       "    </tr>\n",
       "  </thead>\n",
       "  <tbody>\n",
       "    <tr>\n",
       "      <th>GemsFDTD</th>\n",
       "      <td>50.570000</td>\n",
       "      <td>78.110000</td>\n",
       "      <td>31.710000</td>\n",
       "      <td>46.91000</td>\n",
       "      <td>56.450000</td>\n",
       "      <td>62.960000</td>\n",
       "      <td>70.570000</td>\n",
       "      <td>55.580000</td>\n",
       "    </tr>\n",
       "    <tr>\n",
       "      <th>astar</th>\n",
       "      <td>6.760000</td>\n",
       "      <td>6.650000</td>\n",
       "      <td>7.190000</td>\n",
       "      <td>6.79000</td>\n",
       "      <td>2.200000</td>\n",
       "      <td>2.030000</td>\n",
       "      <td>2.600000</td>\n",
       "      <td>2.230000</td>\n",
       "    </tr>\n",
       "    <tr>\n",
       "      <th>bwaves</th>\n",
       "      <td>115.550000</td>\n",
       "      <td>43.490000</td>\n",
       "      <td>39.880000</td>\n",
       "      <td>18.01000</td>\n",
       "      <td>63.210000</td>\n",
       "      <td>20.870000</td>\n",
       "      <td>73.090000</td>\n",
       "      <td>20.890000</td>\n",
       "    </tr>\n",
       "    <tr>\n",
       "      <th>cactusADM</th>\n",
       "      <td>51.690000</td>\n",
       "      <td>66.100000</td>\n",
       "      <td>41.050000</td>\n",
       "      <td>80.75000</td>\n",
       "      <td>42.650000</td>\n",
       "      <td>41.820000</td>\n",
       "      <td>51.570000</td>\n",
       "      <td>49.580000</td>\n",
       "    </tr>\n",
       "    <tr>\n",
       "      <th>gcc</th>\n",
       "      <td>27.220000</td>\n",
       "      <td>32.510000</td>\n",
       "      <td>10.630000</td>\n",
       "      <td>20.13000</td>\n",
       "      <td>24.570000</td>\n",
       "      <td>24.700000</td>\n",
       "      <td>12.960000</td>\n",
       "      <td>16.800000</td>\n",
       "    </tr>\n",
       "    <tr>\n",
       "      <th>lbm</th>\n",
       "      <td>15.730000</td>\n",
       "      <td>50.490000</td>\n",
       "      <td>-7.620000</td>\n",
       "      <td>17.99000</td>\n",
       "      <td>14.620000</td>\n",
       "      <td>49.580000</td>\n",
       "      <td>-7.520000</td>\n",
       "      <td>14.810000</td>\n",
       "    </tr>\n",
       "    <tr>\n",
       "      <th>leslie3d</th>\n",
       "      <td>40.210000</td>\n",
       "      <td>30.870000</td>\n",
       "      <td>30.960000</td>\n",
       "      <td>17.45000</td>\n",
       "      <td>39.500000</td>\n",
       "      <td>25.130000</td>\n",
       "      <td>43.520000</td>\n",
       "      <td>19.190000</td>\n",
       "    </tr>\n",
       "    <tr>\n",
       "      <th>libquantum</th>\n",
       "      <td>67.320000</td>\n",
       "      <td>66.850000</td>\n",
       "      <td>51.250000</td>\n",
       "      <td>50.66000</td>\n",
       "      <td>88.360000</td>\n",
       "      <td>67.040000</td>\n",
       "      <td>76.210000</td>\n",
       "      <td>66.520000</td>\n",
       "    </tr>\n",
       "    <tr>\n",
       "      <th>mcf</th>\n",
       "      <td>14.900000</td>\n",
       "      <td>11.830000</td>\n",
       "      <td>9.520000</td>\n",
       "      <td>8.45000</td>\n",
       "      <td>17.860000</td>\n",
       "      <td>24.580000</td>\n",
       "      <td>13.960000</td>\n",
       "      <td>24.840000</td>\n",
       "    </tr>\n",
       "    <tr>\n",
       "      <th>milc</th>\n",
       "      <td>2.030000</td>\n",
       "      <td>8.870000</td>\n",
       "      <td>3.160000</td>\n",
       "      <td>0.33000</td>\n",
       "      <td>16.400000</td>\n",
       "      <td>25.880000</td>\n",
       "      <td>15.010000</td>\n",
       "      <td>14.680000</td>\n",
       "    </tr>\n",
       "    <tr>\n",
       "      <th>omnetpp</th>\n",
       "      <td>3.850000</td>\n",
       "      <td>14.760000</td>\n",
       "      <td>-8.940000</td>\n",
       "      <td>1.34000</td>\n",
       "      <td>17.670000</td>\n",
       "      <td>19.850000</td>\n",
       "      <td>2.350000</td>\n",
       "      <td>7.020000</td>\n",
       "    </tr>\n",
       "    <tr>\n",
       "      <th>sphinx3</th>\n",
       "      <td>40.660000</td>\n",
       "      <td>61.490000</td>\n",
       "      <td>30.530000</td>\n",
       "      <td>27.62000</td>\n",
       "      <td>52.660000</td>\n",
       "      <td>47.420000</td>\n",
       "      <td>41.080000</td>\n",
       "      <td>29.310000</td>\n",
       "    </tr>\n",
       "    <tr>\n",
       "      <th>xalancbmk</th>\n",
       "      <td>11.020000</td>\n",
       "      <td>11.040000</td>\n",
       "      <td>2.830000</td>\n",
       "      <td>4.00000</td>\n",
       "      <td>10.990000</td>\n",
       "      <td>9.860000</td>\n",
       "      <td>5.180000</td>\n",
       "      <td>4.460000</td>\n",
       "    </tr>\n",
       "    <tr>\n",
       "      <th>zeusmp</th>\n",
       "      <td>20.830000</td>\n",
       "      <td>17.680000</td>\n",
       "      <td>9.750000</td>\n",
       "      <td>9.61000</td>\n",
       "      <td>21.850000</td>\n",
       "      <td>18.860000</td>\n",
       "      <td>9.830000</td>\n",
       "      <td>10.640000</td>\n",
       "    </tr>\n",
       "    <tr>\n",
       "      <th>gmean</th>\n",
       "      <td>30.535077</td>\n",
       "      <td>33.667199</td>\n",
       "      <td>16.561155</td>\n",
       "      <td>20.40791</td>\n",
       "      <td>31.563624</td>\n",
       "      <td>30.193744</td>\n",
       "      <td>26.381025</td>\n",
       "      <td>22.698015</td>\n",
       "    </tr>\n",
       "  </tbody>\n",
       "</table>\n",
       "</div>"
      ],
      "text/plain": [
       "            Cygnus (2022 csim)  Cygnus (2022 ds3)  Cygnus (2023 csim)  \\\n",
       "GemsFDTD             50.570000          78.110000           31.710000   \n",
       "astar                 6.760000           6.650000            7.190000   \n",
       "bwaves              115.550000          43.490000           39.880000   \n",
       "cactusADM            51.690000          66.100000           41.050000   \n",
       "gcc                  27.220000          32.510000           10.630000   \n",
       "lbm                  15.730000          50.490000           -7.620000   \n",
       "leslie3d             40.210000          30.870000           30.960000   \n",
       "libquantum           67.320000          66.850000           51.250000   \n",
       "mcf                  14.900000          11.830000            9.520000   \n",
       "milc                  2.030000           8.870000            3.160000   \n",
       "omnetpp               3.850000          14.760000           -8.940000   \n",
       "sphinx3              40.660000          61.490000           30.530000   \n",
       "xalancbmk            11.020000          11.040000            2.830000   \n",
       "zeusmp               20.830000          17.680000            9.750000   \n",
       "gmean                30.535077          33.667199           16.561155   \n",
       "\n",
       "            Cygnus (2023 ds3)  my5 (2022 csim)  my5 (2022 ds3)  \\\n",
       "GemsFDTD             46.91000        56.450000       62.960000   \n",
       "astar                 6.79000         2.200000        2.030000   \n",
       "bwaves               18.01000        63.210000       20.870000   \n",
       "cactusADM            80.75000        42.650000       41.820000   \n",
       "gcc                  20.13000        24.570000       24.700000   \n",
       "lbm                  17.99000        14.620000       49.580000   \n",
       "leslie3d             17.45000        39.500000       25.130000   \n",
       "libquantum           50.66000        88.360000       67.040000   \n",
       "mcf                   8.45000        17.860000       24.580000   \n",
       "milc                  0.33000        16.400000       25.880000   \n",
       "omnetpp               1.34000        17.670000       19.850000   \n",
       "sphinx3              27.62000        52.660000       47.420000   \n",
       "xalancbmk             4.00000        10.990000        9.860000   \n",
       "zeusmp                9.61000        21.850000       18.860000   \n",
       "gmean                20.40791        31.563624       30.193744   \n",
       "\n",
       "            my5 (2023 csim)  my5 (2023 ds3)  \n",
       "GemsFDTD          70.570000       55.580000  \n",
       "astar              2.600000        2.230000  \n",
       "bwaves            73.090000       20.890000  \n",
       "cactusADM         51.570000       49.580000  \n",
       "gcc               12.960000       16.800000  \n",
       "lbm               -7.520000       14.810000  \n",
       "leslie3d          43.520000       19.190000  \n",
       "libquantum        76.210000       66.520000  \n",
       "mcf               13.960000       24.840000  \n",
       "milc              15.010000       14.680000  \n",
       "omnetpp            2.350000        7.020000  \n",
       "sphinx3           41.080000       29.310000  \n",
       "xalancbmk          5.180000        4.460000  \n",
       "zeusmp             9.830000       10.640000  \n",
       "gmean             26.381025       22.698015  "
      ]
     },
     "execution_count": 22,
     "metadata": {},
     "output_type": "execute_result"
    }
   ],
   "source": [
    "reload(plot)\n",
    "plot.get_benchmark_table(\n",
    "    degreedyn_1core_df, \"spec06\", \"cpu.gmean.ipc_improvement\",\n",
    "    add_mean=True).T"
   ]
  },
  {
   "cell_type": "code",
   "execution_count": 9,
   "id": "f333f15b",
   "metadata": {},
   "outputs": [
    {
     "data": {
      "image/png": "[encoded data removed]",
      "text/plain": [
       "<Figure size 1920x576 with 1 Axes>"
      ]
     },
     "metadata": {},
     "output_type": "display_data"
    }
   ],
   "source": [
    "reload(plot)\n",
    "plot.plot_benchmark_statistic(\n",
    "    degreedyn_1core_df, \"spec06\", \"cpu.gmean.ipc_improvement\",\n",
    "    add_mean=True,\n",
    "    colors=degreedyn_1core_colors,\n",
    "    hatches=degreedyn_1core_hatches,\n",
    "    legend_kwargs=degreedyn_1core_legend_kwargs,\n",
    "    label_kwargs=degreedyn_1core_label_kwargs,\n",
    "    add_suptitle=False,\n",
    "    add_xlabel=False,\n",
    "    ylabel=\"IPC improvement (%)\",\n",
    "    ylim=(0, 120),\n",
    "    ytick_distance=10,\n",
    "    dpi=192, figsize=(10, 3))\n",
    "plt.savefig(\"champsim_builds_spec06.png\")"
   ]
  },
  {
   "cell_type": "markdown",
   "id": "ff6773db",
   "metadata": {},
   "source": [
    "### spec17"
   ]
  },
  {
   "cell_type": "code",
   "execution_count": 24,
   "id": "56052cb5",
   "metadata": {},
   "outputs": [
    {
     "data": {
      "text/html": [
       "<div>\n",
       "<style scoped>\n",
       "    .dataframe tbody tr th:only-of-type {\n",
       "        vertical-align: middle;\n",
       "    }\n",
       "\n",
       "    .dataframe tbody tr th {\n",
       "        vertical-align: top;\n",
       "    }\n",
       "\n",
       "    .dataframe thead th {\n",
       "        text-align: right;\n",
       "    }\n",
       "</style>\n",
       "<table border=\"1\" class=\"dataframe\">\n",
       "  <thead>\n",
       "    <tr style=\"text-align: right;\">\n",
       "      <th></th>\n",
       "      <th>Cygnus (2022 csim)</th>\n",
       "      <th>Cygnus (2022 ds3)</th>\n",
       "      <th>Cygnus (2023 csim)</th>\n",
       "      <th>Cygnus (2023 ds3)</th>\n",
       "      <th>my5 (2022 csim)</th>\n",
       "      <th>my5 (2022 ds3)</th>\n",
       "      <th>my5 (2023 csim)</th>\n",
       "      <th>my5 (2023 ds3)</th>\n",
       "    </tr>\n",
       "  </thead>\n",
       "  <tbody>\n",
       "    <tr>\n",
       "      <th>602.gcc</th>\n",
       "      <td>71.040000</td>\n",
       "      <td>66.730000</td>\n",
       "      <td>69.100000</td>\n",
       "      <td>71.860000</td>\n",
       "      <td>68.630000</td>\n",
       "      <td>64.410000</td>\n",
       "      <td>69.950000</td>\n",
       "      <td>71.980000</td>\n",
       "    </tr>\n",
       "    <tr>\n",
       "      <th>605.mcf</th>\n",
       "      <td>-1.130000</td>\n",
       "      <td>6.730000</td>\n",
       "      <td>-2.410000</td>\n",
       "      <td>-1.540000</td>\n",
       "      <td>10.760000</td>\n",
       "      <td>10.530000</td>\n",
       "      <td>11.640000</td>\n",
       "      <td>4.530000</td>\n",
       "    </tr>\n",
       "    <tr>\n",
       "      <th>607.cactuBSSN</th>\n",
       "      <td>37.940000</td>\n",
       "      <td>28.870000</td>\n",
       "      <td>27.820000</td>\n",
       "      <td>23.690000</td>\n",
       "      <td>30.530000</td>\n",
       "      <td>11.690000</td>\n",
       "      <td>25.150000</td>\n",
       "      <td>7.130000</td>\n",
       "    </tr>\n",
       "    <tr>\n",
       "      <th>619.lbm</th>\n",
       "      <td>2.360000</td>\n",
       "      <td>22.640000</td>\n",
       "      <td>1.410000</td>\n",
       "      <td>15.090000</td>\n",
       "      <td>2.630000</td>\n",
       "      <td>21.990000</td>\n",
       "      <td>0.350000</td>\n",
       "      <td>19.940000</td>\n",
       "    </tr>\n",
       "    <tr>\n",
       "      <th>620.omnetpp</th>\n",
       "      <td>5.720000</td>\n",
       "      <td>9.370000</td>\n",
       "      <td>-3.480000</td>\n",
       "      <td>0.500000</td>\n",
       "      <td>11.120000</td>\n",
       "      <td>10.920000</td>\n",
       "      <td>2.290000</td>\n",
       "      <td>2.750000</td>\n",
       "    </tr>\n",
       "    <tr>\n",
       "      <th>623.xalancbmk</th>\n",
       "      <td>12.210000</td>\n",
       "      <td>11.420000</td>\n",
       "      <td>7.400000</td>\n",
       "      <td>7.450000</td>\n",
       "      <td>14.980000</td>\n",
       "      <td>14.320000</td>\n",
       "      <td>13.370000</td>\n",
       "      <td>13.660000</td>\n",
       "    </tr>\n",
       "    <tr>\n",
       "      <th>627.cam4</th>\n",
       "      <td>0.840000</td>\n",
       "      <td>2.350000</td>\n",
       "      <td>0.580000</td>\n",
       "      <td>1.940000</td>\n",
       "      <td>0.290000</td>\n",
       "      <td>0.710000</td>\n",
       "      <td>-0.070000</td>\n",
       "      <td>0.580000</td>\n",
       "    </tr>\n",
       "    <tr>\n",
       "      <th>628.pop2</th>\n",
       "      <td>11.140000</td>\n",
       "      <td>18.370000</td>\n",
       "      <td>7.840000</td>\n",
       "      <td>13.450000</td>\n",
       "      <td>6.310000</td>\n",
       "      <td>9.760000</td>\n",
       "      <td>5.370000</td>\n",
       "      <td>7.790000</td>\n",
       "    </tr>\n",
       "    <tr>\n",
       "      <th>649.fotonik3d</th>\n",
       "      <td>24.740000</td>\n",
       "      <td>86.030000</td>\n",
       "      <td>22.180000</td>\n",
       "      <td>30.410000</td>\n",
       "      <td>28.710000</td>\n",
       "      <td>71.520000</td>\n",
       "      <td>22.150000</td>\n",
       "      <td>50.860000</td>\n",
       "    </tr>\n",
       "    <tr>\n",
       "      <th>gmean</th>\n",
       "      <td>16.522269</td>\n",
       "      <td>25.502072</td>\n",
       "      <td>12.723833</td>\n",
       "      <td>16.401861</td>\n",
       "      <td>17.855872</td>\n",
       "      <td>21.921119</td>\n",
       "      <td>15.130894</td>\n",
       "      <td>17.930876</td>\n",
       "    </tr>\n",
       "  </tbody>\n",
       "</table>\n",
       "</div>"
      ],
      "text/plain": [
       "               Cygnus (2022 csim)  Cygnus (2022 ds3)  Cygnus (2023 csim)  \\\n",
       "602.gcc                 71.040000          66.730000           69.100000   \n",
       "605.mcf                 -1.130000           6.730000           -2.410000   \n",
       "607.cactuBSSN           37.940000          28.870000           27.820000   \n",
       "619.lbm                  2.360000          22.640000            1.410000   \n",
       "620.omnetpp              5.720000           9.370000           -3.480000   \n",
       "623.xalancbmk           12.210000          11.420000            7.400000   \n",
       "627.cam4                 0.840000           2.350000            0.580000   \n",
       "628.pop2                11.140000          18.370000            7.840000   \n",
       "649.fotonik3d           24.740000          86.030000           22.180000   \n",
       "gmean                   16.522269          25.502072           12.723833   \n",
       "\n",
       "               Cygnus (2023 ds3)  my5 (2022 csim)  my5 (2022 ds3)  \\\n",
       "602.gcc                71.860000        68.630000       64.410000   \n",
       "605.mcf                -1.540000        10.760000       10.530000   \n",
       "607.cactuBSSN          23.690000        30.530000       11.690000   \n",
       "619.lbm                15.090000         2.630000       21.990000   \n",
       "620.omnetpp             0.500000        11.120000       10.920000   \n",
       "623.xalancbmk           7.450000        14.980000       14.320000   \n",
       "627.cam4                1.940000         0.290000        0.710000   \n",
       "628.pop2               13.450000         6.310000        9.760000   \n",
       "649.fotonik3d          30.410000        28.710000       71.520000   \n",
       "gmean                  16.401861        17.855872       21.921119   \n",
       "\n",
       "               my5 (2023 csim)  my5 (2023 ds3)  \n",
       "602.gcc              69.950000       71.980000  \n",
       "605.mcf              11.640000        4.530000  \n",
       "607.cactuBSSN        25.150000        7.130000  \n",
       "619.lbm               0.350000       19.940000  \n",
       "620.omnetpp           2.290000        2.750000  \n",
       "623.xalancbmk        13.370000       13.660000  \n",
       "627.cam4             -0.070000        0.580000  \n",
       "628.pop2              5.370000        7.790000  \n",
       "649.fotonik3d        22.150000       50.860000  \n",
       "gmean                15.130894       17.930876  "
      ]
     },
     "execution_count": 24,
     "metadata": {},
     "output_type": "execute_result"
    }
   ],
   "source": [
    "reload(plot)\n",
    "plot.get_benchmark_table(\n",
    "    degreedyn_1core_df, \"spec17\", \"cpu.gmean.ipc_improvement\",\n",
    "    add_mean=True).T"
   ]
  },
  {
   "cell_type": "code",
   "execution_count": 10,
   "id": "f1c61e93",
   "metadata": {},
   "outputs": [
    {
     "data": {
      "image/png": "[encoded data removed]",
      "text/plain": [
       "<Figure size 1536x576 with 1 Axes>"
      ]
     },
     "metadata": {},
     "output_type": "display_data"
    }
   ],
   "source": [
    "reload(plot)\n",
    "plot.plot_benchmark_statistic(\n",
    "    degreedyn_1core_df, \"spec17\", \"cpu.gmean.ipc_improvement\",\n",
    "    add_mean=True,\n",
    "    colors=degreedyn_1core_colors,\n",
    "    hatches=degreedyn_1core_hatches,\n",
    "    legend_kwargs=degreedyn_1core_legend_kwargs,\n",
    "    label_kwargs=degreedyn_1core_label_kwargs,\n",
    "    add_suptitle=False,\n",
    "    add_xlabel=False,\n",
    "    ylabel=\"IPC improvement (%)\",\n",
    "    ylim=(0, 120),\n",
    "    ytick_distance=10,\n",
    "    dpi=192, figsize=(8, 3))\n",
    "plt.savefig(\"champsim_builds_spec17.png\")"
   ]
  },
  {
   "cell_type": "markdown",
   "id": "b4510090",
   "metadata": {},
   "source": [
    "### cloudsuite"
   ]
  },
  {
   "cell_type": "code",
   "execution_count": 27,
   "id": "25e6f183",
   "metadata": {},
   "outputs": [
    {
     "data": {
      "text/html": [
       "<div>\n",
       "<style scoped>\n",
       "    .dataframe tbody tr th:only-of-type {\n",
       "        vertical-align: middle;\n",
       "    }\n",
       "\n",
       "    .dataframe tbody tr th {\n",
       "        vertical-align: top;\n",
       "    }\n",
       "\n",
       "    .dataframe thead th {\n",
       "        text-align: right;\n",
       "    }\n",
       "</style>\n",
       "<table border=\"1\" class=\"dataframe\">\n",
       "  <thead>\n",
       "    <tr style=\"text-align: right;\">\n",
       "      <th></th>\n",
       "      <th>Cygnus (2022 csim)</th>\n",
       "      <th>Cygnus (2022 ds3)</th>\n",
       "      <th>Cygnus (2023 csim)</th>\n",
       "      <th>Cygnus (2023 ds3)</th>\n",
       "      <th>my5 (2022 csim)</th>\n",
       "      <th>my5 (2022 ds3)</th>\n",
       "      <th>my5 (2023 csim)</th>\n",
       "      <th>my5 (2023 ds3)</th>\n",
       "    </tr>\n",
       "  </thead>\n",
       "  <tbody>\n",
       "    <tr>\n",
       "      <th>cassandra</th>\n",
       "      <td>3.130</td>\n",
       "      <td>10.470000</td>\n",
       "      <td>-1.220000</td>\n",
       "      <td>2.930000</td>\n",
       "      <td>14.470000</td>\n",
       "      <td>10.900000</td>\n",
       "      <td>4.070000</td>\n",
       "      <td>4.500000</td>\n",
       "    </tr>\n",
       "    <tr>\n",
       "      <th>classifcation</th>\n",
       "      <td>-10.830</td>\n",
       "      <td>-10.550000</td>\n",
       "      <td>-2.210000</td>\n",
       "      <td>-2.010000</td>\n",
       "      <td>-0.720000</td>\n",
       "      <td>-1.610000</td>\n",
       "      <td>0.870000</td>\n",
       "      <td>0.670000</td>\n",
       "    </tr>\n",
       "    <tr>\n",
       "      <th>cloud9</th>\n",
       "      <td>20.190</td>\n",
       "      <td>26.300000</td>\n",
       "      <td>13.630000</td>\n",
       "      <td>15.300000</td>\n",
       "      <td>6.830000</td>\n",
       "      <td>8.140000</td>\n",
       "      <td>6.690000</td>\n",
       "      <td>6.860000</td>\n",
       "    </tr>\n",
       "    <tr>\n",
       "      <th>nutch</th>\n",
       "      <td>3.830</td>\n",
       "      <td>20.770000</td>\n",
       "      <td>3.090000</td>\n",
       "      <td>8.380000</td>\n",
       "      <td>5.630000</td>\n",
       "      <td>17.150000</td>\n",
       "      <td>3.500000</td>\n",
       "      <td>6.680000</td>\n",
       "    </tr>\n",
       "    <tr>\n",
       "      <th>gmean</th>\n",
       "      <td>3.502</td>\n",
       "      <td>10.801791</td>\n",
       "      <td>3.137893</td>\n",
       "      <td>5.955998</td>\n",
       "      <td>6.416382</td>\n",
       "      <td>8.430832</td>\n",
       "      <td>3.761899</td>\n",
       "      <td>4.647446</td>\n",
       "    </tr>\n",
       "  </tbody>\n",
       "</table>\n",
       "</div>"
      ],
      "text/plain": [
       "               Cygnus (2022 csim)  Cygnus (2022 ds3)  Cygnus (2023 csim)  \\\n",
       "cassandra                   3.130          10.470000           -1.220000   \n",
       "classifcation             -10.830         -10.550000           -2.210000   \n",
       "cloud9                     20.190          26.300000           13.630000   \n",
       "nutch                       3.830          20.770000            3.090000   \n",
       "gmean                       3.502          10.801791            3.137893   \n",
       "\n",
       "               Cygnus (2023 ds3)  my5 (2022 csim)  my5 (2022 ds3)  \\\n",
       "cassandra               2.930000        14.470000       10.900000   \n",
       "classifcation          -2.010000        -0.720000       -1.610000   \n",
       "cloud9                 15.300000         6.830000        8.140000   \n",
       "nutch                   8.380000         5.630000       17.150000   \n",
       "gmean                   5.955998         6.416382        8.430832   \n",
       "\n",
       "               my5 (2023 csim)  my5 (2023 ds3)  \n",
       "cassandra             4.070000        4.500000  \n",
       "classifcation         0.870000        0.670000  \n",
       "cloud9                6.690000        6.860000  \n",
       "nutch                 3.500000        6.680000  \n",
       "gmean                 3.761899        4.647446  "
      ]
     },
     "execution_count": 27,
     "metadata": {},
     "output_type": "execute_result"
    }
   ],
   "source": [
    "reload(plot)\n",
    "plot.get_benchmark_table(\n",
    "    degreedyn_1core_df, \"cloudsuite\", \"cpu.gmean.ipc_improvement\",\n",
    "    add_mean=True).T"
   ]
  },
  {
   "cell_type": "code",
   "execution_count": 11,
   "id": "205173d6",
   "metadata": {},
   "outputs": [
    {
     "data": {
      "image/png": "[encoded data removed]",
      "text/plain": [
       "<Figure size 960x576 with 1 Axes>"
      ]
     },
     "metadata": {},
     "output_type": "display_data"
    }
   ],
   "source": [
    "reload(plot)\n",
    "plot.plot_benchmark_statistic(\n",
    "    degreedyn_1core_df, \"cloudsuite\", \"cpu.gmean.ipc_improvement\",\n",
    "    add_mean=True,\n",
    "    colors=degreedyn_1core_colors,\n",
    "    hatches=degreedyn_1core_hatches,\n",
    "    legend_kwargs=degreedyn_1core_legend_kwargs,\n",
    "    label_kwargs=degreedyn_1core_label_kwargs,\n",
    "    add_suptitle=False,\n",
    "    add_xlabel=False,\n",
    "    ylabel=\"IPC improvement (%)\",\n",
    "    ylim=(-15, 30),\n",
    "    ytick_distance=5,\n",
    "    dpi=192, figsize=(5, 3))\n",
    "plt.savefig(\"champsim_builds_cloudsuite.png\")"
   ]
  },
  {
   "cell_type": "markdown",
   "id": "3c191de8",
   "metadata": {},
   "source": [
    "### google"
   ]
  },
  {
   "cell_type": "code",
   "execution_count": 29,
   "id": "813f9c43",
   "metadata": {},
   "outputs": [
    {
     "data": {
      "text/html": [
       "<div>\n",
       "<style scoped>\n",
       "    .dataframe tbody tr th:only-of-type {\n",
       "        vertical-align: middle;\n",
       "    }\n",
       "\n",
       "    .dataframe tbody tr th {\n",
       "        vertical-align: top;\n",
       "    }\n",
       "\n",
       "    .dataframe thead th {\n",
       "        text-align: right;\n",
       "    }\n",
       "</style>\n",
       "<table border=\"1\" class=\"dataframe\">\n",
       "  <thead>\n",
       "    <tr style=\"text-align: right;\">\n",
       "      <th></th>\n",
       "      <th>Cygnus (2022 csim)</th>\n",
       "      <th>Cygnus (2022 ds3)</th>\n",
       "      <th>Cygnus (2023 csim)</th>\n",
       "      <th>Cygnus (2023 ds3)</th>\n",
       "      <th>my5 (2022 csim)</th>\n",
       "      <th>my5 (2022 ds3)</th>\n",
       "      <th>my5 (2023 csim)</th>\n",
       "      <th>my5 (2023 ds3)</th>\n",
       "    </tr>\n",
       "  </thead>\n",
       "  <tbody>\n",
       "    <tr>\n",
       "      <th>charlie</th>\n",
       "      <td>4.950000</td>\n",
       "      <td>20.670000</td>\n",
       "      <td>-1.630000</td>\n",
       "      <td>14.240000</td>\n",
       "      <td>9.490000</td>\n",
       "      <td>10.73000</td>\n",
       "      <td>2.200000</td>\n",
       "      <td>6.390000</td>\n",
       "    </tr>\n",
       "    <tr>\n",
       "      <th>delta</th>\n",
       "      <td>0.940000</td>\n",
       "      <td>24.110000</td>\n",
       "      <td>-14.230000</td>\n",
       "      <td>4.630000</td>\n",
       "      <td>23.940000</td>\n",
       "      <td>20.35000</td>\n",
       "      <td>1.580000</td>\n",
       "      <td>2.150000</td>\n",
       "    </tr>\n",
       "    <tr>\n",
       "      <th>merced</th>\n",
       "      <td>13.820000</td>\n",
       "      <td>20.340000</td>\n",
       "      <td>13.080000</td>\n",
       "      <td>17.240000</td>\n",
       "      <td>5.160000</td>\n",
       "      <td>4.93000</td>\n",
       "      <td>2.690000</td>\n",
       "      <td>2.400000</td>\n",
       "    </tr>\n",
       "    <tr>\n",
       "      <th>whiskey</th>\n",
       "      <td>-2.020000</td>\n",
       "      <td>12.240000</td>\n",
       "      <td>-7.410000</td>\n",
       "      <td>3.270000</td>\n",
       "      <td>10.770000</td>\n",
       "      <td>10.52000</td>\n",
       "      <td>2.020000</td>\n",
       "      <td>2.930000</td>\n",
       "    </tr>\n",
       "    <tr>\n",
       "      <th>gmean</th>\n",
       "      <td>4.255852</td>\n",
       "      <td>19.258938</td>\n",
       "      <td>-3.052416</td>\n",
       "      <td>9.680924</td>\n",
       "      <td>12.128153</td>\n",
       "      <td>11.49695</td>\n",
       "      <td>2.121726</td>\n",
       "      <td>3.453521</td>\n",
       "    </tr>\n",
       "  </tbody>\n",
       "</table>\n",
       "</div>"
      ],
      "text/plain": [
       "         Cygnus (2022 csim)  Cygnus (2022 ds3)  Cygnus (2023 csim)  \\\n",
       "charlie            4.950000          20.670000           -1.630000   \n",
       "delta              0.940000          24.110000          -14.230000   \n",
       "merced            13.820000          20.340000           13.080000   \n",
       "whiskey           -2.020000          12.240000           -7.410000   \n",
       "gmean              4.255852          19.258938           -3.052416   \n",
       "\n",
       "         Cygnus (2023 ds3)  my5 (2022 csim)  my5 (2022 ds3)  my5 (2023 csim)  \\\n",
       "charlie          14.240000         9.490000        10.73000         2.200000   \n",
       "delta             4.630000        23.940000        20.35000         1.580000   \n",
       "merced           17.240000         5.160000         4.93000         2.690000   \n",
       "whiskey           3.270000        10.770000        10.52000         2.020000   \n",
       "gmean             9.680924        12.128153        11.49695         2.121726   \n",
       "\n",
       "         my5 (2023 ds3)  \n",
       "charlie        6.390000  \n",
       "delta          2.150000  \n",
       "merced         2.400000  \n",
       "whiskey        2.930000  \n",
       "gmean          3.453521  "
      ]
     },
     "execution_count": 29,
     "metadata": {},
     "output_type": "execute_result"
    }
   ],
   "source": [
    "reload(plot)\n",
    "plot.get_benchmark_table(\n",
    "    degreedyn_1core_df, \"google\", \"cpu.gmean.ipc_improvement\",\n",
    "    add_mean=True).T"
   ]
  },
  {
   "cell_type": "code",
   "execution_count": 12,
   "id": "09d51ffa",
   "metadata": {},
   "outputs": [
    {
     "data": {
      "image/png": "[encoded data removed]",
      "text/plain": [
       "<Figure size 960x576 with 1 Axes>"
      ]
     },
     "metadata": {},
     "output_type": "display_data"
    }
   ],
   "source": [
    "reload(plot)\n",
    "plot.plot_benchmark_statistic(\n",
    "    degreedyn_1core_df, \"google\", \"cpu.gmean.ipc_improvement\",\n",
    "    add_mean=True,\n",
    "    colors=degreedyn_1core_colors,\n",
    "    hatches=degreedyn_1core_hatches,\n",
    "    legend_kwargs=degreedyn_1core_legend_kwargs,\n",
    "    label_kwargs=degreedyn_1core_label_kwargs,\n",
    "    add_suptitle=False,\n",
    "    add_xlabel=False,\n",
    "    ylabel=\"IPC improvement (%)\",\n",
    "    ylim=(-15, 30),\n",
    "    ytick_distance=5,\n",
    "    dpi=192, figsize=(5, 3))\n",
    "plt.savefig(\"champsim_builds_google.png\")"
   ]
  },
  {
   "cell_type": "markdown",
   "id": "426c96f0",
   "metadata": {},
   "source": [
    "### gap"
   ]
  },
  {
   "cell_type": "code",
   "execution_count": 31,
   "id": "fad6a009",
   "metadata": {},
   "outputs": [
    {
     "data": {
      "text/html": [
       "<div>\n",
       "<style scoped>\n",
       "    .dataframe tbody tr th:only-of-type {\n",
       "        vertical-align: middle;\n",
       "    }\n",
       "\n",
       "    .dataframe tbody tr th {\n",
       "        vertical-align: top;\n",
       "    }\n",
       "\n",
       "    .dataframe thead th {\n",
       "        text-align: right;\n",
       "    }\n",
       "</style>\n",
       "<table border=\"1\" class=\"dataframe\">\n",
       "  <thead>\n",
       "    <tr style=\"text-align: right;\">\n",
       "      <th></th>\n",
       "      <th>Cygnus (2022 csim)</th>\n",
       "      <th>Cygnus (2022 ds3)</th>\n",
       "      <th>Cygnus (2023 csim)</th>\n",
       "      <th>Cygnus (2023 ds3)</th>\n",
       "      <th>my5 (2022 csim)</th>\n",
       "      <th>my5 (2022 ds3)</th>\n",
       "      <th>my5 (2023 csim)</th>\n",
       "      <th>my5 (2023 ds3)</th>\n",
       "    </tr>\n",
       "  </thead>\n",
       "  <tbody>\n",
       "    <tr>\n",
       "      <th>bc</th>\n",
       "      <td>14.020000</td>\n",
       "      <td>11.940000</td>\n",
       "      <td>14.750000</td>\n",
       "      <td>11.990000</td>\n",
       "      <td>12.390000</td>\n",
       "      <td>9.920000</td>\n",
       "      <td>15.940000</td>\n",
       "      <td>11.0700</td>\n",
       "    </tr>\n",
       "    <tr>\n",
       "      <th>bfs</th>\n",
       "      <td>87.440000</td>\n",
       "      <td>63.080000</td>\n",
       "      <td>103.370000</td>\n",
       "      <td>77.470000</td>\n",
       "      <td>61.680000</td>\n",
       "      <td>44.030000</td>\n",
       "      <td>73.000000</td>\n",
       "      <td>55.6100</td>\n",
       "    </tr>\n",
       "    <tr>\n",
       "      <th>cc</th>\n",
       "      <td>38.890000</td>\n",
       "      <td>34.990000</td>\n",
       "      <td>33.860000</td>\n",
       "      <td>34.960000</td>\n",
       "      <td>38.270000</td>\n",
       "      <td>34.360000</td>\n",
       "      <td>33.520000</td>\n",
       "      <td>34.5000</td>\n",
       "    </tr>\n",
       "    <tr>\n",
       "      <th>pr</th>\n",
       "      <td>1.950000</td>\n",
       "      <td>2.790000</td>\n",
       "      <td>34.350000</td>\n",
       "      <td>19.970000</td>\n",
       "      <td>1.400000</td>\n",
       "      <td>2.140000</td>\n",
       "      <td>59.140000</td>\n",
       "      <td>28.4900</td>\n",
       "    </tr>\n",
       "    <tr>\n",
       "      <th>sssp</th>\n",
       "      <td>13.580000</td>\n",
       "      <td>8.210000</td>\n",
       "      <td>5.110000</td>\n",
       "      <td>5.990000</td>\n",
       "      <td>9.440000</td>\n",
       "      <td>4.340000</td>\n",
       "      <td>1.370000</td>\n",
       "      <td>1.9600</td>\n",
       "    </tr>\n",
       "    <tr>\n",
       "      <th>tc</th>\n",
       "      <td>33.790000</td>\n",
       "      <td>21.080000</td>\n",
       "      <td>39.890000</td>\n",
       "      <td>23.760000</td>\n",
       "      <td>34.050000</td>\n",
       "      <td>21.090000</td>\n",
       "      <td>40.910000</td>\n",
       "      <td>24.3400</td>\n",
       "    </tr>\n",
       "    <tr>\n",
       "      <th>gmean</th>\n",
       "      <td>28.954897</td>\n",
       "      <td>22.132069</td>\n",
       "      <td>35.433613</td>\n",
       "      <td>27.127016</td>\n",
       "      <td>24.575355</td>\n",
       "      <td>18.329339</td>\n",
       "      <td>35.127183</td>\n",
       "      <td>24.8469</td>\n",
       "    </tr>\n",
       "  </tbody>\n",
       "</table>\n",
       "</div>"
      ],
      "text/plain": [
       "       Cygnus (2022 csim)  Cygnus (2022 ds3)  Cygnus (2023 csim)  \\\n",
       "bc              14.020000          11.940000           14.750000   \n",
       "bfs             87.440000          63.080000          103.370000   \n",
       "cc              38.890000          34.990000           33.860000   \n",
       "pr               1.950000           2.790000           34.350000   \n",
       "sssp            13.580000           8.210000            5.110000   \n",
       "tc              33.790000          21.080000           39.890000   \n",
       "gmean           28.954897          22.132069           35.433613   \n",
       "\n",
       "       Cygnus (2023 ds3)  my5 (2022 csim)  my5 (2022 ds3)  my5 (2023 csim)  \\\n",
       "bc             11.990000        12.390000        9.920000        15.940000   \n",
       "bfs            77.470000        61.680000       44.030000        73.000000   \n",
       "cc             34.960000        38.270000       34.360000        33.520000   \n",
       "pr             19.970000         1.400000        2.140000        59.140000   \n",
       "sssp            5.990000         9.440000        4.340000         1.370000   \n",
       "tc             23.760000        34.050000       21.090000        40.910000   \n",
       "gmean          27.127016        24.575355       18.329339        35.127183   \n",
       "\n",
       "       my5 (2023 ds3)  \n",
       "bc            11.0700  \n",
       "bfs           55.6100  \n",
       "cc            34.5000  \n",
       "pr            28.4900  \n",
       "sssp           1.9600  \n",
       "tc            24.3400  \n",
       "gmean         24.8469  "
      ]
     },
     "execution_count": 31,
     "metadata": {},
     "output_type": "execute_result"
    }
   ],
   "source": [
    "reload(plot)\n",
    "plot.get_benchmark_table(\n",
    "    degreedyn_1core_df, \"gap\", \"cpu.gmean.ipc_improvement\",\n",
    "    add_mean=True).T"
   ]
  },
  {
   "cell_type": "code",
   "execution_count": 13,
   "id": "5ff97be5",
   "metadata": {},
   "outputs": [
    {
     "data": {
      "image/png": "[encoded data removed]",
      "text/plain": [
       "<Figure size 960x576 with 1 Axes>"
      ]
     },
     "metadata": {},
     "output_type": "display_data"
    }
   ],
   "source": [
    "reload(plot)\n",
    "plot.plot_benchmark_statistic(\n",
    "    degreedyn_1core_df, \"gap\", \"cpu.gmean.ipc_improvement\",\n",
    "    add_mean=True,\n",
    "    colors=degreedyn_1core_colors,\n",
    "    hatches=degreedyn_1core_hatches,\n",
    "    legend_kwargs=degreedyn_1core_legend_kwargs,\n",
    "    label_kwargs=degreedyn_1core_label_kwargs,\n",
    "    add_suptitle=False,\n",
    "    add_xlabel=False,\n",
    "    ylabel=\"IPC improvement (%)\",\n",
    "    ylim=(0, 120),\n",
    "    ytick_distance=10,\n",
    "    dpi=192, figsize=(5, 3))\n",
    "plt.savefig(\"champsim_builds_gap.png\")"
   ]
  },
  {
   "cell_type": "markdown",
   "id": "fedb8e43",
   "metadata": {},
   "source": [
    "### gap_real"
   ]
  },
  {
   "cell_type": "code",
   "execution_count": 33,
   "id": "767b1322",
   "metadata": {},
   "outputs": [
    {
     "data": {
      "text/html": [
       "<div>\n",
       "<style scoped>\n",
       "    .dataframe tbody tr th:only-of-type {\n",
       "        vertical-align: middle;\n",
       "    }\n",
       "\n",
       "    .dataframe tbody tr th {\n",
       "        vertical-align: top;\n",
       "    }\n",
       "\n",
       "    .dataframe thead th {\n",
       "        text-align: right;\n",
       "    }\n",
       "</style>\n",
       "<table border=\"1\" class=\"dataframe\">\n",
       "  <thead>\n",
       "    <tr style=\"text-align: right;\">\n",
       "      <th></th>\n",
       "      <th>Cygnus (2022 csim)</th>\n",
       "      <th>Cygnus (2022 ds3)</th>\n",
       "      <th>Cygnus (2023 csim)</th>\n",
       "      <th>Cygnus (2023 ds3)</th>\n",
       "      <th>my5 (2022 csim)</th>\n",
       "      <th>my5 (2022 ds3)</th>\n",
       "      <th>my5 (2023 csim)</th>\n",
       "      <th>my5 (2023 ds3)</th>\n",
       "    </tr>\n",
       "  </thead>\n",
       "  <tbody>\n",
       "    <tr>\n",
       "      <th>bc__amazon-2008.mtx</th>\n",
       "      <td>1.560000</td>\n",
       "      <td>6.220000</td>\n",
       "      <td>-1.570000</td>\n",
       "      <td>4.460000</td>\n",
       "      <td>1.930000</td>\n",
       "      <td>2.250000</td>\n",
       "      <td>1.580000</td>\n",
       "      <td>1.910000</td>\n",
       "    </tr>\n",
       "    <tr>\n",
       "      <th>bc__amazon0601.mtx</th>\n",
       "      <td>0.060000</td>\n",
       "      <td>2.610000</td>\n",
       "      <td>-1.640000</td>\n",
       "      <td>1.940000</td>\n",
       "      <td>1.730000</td>\n",
       "      <td>1.760000</td>\n",
       "      <td>1.460000</td>\n",
       "      <td>1.550000</td>\n",
       "    </tr>\n",
       "    <tr>\n",
       "      <th>bc__belgium_osm.mtx</th>\n",
       "      <td>4.790000</td>\n",
       "      <td>6.050000</td>\n",
       "      <td>4.080000</td>\n",
       "      <td>6.480000</td>\n",
       "      <td>2.620000</td>\n",
       "      <td>2.320000</td>\n",
       "      <td>2.300000</td>\n",
       "      <td>2.290000</td>\n",
       "    </tr>\n",
       "    <tr>\n",
       "      <th>bc__coAuthorsCiteseer.mtx</th>\n",
       "      <td>-0.240000</td>\n",
       "      <td>5.360000</td>\n",
       "      <td>-3.050000</td>\n",
       "      <td>3.990000</td>\n",
       "      <td>2.340000</td>\n",
       "      <td>2.910000</td>\n",
       "      <td>1.680000</td>\n",
       "      <td>2.300000</td>\n",
       "    </tr>\n",
       "    <tr>\n",
       "      <th>bc__coPapersCiteseer.mtx</th>\n",
       "      <td>12.440000</td>\n",
       "      <td>13.780000</td>\n",
       "      <td>6.780000</td>\n",
       "      <td>9.310000</td>\n",
       "      <td>14.460000</td>\n",
       "      <td>11.710000</td>\n",
       "      <td>10.370000</td>\n",
       "      <td>8.430000</td>\n",
       "    </tr>\n",
       "    <tr>\n",
       "      <th>bc__com-Youtube.mtx</th>\n",
       "      <td>0.700000</td>\n",
       "      <td>8.280000</td>\n",
       "      <td>-3.600000</td>\n",
       "      <td>4.550000</td>\n",
       "      <td>1.700000</td>\n",
       "      <td>4.310000</td>\n",
       "      <td>-0.910000</td>\n",
       "      <td>2.430000</td>\n",
       "    </tr>\n",
       "    <tr>\n",
       "      <th>bc__luxembourg_osm.mtx</th>\n",
       "      <td>11.670000</td>\n",
       "      <td>10.580000</td>\n",
       "      <td>15.670000</td>\n",
       "      <td>14.920000</td>\n",
       "      <td>5.080000</td>\n",
       "      <td>4.930000</td>\n",
       "      <td>6.230000</td>\n",
       "      <td>6.160000</td>\n",
       "    </tr>\n",
       "    <tr>\n",
       "      <th>bc__netherlands_osm.mtx</th>\n",
       "      <td>6.980000</td>\n",
       "      <td>7.220000</td>\n",
       "      <td>5.110000</td>\n",
       "      <td>7.370000</td>\n",
       "      <td>2.580000</td>\n",
       "      <td>2.320000</td>\n",
       "      <td>2.140000</td>\n",
       "      <td>2.150000</td>\n",
       "    </tr>\n",
       "    <tr>\n",
       "      <th>bfs__amazon-2008.mtx</th>\n",
       "      <td>39.320000</td>\n",
       "      <td>32.140000</td>\n",
       "      <td>34.890000</td>\n",
       "      <td>34.060000</td>\n",
       "      <td>37.050000</td>\n",
       "      <td>29.270000</td>\n",
       "      <td>34.390000</td>\n",
       "      <td>32.090000</td>\n",
       "    </tr>\n",
       "    <tr>\n",
       "      <th>bfs__amazon0601.mtx</th>\n",
       "      <td>38.990000</td>\n",
       "      <td>30.910000</td>\n",
       "      <td>33.930000</td>\n",
       "      <td>31.940000</td>\n",
       "      <td>36.800000</td>\n",
       "      <td>27.890000</td>\n",
       "      <td>32.770000</td>\n",
       "      <td>29.620000</td>\n",
       "    </tr>\n",
       "    <tr>\n",
       "      <th>bfs__belgium_osm.mtx</th>\n",
       "      <td>5.820000</td>\n",
       "      <td>5.420000</td>\n",
       "      <td>10.740000</td>\n",
       "      <td>10.230000</td>\n",
       "      <td>2.020000</td>\n",
       "      <td>1.540000</td>\n",
       "      <td>2.500000</td>\n",
       "      <td>1.700000</td>\n",
       "    </tr>\n",
       "    <tr>\n",
       "      <th>bfs__coAuthorsCiteseer.mtx</th>\n",
       "      <td>40.560000</td>\n",
       "      <td>34.530000</td>\n",
       "      <td>33.950000</td>\n",
       "      <td>33.370000</td>\n",
       "      <td>37.220000</td>\n",
       "      <td>29.570000</td>\n",
       "      <td>33.130000</td>\n",
       "      <td>30.130000</td>\n",
       "    </tr>\n",
       "    <tr>\n",
       "      <th>bfs__com-Youtube.mtx</th>\n",
       "      <td>39.140000</td>\n",
       "      <td>35.690000</td>\n",
       "      <td>36.940000</td>\n",
       "      <td>34.640000</td>\n",
       "      <td>37.920000</td>\n",
       "      <td>32.640000</td>\n",
       "      <td>36.630000</td>\n",
       "      <td>32.680000</td>\n",
       "    </tr>\n",
       "    <tr>\n",
       "      <th>bfs__dblp-2010.mtx</th>\n",
       "      <td>53.150000</td>\n",
       "      <td>42.930000</td>\n",
       "      <td>46.230000</td>\n",
       "      <td>46.690000</td>\n",
       "      <td>51.810000</td>\n",
       "      <td>40.140000</td>\n",
       "      <td>47.070000</td>\n",
       "      <td>45.290000</td>\n",
       "    </tr>\n",
       "    <tr>\n",
       "      <th>bfs__in-2004.mtx</th>\n",
       "      <td>41.570000</td>\n",
       "      <td>34.510000</td>\n",
       "      <td>33.290000</td>\n",
       "      <td>30.270000</td>\n",
       "      <td>40.270000</td>\n",
       "      <td>32.070000</td>\n",
       "      <td>32.930000</td>\n",
       "      <td>29.050000</td>\n",
       "    </tr>\n",
       "    <tr>\n",
       "      <th>bfs__netherlands_osm.mtx</th>\n",
       "      <td>10.970000</td>\n",
       "      <td>10.080000</td>\n",
       "      <td>15.150000</td>\n",
       "      <td>13.850000</td>\n",
       "      <td>3.790000</td>\n",
       "      <td>3.090000</td>\n",
       "      <td>4.830000</td>\n",
       "      <td>3.450000</td>\n",
       "    </tr>\n",
       "    <tr>\n",
       "      <th>cc__amazon-2008.mtx</th>\n",
       "      <td>20.560000</td>\n",
       "      <td>19.340000</td>\n",
       "      <td>23.690000</td>\n",
       "      <td>21.370000</td>\n",
       "      <td>18.040000</td>\n",
       "      <td>15.720000</td>\n",
       "      <td>20.470000</td>\n",
       "      <td>17.210000</td>\n",
       "    </tr>\n",
       "    <tr>\n",
       "      <th>cc__amazon0601.mtx</th>\n",
       "      <td>16.690000</td>\n",
       "      <td>15.740000</td>\n",
       "      <td>19.320000</td>\n",
       "      <td>16.180000</td>\n",
       "      <td>15.270000</td>\n",
       "      <td>13.020000</td>\n",
       "      <td>17.200000</td>\n",
       "      <td>13.250000</td>\n",
       "    </tr>\n",
       "    <tr>\n",
       "      <th>cc__belgium_osm.mtx</th>\n",
       "      <td>58.500000</td>\n",
       "      <td>53.140000</td>\n",
       "      <td>46.230000</td>\n",
       "      <td>42.030000</td>\n",
       "      <td>59.640000</td>\n",
       "      <td>46.920000</td>\n",
       "      <td>46.310000</td>\n",
       "      <td>37.190000</td>\n",
       "    </tr>\n",
       "    <tr>\n",
       "      <th>cc__cnr-2000.mtx</th>\n",
       "      <td>25.620000</td>\n",
       "      <td>22.490000</td>\n",
       "      <td>29.070000</td>\n",
       "      <td>24.340000</td>\n",
       "      <td>26.280000</td>\n",
       "      <td>22.050000</td>\n",
       "      <td>29.800000</td>\n",
       "      <td>24.490000</td>\n",
       "    </tr>\n",
       "    <tr>\n",
       "      <th>cc__coPapersCiteseer.mtx</th>\n",
       "      <td>1.600000</td>\n",
       "      <td>1.870000</td>\n",
       "      <td>3.870000</td>\n",
       "      <td>2.740000</td>\n",
       "      <td>2.070000</td>\n",
       "      <td>2.320000</td>\n",
       "      <td>3.100000</td>\n",
       "      <td>2.490000</td>\n",
       "    </tr>\n",
       "    <tr>\n",
       "      <th>cc__com-Youtube.mtx</th>\n",
       "      <td>31.020000</td>\n",
       "      <td>32.570000</td>\n",
       "      <td>32.600000</td>\n",
       "      <td>29.150000</td>\n",
       "      <td>28.260000</td>\n",
       "      <td>26.230000</td>\n",
       "      <td>28.420000</td>\n",
       "      <td>23.960000</td>\n",
       "    </tr>\n",
       "    <tr>\n",
       "      <th>cc__dblp-2010.mtx</th>\n",
       "      <td>50.690000</td>\n",
       "      <td>44.980000</td>\n",
       "      <td>52.100000</td>\n",
       "      <td>46.580000</td>\n",
       "      <td>45.980000</td>\n",
       "      <td>38.320000</td>\n",
       "      <td>48.210000</td>\n",
       "      <td>40.950000</td>\n",
       "    </tr>\n",
       "    <tr>\n",
       "      <th>cc__netherlands_osm.mtx</th>\n",
       "      <td>73.810000</td>\n",
       "      <td>64.480000</td>\n",
       "      <td>59.560000</td>\n",
       "      <td>52.520000</td>\n",
       "      <td>71.810000</td>\n",
       "      <td>58.500000</td>\n",
       "      <td>58.060000</td>\n",
       "      <td>49.000000</td>\n",
       "    </tr>\n",
       "    <tr>\n",
       "      <th>cc__soc-LiveJournal1.mtx</th>\n",
       "      <td>5.950000</td>\n",
       "      <td>6.810000</td>\n",
       "      <td>7.090000</td>\n",
       "      <td>7.160000</td>\n",
       "      <td>5.470000</td>\n",
       "      <td>4.860000</td>\n",
       "      <td>6.080000</td>\n",
       "      <td>4.850000</td>\n",
       "    </tr>\n",
       "    <tr>\n",
       "      <th>cc__sx-stackoverflow.mtx</th>\n",
       "      <td>5.420000</td>\n",
       "      <td>5.070000</td>\n",
       "      <td>3.480000</td>\n",
       "      <td>3.480000</td>\n",
       "      <td>5.700000</td>\n",
       "      <td>4.820000</td>\n",
       "      <td>4.370000</td>\n",
       "      <td>3.660000</td>\n",
       "    </tr>\n",
       "    <tr>\n",
       "      <th>cc__wikipedia-20060925.mtx</th>\n",
       "      <td>9.670000</td>\n",
       "      <td>8.880000</td>\n",
       "      <td>9.440000</td>\n",
       "      <td>8.920000</td>\n",
       "      <td>9.150000</td>\n",
       "      <td>7.550000</td>\n",
       "      <td>8.750000</td>\n",
       "      <td>7.230000</td>\n",
       "    </tr>\n",
       "    <tr>\n",
       "      <th>pr__belgium_osm.mtx</th>\n",
       "      <td>27.610000</td>\n",
       "      <td>26.900000</td>\n",
       "      <td>31.230000</td>\n",
       "      <td>46.890000</td>\n",
       "      <td>16.990000</td>\n",
       "      <td>18.620000</td>\n",
       "      <td>31.960000</td>\n",
       "      <td>42.950000</td>\n",
       "    </tr>\n",
       "    <tr>\n",
       "      <th>pr__cnr-2000.mtx</th>\n",
       "      <td>11.630000</td>\n",
       "      <td>9.730000</td>\n",
       "      <td>48.380000</td>\n",
       "      <td>28.100000</td>\n",
       "      <td>9.830000</td>\n",
       "      <td>8.260000</td>\n",
       "      <td>44.730000</td>\n",
       "      <td>31.470000</td>\n",
       "    </tr>\n",
       "    <tr>\n",
       "      <th>pr__coAuthorsCiteseer.mtx</th>\n",
       "      <td>15.090000</td>\n",
       "      <td>18.040000</td>\n",
       "      <td>84.150000</td>\n",
       "      <td>64.000000</td>\n",
       "      <td>0.210000</td>\n",
       "      <td>1.830000</td>\n",
       "      <td>51.110000</td>\n",
       "      <td>38.080000</td>\n",
       "    </tr>\n",
       "    <tr>\n",
       "      <th>pr__coPapersCiteseer.mtx</th>\n",
       "      <td>10.940000</td>\n",
       "      <td>10.450000</td>\n",
       "      <td>17.410000</td>\n",
       "      <td>3.700000</td>\n",
       "      <td>3.050000</td>\n",
       "      <td>3.780000</td>\n",
       "      <td>31.180000</td>\n",
       "      <td>11.920000</td>\n",
       "    </tr>\n",
       "    <tr>\n",
       "      <th>pr__com-Youtube.mtx</th>\n",
       "      <td>13.750000</td>\n",
       "      <td>12.960000</td>\n",
       "      <td>16.270000</td>\n",
       "      <td>30.600000</td>\n",
       "      <td>3.730000</td>\n",
       "      <td>4.690000</td>\n",
       "      <td>24.380000</td>\n",
       "      <td>28.790000</td>\n",
       "    </tr>\n",
       "    <tr>\n",
       "      <th>pr__dblp-2010.mtx</th>\n",
       "      <td>26.510000</td>\n",
       "      <td>26.030000</td>\n",
       "      <td>71.140000</td>\n",
       "      <td>71.600000</td>\n",
       "      <td>13.660000</td>\n",
       "      <td>13.350000</td>\n",
       "      <td>55.100000</td>\n",
       "      <td>57.890000</td>\n",
       "    </tr>\n",
       "    <tr>\n",
       "      <th>pr__luxembourg_osm.mtx</th>\n",
       "      <td>51.260000</td>\n",
       "      <td>41.110000</td>\n",
       "      <td>84.680000</td>\n",
       "      <td>72.970000</td>\n",
       "      <td>49.590000</td>\n",
       "      <td>39.450000</td>\n",
       "      <td>89.200000</td>\n",
       "      <td>74.620000</td>\n",
       "    </tr>\n",
       "    <tr>\n",
       "      <th>pr__netherlands_osm.mtx</th>\n",
       "      <td>51.860000</td>\n",
       "      <td>43.440000</td>\n",
       "      <td>45.330000</td>\n",
       "      <td>56.410000</td>\n",
       "      <td>41.300000</td>\n",
       "      <td>33.720000</td>\n",
       "      <td>46.970000</td>\n",
       "      <td>55.530000</td>\n",
       "    </tr>\n",
       "    <tr>\n",
       "      <th>pr__soc-LiveJournal1.mtx</th>\n",
       "      <td>5.570000</td>\n",
       "      <td>4.630000</td>\n",
       "      <td>-2.640000</td>\n",
       "      <td>3.280000</td>\n",
       "      <td>0.920000</td>\n",
       "      <td>1.110000</td>\n",
       "      <td>3.240000</td>\n",
       "      <td>7.290000</td>\n",
       "    </tr>\n",
       "    <tr>\n",
       "      <th>pr__web-Google.mtx</th>\n",
       "      <td>1.470000</td>\n",
       "      <td>1.500000</td>\n",
       "      <td>0.850000</td>\n",
       "      <td>8.720000</td>\n",
       "      <td>0.240000</td>\n",
       "      <td>0.350000</td>\n",
       "      <td>3.630000</td>\n",
       "      <td>13.690000</td>\n",
       "    </tr>\n",
       "    <tr>\n",
       "      <th>gmean</th>\n",
       "      <td>20.739012</td>\n",
       "      <td>19.414963</td>\n",
       "      <td>23.561982</td>\n",
       "      <td>23.496744</td>\n",
       "      <td>17.584012</td>\n",
       "      <td>15.075904</td>\n",
       "      <td>22.612422</td>\n",
       "      <td>20.682187</td>\n",
       "    </tr>\n",
       "  </tbody>\n",
       "</table>\n",
       "</div>"
      ],
      "text/plain": [
       "                            Cygnus (2022 csim)  Cygnus (2022 ds3)  \\\n",
       "bc__amazon-2008.mtx                   1.560000           6.220000   \n",
       "bc__amazon0601.mtx                    0.060000           2.610000   \n",
       "bc__belgium_osm.mtx                   4.790000           6.050000   \n",
       "bc__coAuthorsCiteseer.mtx            -0.240000           5.360000   \n",
       "bc__coPapersCiteseer.mtx             12.440000          13.780000   \n",
       "bc__com-Youtube.mtx                   0.700000           8.280000   \n",
       "bc__luxembourg_osm.mtx               11.670000          10.580000   \n",
       "bc__netherlands_osm.mtx               6.980000           7.220000   \n",
       "bfs__amazon-2008.mtx                 39.320000          32.140000   \n",
       "bfs__amazon0601.mtx                  38.990000          30.910000   \n",
       "bfs__belgium_osm.mtx                  5.820000           5.420000   \n",
       "bfs__coAuthorsCiteseer.mtx           40.560000          34.530000   \n",
       "bfs__com-Youtube.mtx                 39.140000          35.690000   \n",
       "bfs__dblp-2010.mtx                   53.150000          42.930000   \n",
       "bfs__in-2004.mtx                     41.570000          34.510000   \n",
       "bfs__netherlands_osm.mtx             10.970000          10.080000   \n",
       "cc__amazon-2008.mtx                  20.560000          19.340000   \n",
       "cc__amazon0601.mtx                   16.690000          15.740000   \n",
       "cc__belgium_osm.mtx                  58.500000          53.140000   \n",
       "cc__cnr-2000.mtx                     25.620000          22.490000   \n",
       "cc__coPapersCiteseer.mtx              1.600000           1.870000   \n",
       "cc__com-Youtube.mtx                  31.020000          32.570000   \n",
       "cc__dblp-2010.mtx                    50.690000          44.980000   \n",
       "cc__netherlands_osm.mtx              73.810000          64.480000   \n",
       "cc__soc-LiveJournal1.mtx              5.950000           6.810000   \n",
       "cc__sx-stackoverflow.mtx              5.420000           5.070000   \n",
       "cc__wikipedia-20060925.mtx            9.670000           8.880000   \n",
       "pr__belgium_osm.mtx                  27.610000          26.900000   \n",
       "pr__cnr-2000.mtx                     11.630000           9.730000   \n",
       "pr__coAuthorsCiteseer.mtx            15.090000          18.040000   \n",
       "pr__coPapersCiteseer.mtx             10.940000          10.450000   \n",
       "pr__com-Youtube.mtx                  13.750000          12.960000   \n",
       "pr__dblp-2010.mtx                    26.510000          26.030000   \n",
       "pr__luxembourg_osm.mtx               51.260000          41.110000   \n",
       "pr__netherlands_osm.mtx              51.860000          43.440000   \n",
       "pr__soc-LiveJournal1.mtx              5.570000           4.630000   \n",
       "pr__web-Google.mtx                    1.470000           1.500000   \n",
       "gmean                                20.739012          19.414963   \n",
       "\n",
       "                            Cygnus (2023 csim)  Cygnus (2023 ds3)  \\\n",
       "bc__amazon-2008.mtx                  -1.570000           4.460000   \n",
       "bc__amazon0601.mtx                   -1.640000           1.940000   \n",
       "bc__belgium_osm.mtx                   4.080000           6.480000   \n",
       "bc__coAuthorsCiteseer.mtx            -3.050000           3.990000   \n",
       "bc__coPapersCiteseer.mtx              6.780000           9.310000   \n",
       "bc__com-Youtube.mtx                  -3.600000           4.550000   \n",
       "bc__luxembourg_osm.mtx               15.670000          14.920000   \n",
       "bc__netherlands_osm.mtx               5.110000           7.370000   \n",
       "bfs__amazon-2008.mtx                 34.890000          34.060000   \n",
       "bfs__amazon0601.mtx                  33.930000          31.940000   \n",
       "bfs__belgium_osm.mtx                 10.740000          10.230000   \n",
       "bfs__coAuthorsCiteseer.mtx           33.950000          33.370000   \n",
       "bfs__com-Youtube.mtx                 36.940000          34.640000   \n",
       "bfs__dblp-2010.mtx                   46.230000          46.690000   \n",
       "bfs__in-2004.mtx                     33.290000          30.270000   \n",
       "bfs__netherlands_osm.mtx             15.150000          13.850000   \n",
       "cc__amazon-2008.mtx                  23.690000          21.370000   \n",
       "cc__amazon0601.mtx                   19.320000          16.180000   \n",
       "cc__belgium_osm.mtx                  46.230000          42.030000   \n",
       "cc__cnr-2000.mtx                     29.070000          24.340000   \n",
       "cc__coPapersCiteseer.mtx              3.870000           2.740000   \n",
       "cc__com-Youtube.mtx                  32.600000          29.150000   \n",
       "cc__dblp-2010.mtx                    52.100000          46.580000   \n",
       "cc__netherlands_osm.mtx              59.560000          52.520000   \n",
       "cc__soc-LiveJournal1.mtx              7.090000           7.160000   \n",
       "cc__sx-stackoverflow.mtx              3.480000           3.480000   \n",
       "cc__wikipedia-20060925.mtx            9.440000           8.920000   \n",
       "pr__belgium_osm.mtx                  31.230000          46.890000   \n",
       "pr__cnr-2000.mtx                     48.380000          28.100000   \n",
       "pr__coAuthorsCiteseer.mtx            84.150000          64.000000   \n",
       "pr__coPapersCiteseer.mtx             17.410000           3.700000   \n",
       "pr__com-Youtube.mtx                  16.270000          30.600000   \n",
       "pr__dblp-2010.mtx                    71.140000          71.600000   \n",
       "pr__luxembourg_osm.mtx               84.680000          72.970000   \n",
       "pr__netherlands_osm.mtx              45.330000          56.410000   \n",
       "pr__soc-LiveJournal1.mtx             -2.640000           3.280000   \n",
       "pr__web-Google.mtx                    0.850000           8.720000   \n",
       "gmean                                23.561982          23.496744   \n",
       "\n",
       "                            my5 (2022 csim)  my5 (2022 ds3)  my5 (2023 csim)  \\\n",
       "bc__amazon-2008.mtx                1.930000        2.250000         1.580000   \n",
       "bc__amazon0601.mtx                 1.730000        1.760000         1.460000   \n",
       "bc__belgium_osm.mtx                2.620000        2.320000         2.300000   \n",
       "bc__coAuthorsCiteseer.mtx          2.340000        2.910000         1.680000   \n",
       "bc__coPapersCiteseer.mtx          14.460000       11.710000        10.370000   \n",
       "bc__com-Youtube.mtx                1.700000        4.310000        -0.910000   \n",
       "bc__luxembourg_osm.mtx             5.080000        4.930000         6.230000   \n",
       "bc__netherlands_osm.mtx            2.580000        2.320000         2.140000   \n",
       "bfs__amazon-2008.mtx              37.050000       29.270000        34.390000   \n",
       "bfs__amazon0601.mtx               36.800000       27.890000        32.770000   \n",
       "bfs__belgium_osm.mtx               2.020000        1.540000         2.500000   \n",
       "bfs__coAuthorsCiteseer.mtx        37.220000       29.570000        33.130000   \n",
       "bfs__com-Youtube.mtx              37.920000       32.640000        36.630000   \n",
       "bfs__dblp-2010.mtx                51.810000       40.140000        47.070000   \n",
       "bfs__in-2004.mtx                  40.270000       32.070000        32.930000   \n",
       "bfs__netherlands_osm.mtx           3.790000        3.090000         4.830000   \n",
       "cc__amazon-2008.mtx               18.040000       15.720000        20.470000   \n",
       "cc__amazon0601.mtx                15.270000       13.020000        17.200000   \n",
       "cc__belgium_osm.mtx               59.640000       46.920000        46.310000   \n",
       "cc__cnr-2000.mtx                  26.280000       22.050000        29.800000   \n",
       "cc__coPapersCiteseer.mtx           2.070000        2.320000         3.100000   \n",
       "cc__com-Youtube.mtx               28.260000       26.230000        28.420000   \n",
       "cc__dblp-2010.mtx                 45.980000       38.320000        48.210000   \n",
       "cc__netherlands_osm.mtx           71.810000       58.500000        58.060000   \n",
       "cc__soc-LiveJournal1.mtx           5.470000        4.860000         6.080000   \n",
       "cc__sx-stackoverflow.mtx           5.700000        4.820000         4.370000   \n",
       "cc__wikipedia-20060925.mtx         9.150000        7.550000         8.750000   \n",
       "pr__belgium_osm.mtx               16.990000       18.620000        31.960000   \n",
       "pr__cnr-2000.mtx                   9.830000        8.260000        44.730000   \n",
       "pr__coAuthorsCiteseer.mtx          0.210000        1.830000        51.110000   \n",
       "pr__coPapersCiteseer.mtx           3.050000        3.780000        31.180000   \n",
       "pr__com-Youtube.mtx                3.730000        4.690000        24.380000   \n",
       "pr__dblp-2010.mtx                 13.660000       13.350000        55.100000   \n",
       "pr__luxembourg_osm.mtx            49.590000       39.450000        89.200000   \n",
       "pr__netherlands_osm.mtx           41.300000       33.720000        46.970000   \n",
       "pr__soc-LiveJournal1.mtx           0.920000        1.110000         3.240000   \n",
       "pr__web-Google.mtx                 0.240000        0.350000         3.630000   \n",
       "gmean                             17.584012       15.075904        22.612422   \n",
       "\n",
       "                            my5 (2023 ds3)  \n",
       "bc__amazon-2008.mtx               1.910000  \n",
       "bc__amazon0601.mtx                1.550000  \n",
       "bc__belgium_osm.mtx               2.290000  \n",
       "bc__coAuthorsCiteseer.mtx         2.300000  \n",
       "bc__coPapersCiteseer.mtx          8.430000  \n",
       "bc__com-Youtube.mtx               2.430000  \n",
       "bc__luxembourg_osm.mtx            6.160000  \n",
       "bc__netherlands_osm.mtx           2.150000  \n",
       "bfs__amazon-2008.mtx             32.090000  \n",
       "bfs__amazon0601.mtx              29.620000  \n",
       "bfs__belgium_osm.mtx              1.700000  \n",
       "bfs__coAuthorsCiteseer.mtx       30.130000  \n",
       "bfs__com-Youtube.mtx             32.680000  \n",
       "bfs__dblp-2010.mtx               45.290000  \n",
       "bfs__in-2004.mtx                 29.050000  \n",
       "bfs__netherlands_osm.mtx          3.450000  \n",
       "cc__amazon-2008.mtx              17.210000  \n",
       "cc__amazon0601.mtx               13.250000  \n",
       "cc__belgium_osm.mtx              37.190000  \n",
       "cc__cnr-2000.mtx                 24.490000  \n",
       "cc__coPapersCiteseer.mtx          2.490000  \n",
       "cc__com-Youtube.mtx              23.960000  \n",
       "cc__dblp-2010.mtx                40.950000  \n",
       "cc__netherlands_osm.mtx          49.000000  \n",
       "cc__soc-LiveJournal1.mtx          4.850000  \n",
       "cc__sx-stackoverflow.mtx          3.660000  \n",
       "cc__wikipedia-20060925.mtx        7.230000  \n",
       "pr__belgium_osm.mtx              42.950000  \n",
       "pr__cnr-2000.mtx                 31.470000  \n",
       "pr__coAuthorsCiteseer.mtx        38.080000  \n",
       "pr__coPapersCiteseer.mtx         11.920000  \n",
       "pr__com-Youtube.mtx              28.790000  \n",
       "pr__dblp-2010.mtx                57.890000  \n",
       "pr__luxembourg_osm.mtx           74.620000  \n",
       "pr__netherlands_osm.mtx          55.530000  \n",
       "pr__soc-LiveJournal1.mtx          7.290000  \n",
       "pr__web-Google.mtx               13.690000  \n",
       "gmean                            20.682187  "
      ]
     },
     "execution_count": 33,
     "metadata": {},
     "output_type": "execute_result"
    }
   ],
   "source": [
    "reload(plot)\n",
    "pd.set_option(\"display.max_rows\", 500)\n",
    "plot.get_benchmark_table(\n",
    "    degreedyn_1core_df, \"gap_real\", \"cpu.gmean.ipc_improvement\",\n",
    "    add_mean=True).T"
   ]
  }
 ],
 "metadata": {
  "kernelspec": {
   "display_name": "Python 3 (ipykernel)",
   "language": "python",
   "name": "python3"
  },
  "language_info": {
   "codemirror_mode": {
    "name": "ipython",
    "version": 3
   },
   "file_extension": ".py",
   "mimetype": "text/x-python",
   "name": "python",
   "nbconvert_exporter": "python",
   "pygments_lexer": "ipython3",
   "version": "3.11.3"
  },
  "vscode": {
   "interpreter": {
    "hash": "3d4e80534d3e4c2bdec15a022c2d21fc5379936002f3b814073bde806635ec43"
   }
  }
 },
 "nbformat": 4,
 "nbformat_minor": 5
}
