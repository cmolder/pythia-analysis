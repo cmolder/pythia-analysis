{
 "cells": [
  {
   "attachments": {},
   "cell_type": "markdown",
   "id": "1f32d007-7217-4c39-857d-c3aa404bbb49",
   "metadata": {},
   "source": [
    "# cygnus-action-sampling\n",
    "\n",
    "Analyze behavior of Cygnus when performing action sampling.\n"
   ]
  },
  {
   "cell_type": "code",
   "execution_count": null,
   "id": "cbe3c31c-50fb-4536-a0f8-ed9e058e2a95",
   "metadata": {},
   "outputs": [],
   "source": [
    "from importlib import reload\n",
    "from matplotlib import colormaps\n",
    "from utils import plots, stats, tables, utils"
   ]
  },
  {
   "cell_type": "code",
   "execution_count": null,
   "id": "60bd6d6b-7187-4150-96c2-3f6767b0889d",
   "metadata": {},
   "outputs": [],
   "source": [
    "# Knobs\n",
    "base_dir = '/u/cmolder/GitHub/ChampSim/out/pythia/'\n",
    "suites = [\n",
    "    #('spec06', 'one_phase'),\n",
    "    ('spec06', 'weighted'),\n",
    "    ('gap', 'one_phase'),\n",
    "    ('google', 'one_phase')\n",
    "]\n",
    "metrics  = [\n",
    "    'ipc_improvement',\n",
    "    #'L2C_pf_issued',\n",
    "]\n",
    "features = [\n",
    "    {'Delta_Path', 'PC_Delta'}, \n",
    "    {'PC'}, \n",
    "    {'PC_Delta'}, \n",
    "    {'Delta_Path'}, \n",
    "    {'Global'}\n",
    "]\n",
    "baselines = ['spp_dev2', 'bingo', 'spp_ppf_dev']\n",
    "dpi = 192\n",
    "cmaps = {\n",
    "    'Pythia': colormaps['Blues'],\n",
    "    'Pythia-Ignore': colormaps['Purples'],\n",
    "    'Pythia-Width': colormaps['Greys'],\n",
    "    'Cygnus': colormaps['Reds'],\n",
    "    'Cygnus-Ignore': colormaps['Greens'],\n",
    "    'Cygnus-Width': colormaps['Oranges'],\n",
    "}\n",
    "\n",
    "prefetcher_schemes = [\n",
    "    \"degree1/bythio/bwaware3_ignorequeued_sampling\",\n",
    "    \"degreedyn/bythio/bwaware3_ignorequeued_sampling\",\n",
    "    \"degreedyn/bythio/bwaware3_width_moreactions_sampling\",\n",
    "]\n",
    "\n",
    "sampling_schemes = [\n",
    "    \"1random\", \"2random\", \"4random\", \"8random\",\n",
    "    \"2randomtaken\", \"4randomtaken\", \"8randomtaken\",\n",
    "]"
   ]
  },
  {
   "attachments": {},
   "cell_type": "markdown",
   "id": "b7aa1c73",
   "metadata": {},
   "source": [
    "# Plots (suites)"
   ]
  },
  {
   "cell_type": "code",
   "execution_count": null,
   "id": "3d48850b",
   "metadata": {},
   "outputs": [],
   "source": [
    "dfs = {\n",
    "    # ===\n",
    "    # ===== Degree 1 =====\n",
    "    # ===\n",
    "    # Baselines\n",
    "    'degree1/baseline': tables.load_stats_csv(\n",
    "        base_dir, 'degree1/baseline.csv', baselines, prefetchers_level='l2'),\n",
    "\n",
    "    # Pythia\n",
    "    'degree1/pythia/bwaware3': tables.load_stats_csv_pythia(\n",
    "        base_dir, 'degree1/pythia/nozeroaction.csv', \n",
    "        features),\n",
    "\n",
    "    # Cygnus\n",
    "    'degree1/bythio/bwaware3': tables.load_stats_csv_pythia(\n",
    "        base_dir, 'degree1/bythio/nozeroaction.csv', \n",
    "        features, feature_key='bythio_features'),\n",
    "\n",
    "    # Cygnus-Ignore\n",
    "    'degree1/bythio/bwaware3_ignorequeued': tables.load_stats_csv_pythia(\n",
    "        base_dir, 'degree1/bythio/nozeroaction_ignorequeued.csv', \n",
    "        features, feature_key='bythio_features'),\n",
    "\n",
    "    # Pythia-Ignore\n",
    "    'degree1/bythio/bwaware3_pythialike_ignorequeued': tables.load_stats_csv_pythia(\n",
    "        base_dir, 'degree1/bythio/nozeroaction_pythialike_ignorequeued.csv', \n",
    "        features, feature_key='bythio_features'),\n",
    "\n",
    "    # ===\n",
    "    # ===== Dynamic degree =====\n",
    "    # ===\n",
    "    # Baselines\n",
    "    'degreedyn/baseline': tables.load_stats_csv(\n",
    "        base_dir, 'degreedyn/baseline.csv', baselines, prefetchers_level='l2'),\n",
    "\n",
    "    # Pythia\n",
    "    'degreedyn/pythia/bwaware3': tables.load_stats_csv_pythia(\n",
    "        base_dir, 'degreedyn/pythia/bwaware3.csv', features),\n",
    "\n",
    "    # Cygnus\n",
    "    'degreedyn/bythio/bwaware3': tables.load_stats_csv_pythia(\n",
    "        base_dir, 'degreedyn/bythio/bwaware3.csv',\n",
    "        features, feature_key='bythio_features'),\n",
    "\n",
    "    # Cygnus-Ignore\n",
    "    'degreedyn/bythio/bwaware3_ignorequeued': tables.load_stats_csv_pythia(\n",
    "        base_dir, 'degreedyn/bythio/bwaware3_ignorequeued.csv',\n",
    "        features, feature_key='bythio_features'),\n",
    "\n",
    "    # Cygnus-Width (-4.0 threshold)\n",
    "    'degreedyn/bythio/bwaware3_width_moreactions': tables.load_stats_csv_pythia(\n",
    "        base_dir, 'degreedyn/bythio/bwaware3_width_moreactions_threshold/-4.0prefetch.csv',\n",
    "        features, feature_key='bythio_features'),\n",
    "\n",
    "    # Pythia-Ignore\n",
    "    'degreedyn/bythio/bwaware3_pythialike_ignorequeued': tables.load_stats_csv_pythia(\n",
    "        base_dir, 'degreedyn/bythio/bwaware3_pythialike_ignorequeued.csv',\n",
    "        features, feature_key='bythio_features'),\n",
    "\n",
    "    # Pythia-Width\n",
    "    'degreedyn/bythio/bwaware3_pythialike_width_moreactions': tables.load_stats_csv_pythia(\n",
    "        base_dir, 'degreedyn/bythio/bwaware3_pythialike_width_moreactions.csv',\n",
    "        features, feature_key='bythio_features'), \n",
    "}\n",
    "\n",
    "for pref in prefetcher_schemes:\n",
    "    for samp in sampling_schemes:\n",
    "        dfs[f'{pref}/{samp}'] = tables.load_stats_csv_pythia(\n",
    "            base_dir, f'{pref}/{samp}.csv', features, feature_key='bythio_features')"
   ]
  },
  {
   "attachments": {},
   "cell_type": "markdown",
   "id": "c85055af",
   "metadata": {},
   "source": [
    "## 1-core, degree 1"
   ]
  },
  {
   "cell_type": "code",
   "execution_count": null,
   "id": "e9007a72",
   "metadata": {},
   "outputs": [],
   "source": [
    "pythia_feature = 'Delta_Path, PC_Delta'\n",
    "cygnus_feature = 'PC'\n",
    "degree1_1core_config = 'bwaware3'\n",
    "\n",
    "\n",
    "degree1_1core_df = {\n",
    "    f'Pythia ({pythia_feature})': dfs[f'degree1/pythia/{degree1_1core_config}'][pythia_feature],\n",
    "    f'Pythia-Ignore ({pythia_feature})': dfs[f'degree1/bythio/{degree1_1core_config}_pythialike_ignorequeued'][pythia_feature],\n",
    "    f'Cygnus ({cygnus_feature})': dfs[f'degree1/bythio/{degree1_1core_config}'][cygnus_feature],\n",
    "    f'Cygnus-Ignore ({cygnus_feature})': dfs[f'degree1/bythio/{degree1_1core_config}_ignorequeued'][cygnus_feature],\n",
    "\n",
    "    f'Cygnus-Ignore 1 Random ({cygnus_feature})': dfs[f'degree1/bythio/{degree1_1core_config}_ignorequeued_sampling/1random'][cygnus_feature],\n",
    "    f'Cygnus-Ignore 2 Random ({cygnus_feature})': dfs[f'degree1/bythio/{degree1_1core_config}_ignorequeued_sampling/2random'][cygnus_feature],\n",
    "    f'Cygnus-Ignore 4 Random ({cygnus_feature})': dfs[f'degree1/bythio/{degree1_1core_config}_ignorequeued_sampling/4random'][cygnus_feature],\n",
    "    f'Cygnus-Ignore 8 Random ({cygnus_feature})': dfs[f'degree1/bythio/{degree1_1core_config}_ignorequeued_sampling/8random'][cygnus_feature],\n",
    "    f'Cygnus-Ignore 2 RandomTaken ({cygnus_feature})': dfs[f'degree1/bythio/{degree1_1core_config}_ignorequeued_sampling/2randomtaken'][cygnus_feature],\n",
    "    f'Cygnus-Ignore 4 RandomTaken ({cygnus_feature})': dfs[f'degree1/bythio/{degree1_1core_config}_ignorequeued_sampling/4randomtaken'][cygnus_feature],\n",
    "    f'Cygnus-Ignore 8 RandomTaken ({cygnus_feature})': dfs[f'degree1/bythio/{degree1_1core_config}_ignorequeued_sampling/8randomtaken'][cygnus_feature],\n",
    "}\n",
    "\n",
    "degree1_1core_colors = {\n",
    "    f'Pythia ({pythia_feature})': cmaps['Pythia'](0.7),\n",
    "    f'Pythia-Ignore ({pythia_feature})': cmaps['Pythia-Ignore'](0.7),\n",
    "    f'Cygnus ({cygnus_feature})': cmaps['Cygnus'](0.7),\n",
    "    f'Cygnus-Ignore ({cygnus_feature})': cmaps['Cygnus-Ignore'](0.8),\n",
    "\n",
    "    f'Cygnus-Ignore 1 Random ({cygnus_feature})': cmaps['Cygnus-Ignore'](0.3),\n",
    "    f'Cygnus-Ignore 2 Random ({cygnus_feature})': cmaps['Cygnus-Ignore'](0.4),\n",
    "    f'Cygnus-Ignore 4 Random ({cygnus_feature})': cmaps['Cygnus-Ignore'](0.5),\n",
    "    f'Cygnus-Ignore 8 Random ({cygnus_feature})': cmaps['Cygnus-Ignore'](0.6),\n",
    "    f'Cygnus-Ignore 2 RandomTaken ({cygnus_feature})': cmaps['Cygnus-Ignore'](0.7),\n",
    "    f'Cygnus-Ignore 4 RandomTaken ({cygnus_feature})': cmaps['Cygnus-Ignore'](0.8),\n",
    "    f'Cygnus-Ignore 8 RandomTaken ({cygnus_feature})': cmaps['Cygnus-Ignore'](0.9),\n",
    "}\n",
    "\n",
    "degree1_1core_legend_kwargs = {\n",
    "    'ncol': 4,\n",
    "    'fontsize': 6,\n",
    "}\n",
    "\n",
    "degree1_1core_suptitle = '512 KB, degree 1, 1 core'"
   ]
  },
  {
   "cell_type": "code",
   "execution_count": null,
   "id": "6bdf9cb2",
   "metadata": {},
   "outputs": [],
   "source": [
    "reload(plots)\n",
    "plots.plot_metric_means(degree1_1core_df, suites=suites, metric='ipc_improvement', \n",
    "                        colors=degree1_1core_colors,\n",
    "                        legend_kwargs=degree1_1core_legend_kwargs, \n",
    "                        dpi=192, figsize=(7, 4.5),\n",
    "                        suptitle=degree1_1core_suptitle)"
   ]
  },
  {
   "cell_type": "code",
   "execution_count": null,
   "id": "9938b8e4",
   "metadata": {},
   "outputs": [],
   "source": [
    "plots.plot_everything(degree1_1core_df, suites=suites, metrics=metrics, \n",
    "                      colors=degree1_1core_colors,\n",
    "                      legend_kwargs=degree1_1core_legend_kwargs, \n",
    "                      dpi=192, figsize=(12, 5.5),\n",
    "                      suptitle=degree1_1core_suptitle)"
   ]
  },
  {
   "cell_type": "code",
   "execution_count": null,
   "id": "cdd0fda7",
   "metadata": {},
   "outputs": [],
   "source": [
    "plots.plot_everything_accuracy(degree1_1core_df, suites=suites, level='L2C', \n",
    "                               colors=degree1_1core_colors,\n",
    "                               legend_kwargs=degree1_1core_legend_kwargs, \n",
    "                               dpi=192, figsize=(12, 5.5),\n",
    "                               suptitle=degree1_1core_suptitle)"
   ]
  },
  {
   "cell_type": "code",
   "execution_count": null,
   "id": "6e5ec982",
   "metadata": {},
   "outputs": [],
   "source": [
    "plots.plot_everything_coverage(degree1_1core_df, suites=suites, level='L2C', \n",
    "                               colors=degree1_1core_colors,\n",
    "                               legend_kwargs=degree1_1core_legend_kwargs, \n",
    "                               dpi=192, figsize=(12, 5.5),\n",
    "                               suptitle=degree1_1core_suptitle)"
   ]
  },
  {
   "attachments": {},
   "cell_type": "markdown",
   "id": "66bcc90b",
   "metadata": {},
   "source": [
    "## 1-core, dynamic degree"
   ]
  },
  {
   "cell_type": "code",
   "execution_count": null,
   "id": "544748bc",
   "metadata": {},
   "outputs": [],
   "source": [
    "pythia_feature = 'Delta_Path, PC_Delta'\n",
    "cygnus_feature = 'PC'\n",
    "degreedyn_1core_config = 'bwaware3'\n",
    "\n",
    "\n",
    "degreedyn_1core_df = {\n",
    "    f'Pythia ({pythia_feature})': dfs[f'degreedyn/pythia/{degreedyn_1core_config}'][pythia_feature],\n",
    "    f'Pythia-Ignore ({pythia_feature})': dfs[f'degreedyn/bythio/{degreedyn_1core_config}_pythialike_ignorequeued'][pythia_feature],\n",
    "    f'Pythia-Width ({pythia_feature})': dfs[f'degreedyn/bythio/{degreedyn_1core_config}_pythialike_width_moreactions'][pythia_feature],\n",
    "    f'Cygnus ({cygnus_feature})': dfs[f'degreedyn/bythio/{degreedyn_1core_config}'][cygnus_feature],\n",
    "    f'Cygnus-Ignore ({cygnus_feature})': dfs[f'degreedyn/bythio/{degreedyn_1core_config}_ignorequeued'][cygnus_feature],\n",
    "    f'Cygnus-Width ({pythia_feature})': dfs[f'degreedyn/bythio/{degreedyn_1core_config}_width_moreactions'][pythia_feature],\n",
    "\n",
    "    f'Cygnus-Ignore 1 Random ({cygnus_feature})': dfs[f'degreedyn/bythio/{degreedyn_1core_config}_ignorequeued_sampling/1random'][cygnus_feature],\n",
    "    f'Cygnus-Ignore 2 Random ({cygnus_feature})': dfs[f'degreedyn/bythio/{degreedyn_1core_config}_ignorequeued_sampling/2random'][cygnus_feature],\n",
    "    f'Cygnus-Ignore 4 Random ({cygnus_feature})': dfs[f'degreedyn/bythio/{degreedyn_1core_config}_ignorequeued_sampling/4random'][cygnus_feature],\n",
    "    f'Cygnus-Ignore 8 Random ({cygnus_feature})': dfs[f'degreedyn/bythio/{degreedyn_1core_config}_ignorequeued_sampling/8random'][cygnus_feature],\n",
    "    f'Cygnus-Ignore 2 RandomTaken ({cygnus_feature})': dfs[f'degreedyn/bythio/{degreedyn_1core_config}_ignorequeued_sampling/2randomtaken'][cygnus_feature],\n",
    "    f'Cygnus-Ignore 4 RandomTaken ({cygnus_feature})': dfs[f'degreedyn/bythio/{degreedyn_1core_config}_ignorequeued_sampling/4randomtaken'][cygnus_feature],\n",
    "    f'Cygnus-Ignore 8 RandomTaken ({cygnus_feature})': dfs[f'degreedyn/bythio/{degreedyn_1core_config}_ignorequeued_sampling/8randomtaken'][cygnus_feature],\n",
    "\n",
    "    f'Cygnus-Width 1 Random ({pythia_feature})': dfs[f'degreedyn/bythio/{degreedyn_1core_config}_width_moreactions_sampling/1random'][pythia_feature],\n",
    "    f'Cygnus-Width 2 Random ({pythia_feature})': dfs[f'degreedyn/bythio/{degreedyn_1core_config}_width_moreactions_sampling/2random'][pythia_feature],\n",
    "    f'Cygnus-Width 4 Random ({pythia_feature})': dfs[f'degreedyn/bythio/{degreedyn_1core_config}_width_moreactions_sampling/4random'][pythia_feature],\n",
    "    f'Cygnus-Width 8 Random ({pythia_feature})': dfs[f'degreedyn/bythio/{degreedyn_1core_config}_width_moreactions_sampling/8random'][pythia_feature],\n",
    "    f'Cygnus-Width 2 RandomTaken ({pythia_feature})': dfs[f'degreedyn/bythio/{degreedyn_1core_config}_width_moreactions_sampling/2randomtaken'][pythia_feature],\n",
    "    f'Cygnus-Width 4 RandomTaken ({pythia_feature})': dfs[f'degreedyn/bythio/{degreedyn_1core_config}_width_moreactions_sampling/4randomtaken'][pythia_feature],\n",
    "    f'Cygnus-Width 8 RandomTaken ({pythia_feature})': dfs[f'degreedyn/bythio/{degreedyn_1core_config}_width_moreactions_sampling/8randomtaken'][pythia_feature],\n",
    "}\n",
    "\n",
    "degreedyn_1core_colors = {\n",
    "    f'Pythia ({pythia_feature})': cmaps['Pythia'](0.7),\n",
    "    f'Pythia-Ignore ({pythia_feature})': cmaps['Pythia-Ignore'](0.7),\n",
    "    f'Pythia-Width ({pythia_feature})': cmaps['Pythia-Width'](0.7),\n",
    "    f'Cygnus ({cygnus_feature})': cmaps['Cygnus'](0.7),\n",
    "    f'Cygnus-Ignore ({cygnus_feature})': cmaps['Cygnus-Ignore'](0.7),\n",
    "    f'Cygnus-Width ({pythia_feature})': cmaps['Cygnus-Width'](0.7),\n",
    "\n",
    "    f'Cygnus-Ignore 1 Random ({cygnus_feature})': cmaps['Cygnus-Ignore'](0.3),\n",
    "    f'Cygnus-Ignore 2 Random ({cygnus_feature})': cmaps['Cygnus-Ignore'](0.4),\n",
    "    f'Cygnus-Ignore 4 Random ({cygnus_feature})': cmaps['Cygnus-Ignore'](0.5),\n",
    "    f'Cygnus-Ignore 8 Random ({cygnus_feature})': cmaps['Cygnus-Ignore'](0.6),\n",
    "    f'Cygnus-Ignore 2 RandomTaken ({cygnus_feature})': cmaps['Cygnus-Ignore'](0.7),\n",
    "    f'Cygnus-Ignore 4 RandomTaken ({cygnus_feature})': cmaps['Cygnus-Ignore'](0.8),\n",
    "    f'Cygnus-Ignore 8 RandomTaken ({cygnus_feature})': cmaps['Cygnus-Ignore'](0.9),\n",
    "\n",
    "    f'Cygnus-Width 1 Random ({pythia_feature})': cmaps['Cygnus-Width'](0.3),\n",
    "    f'Cygnus-Width 2 Random ({pythia_feature})': cmaps['Cygnus-Width'](0.4),\n",
    "    f'Cygnus-Width 4 Random ({pythia_feature})': cmaps['Cygnus-Width'](0.5),\n",
    "    f'Cygnus-Width 8 Random ({pythia_feature})': cmaps['Cygnus-Width'](0.6),\n",
    "    f'Cygnus-Width 2 RandomTaken ({pythia_feature})': cmaps['Cygnus-Width'](0.7),\n",
    "    f'Cygnus-Width 4 RandomTaken ({pythia_feature})': cmaps['Cygnus-Width'](0.8),\n",
    "    f'Cygnus-Width 8 RandomTaken ({pythia_feature})': cmaps['Cygnus-Width'](0.9),\n",
    "}\n",
    "\n",
    "degreedyn_1core_legend_kwargs = {\n",
    "    'ncol': 4,\n",
    "    'fontsize': 6,\n",
    "}\n",
    "\n",
    "degreedyn_1core_suptitle = '512 KB, dynamic degree, 1 core'"
   ]
  },
  {
   "cell_type": "code",
   "execution_count": null,
   "id": "532f33ec",
   "metadata": {},
   "outputs": [],
   "source": [
    "plots.plot_metric_means(degreedyn_1core_df, suites=suites, metric='ipc_improvement', \n",
    "                        colors=degreedyn_1core_colors,\n",
    "                        legend_kwargs=degreedyn_1core_legend_kwargs, \n",
    "                        dpi=192, figsize=(7, 4.5),\n",
    "                        suptitle=degreedyn_1core_suptitle)"
   ]
  },
  {
   "cell_type": "code",
   "execution_count": null,
   "id": "938670f9",
   "metadata": {},
   "outputs": [],
   "source": [
    "plots.plot_everything(degreedyn_1core_df, suites=suites, metrics=metrics, \n",
    "                      colors=degreedyn_1core_colors,\n",
    "                      legend_kwargs=degreedyn_1core_legend_kwargs, \n",
    "                      dpi=192, figsize=(12, 5.5),\n",
    "                      suptitle=degreedyn_1core_suptitle)"
   ]
  },
  {
   "cell_type": "code",
   "execution_count": null,
   "id": "2c486afb",
   "metadata": {},
   "outputs": [],
   "source": [
    "plots.plot_everything_accuracy(degreedyn_1core_df, suites=suites, level='L2C', \n",
    "                               colors=degreedyn_1core_colors,\n",
    "                               legend_kwargs=degreedyn_1core_legend_kwargs, \n",
    "                               dpi=192, figsize=(12, 5.5),\n",
    "                               suptitle=degreedyn_1core_suptitle)"
   ]
  },
  {
   "cell_type": "code",
   "execution_count": null,
   "id": "b4761e76",
   "metadata": {},
   "outputs": [],
   "source": [
    "plots.plot_everything_coverage(degreedyn_1core_df, suites=suites, level='L2C', \n",
    "                               colors=degreedyn_1core_colors,\n",
    "                               legend_kwargs=degreedyn_1core_legend_kwargs, \n",
    "                               dpi=192, figsize=(12, 5.5),\n",
    "                               suptitle=degreedyn_1core_suptitle)"
   ]
  },
  {
   "cell_type": "markdown",
   "id": "61290d31",
   "metadata": {},
   "source": [
    "# Tables"
   ]
  },
  {
   "attachments": {},
   "cell_type": "markdown",
   "id": "587a8e2c",
   "metadata": {},
   "source": [
    "## 1-core, degree 1"
   ]
  },
  {
   "cell_type": "code",
   "execution_count": null,
   "id": "521a20c9",
   "metadata": {},
   "outputs": [],
   "source": [
    "tables.table_everything(degree1_1core_df, suites=suites, metrics=metrics)"
   ]
  },
  {
   "cell_type": "code",
   "execution_count": null,
   "id": "c41ed9c3",
   "metadata": {},
   "outputs": [],
   "source": [
    "tables.table_metric_all(degree1_1core_df, suites=suites, metric='ipc_improvement')"
   ]
  },
  {
   "attachments": {},
   "cell_type": "markdown",
   "id": "f7e9f47d",
   "metadata": {},
   "source": [
    "## 1-core, dynamic degree"
   ]
  },
  {
   "cell_type": "code",
   "execution_count": null,
   "id": "20f06bb1",
   "metadata": {},
   "outputs": [],
   "source": [
    "tables.table_everything(degreedyn_1core_df, suites=suites, metrics=metrics)"
   ]
  },
  {
   "cell_type": "code",
   "execution_count": null,
   "id": "2c35c8a2",
   "metadata": {},
   "outputs": [],
   "source": [
    "tables.table_metric_all(degreedyn_1core_df, suites=suites, metric='ipc_improvement')"
   ]
  }
 ],
 "metadata": {
  "kernelspec": {
   "display_name": "Python 3 (ipykernel)",
   "language": "python",
   "name": "python3"
  },
  "language_info": {
   "codemirror_mode": {
    "name": "ipython",
    "version": 3
   },
   "file_extension": ".py",
   "mimetype": "text/x-python",
   "name": "python",
   "nbconvert_exporter": "python",
   "pygments_lexer": "ipython3",
   "version": "3.10.6"
  },
  "vscode": {
   "interpreter": {
    "hash": "3d4e80534d3e4c2bdec15a022c2d21fc5379936002f3b814073bde806635ec43"
   }
  }
 },
 "nbformat": 4,
 "nbformat_minor": 5
}
